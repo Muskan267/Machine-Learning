{
 "cells": [
  {
   "cell_type": "raw",
   "id": "6d85cfb5-726e-4c64-a982-05281dbb972b",
   "metadata": {},
   "source": [
    "Step -1 download xampp from here: https://www.apachefriends.org/index.html\n",
    "Step 2 Seach Xampp control panel in start menu and then screen will appear turn on apache spark and Mysql .\n",
    "Step 3 Then open http://localhost/phpmyadmin/ .\n",
    "Step 4 Create a databse here and import that sql file here "
   ]
  },
  {
   "cell_type": "raw",
   "id": "90b2ec21-c53e-451b-82db-86c79a049130",
   "metadata": {},
   "source": [
    "Step 5 for connecting database and juypter notebook where we will load the data we need a connector . So for that we will use SQL connectors to create a link \n",
    "between them."
   ]
  },
  {
   "cell_type": "code",
   "execution_count": 1,
   "id": "441b2120-98c5-4b76-90b0-4cbe29859d73",
   "metadata": {},
   "outputs": [
    {
     "name": "stdout",
     "output_type": "stream",
     "text": [
      "Collecting mysql.connector\n",
      "  Downloading mysql-connector-2.2.9.tar.gz (11.9 MB)\n",
      "     ---------------------------------------- 0.0/11.9 MB ? eta -:--:--\n",
      "     ---------------------------------------- 0.0/11.9 MB ? eta -:--:--\n",
      "     ---------------------------------------- 0.0/11.9 MB ? eta -:--:--\n",
      "     ---------------------------------------- 0.0/11.9 MB ? eta -:--:--\n",
      "     --------------------------------------- 0.0/11.9 MB 163.8 kB/s eta 0:01:13\n",
      "     --------------------------------------- 0.1/11.9 MB 252.2 kB/s eta 0:00:47\n",
      "      -------------------------------------- 0.2/11.9 MB 692.9 kB/s eta 0:00:17\n",
      "     - -------------------------------------- 0.4/11.9 MB 1.4 MB/s eta 0:00:08\n",
      "     -- ------------------------------------- 0.7/11.9 MB 1.9 MB/s eta 0:00:06\n",
      "     --- ------------------------------------ 1.0/11.9 MB 2.4 MB/s eta 0:00:05\n",
      "     ---- ----------------------------------- 1.2/11.9 MB 2.7 MB/s eta 0:00:04\n",
      "     ---- ----------------------------------- 1.5/11.9 MB 2.8 MB/s eta 0:00:04\n",
      "     ----- ---------------------------------- 1.8/11.9 MB 3.1 MB/s eta 0:00:04\n",
      "     ------ --------------------------------- 2.1/11.9 MB 3.4 MB/s eta 0:00:03\n",
      "     -------- ------------------------------- 2.4/11.9 MB 3.6 MB/s eta 0:00:03\n",
      "     -------- ------------------------------- 2.6/11.9 MB 3.8 MB/s eta 0:00:03\n",
      "     --------- ------------------------------ 2.9/11.9 MB 4.0 MB/s eta 0:00:03\n",
      "     ---------- ----------------------------- 3.2/11.9 MB 4.0 MB/s eta 0:00:03\n",
      "     ----------- ---------------------------- 3.5/11.9 MB 4.1 MB/s eta 0:00:03\n",
      "     ------------ --------------------------- 3.7/11.9 MB 4.2 MB/s eta 0:00:02\n",
      "     ------------- -------------------------- 4.0/11.9 MB 4.2 MB/s eta 0:00:02\n",
      "     -------------- ------------------------- 4.3/11.9 MB 4.4 MB/s eta 0:00:02\n",
      "     --------------- ------------------------ 4.6/11.9 MB 4.5 MB/s eta 0:00:02\n",
      "     ---------------- ----------------------- 4.9/11.9 MB 4.6 MB/s eta 0:00:02\n",
      "     ----------------- ---------------------- 5.2/11.9 MB 4.6 MB/s eta 0:00:02\n",
      "     ------------------ --------------------- 5.5/11.9 MB 4.7 MB/s eta 0:00:02\n",
      "     ------------------- -------------------- 5.8/11.9 MB 4.7 MB/s eta 0:00:02\n",
      "     -------------------- ------------------- 6.0/11.9 MB 4.8 MB/s eta 0:00:02\n",
      "     --------------------- ------------------ 6.3/11.9 MB 4.8 MB/s eta 0:00:02\n",
      "     ---------------------- ----------------- 6.6/11.9 MB 4.8 MB/s eta 0:00:02\n",
      "     ----------------------- ---------------- 7.0/11.9 MB 4.9 MB/s eta 0:00:01\n",
      "     ------------------------ --------------- 7.3/11.9 MB 4.9 MB/s eta 0:00:01\n",
      "     ------------------------- -------------- 7.4/11.9 MB 4.9 MB/s eta 0:00:01\n",
      "     ------------------------- -------------- 7.4/11.9 MB 4.9 MB/s eta 0:00:01\n",
      "     -------------------------- ------------- 7.8/11.9 MB 4.8 MB/s eta 0:00:01\n",
      "     --------------------------- ------------ 8.0/11.9 MB 4.8 MB/s eta 0:00:01\n",
      "     --------------------------- ------------ 8.3/11.9 MB 4.9 MB/s eta 0:00:01\n",
      "     ---------------------------- ----------- 8.6/11.9 MB 4.9 MB/s eta 0:00:01\n",
      "     ----------------------------- ---------- 8.9/11.9 MB 4.9 MB/s eta 0:00:01\n",
      "     ------------------------------- -------- 9.3/11.9 MB 5.0 MB/s eta 0:00:01\n",
      "     -------------------------------- ------- 9.6/11.9 MB 5.0 MB/s eta 0:00:01\n",
      "     --------------------------------- ------ 10.0/11.9 MB 5.1 MB/s eta 0:00:01\n",
      "     ---------------------------------- ----- 10.3/11.9 MB 5.7 MB/s eta 0:00:01\n",
      "     ----------------------------------- ---- 10.6/11.9 MB 5.7 MB/s eta 0:00:01\n",
      "     ------------------------------------ --- 10.9/11.9 MB 5.8 MB/s eta 0:00:01\n",
      "     ------------------------------------- -- 11.2/11.9 MB 5.8 MB/s eta 0:00:01\n",
      "     -------------------------------------- - 11.4/11.9 MB 5.8 MB/s eta 0:00:01\n",
      "     ---------------------------------------  11.8/11.9 MB 5.8 MB/s eta 0:00:01\n",
      "     ---------------------------------------  11.8/11.9 MB 5.8 MB/s eta 0:00:01\n",
      "     ---------------------------------------  11.8/11.9 MB 5.8 MB/s eta 0:00:01\n",
      "     ---------------------------------------- 11.9/11.9 MB 5.5 MB/s eta 0:00:00\n",
      "  Installing build dependencies: started\n",
      "  Installing build dependencies: still running...\n",
      "  Installing build dependencies: finished with status 'done'\n",
      "  Getting requirements to build wheel: started\n",
      "  Getting requirements to build wheel: finished with status 'done'\n",
      "  Preparing metadata (pyproject.toml): started\n",
      "  Preparing metadata (pyproject.toml): finished with status 'done'\n",
      "Building wheels for collected packages: mysql.connector\n",
      "  Building wheel for mysql.connector (pyproject.toml): started\n",
      "  Building wheel for mysql.connector (pyproject.toml): finished with status 'done'\n",
      "  Created wheel for mysql.connector: filename=mysql_connector-2.2.9-cp312-cp312-win_amd64.whl size=247959 sha256=fbf3a6d94bdd9318ee3c1dce7493ffdb00da770d6eb569537bce25f4b1d39c45\n",
      "  Stored in directory: c:\\users\\hp\\appdata\\local\\pip\\cache\\wheels\\03\\17\\fa\\d7604c72dd3dd6d3eb3d249abf36cc532c9a9b4354b8f1bc4f\n",
      "Successfully built mysql.connector\n",
      "Installing collected packages: mysql.connector\n",
      "Successfully installed mysql.connector-2.2.9\n"
     ]
    },
    {
     "name": "stderr",
     "output_type": "stream",
     "text": [
      "\n",
      "[notice] A new release of pip is available: 24.0 -> 24.2\n",
      "[notice] To update, run: python.exe -m pip install --upgrade pip\n"
     ]
    }
   ],
   "source": [
    "! pip install mysql.connector"
   ]
  },
  {
   "cell_type": "code",
   "execution_count": 1,
   "id": "501fc8fc-f336-4144-af4a-f34e150e3fc4",
   "metadata": {},
   "outputs": [],
   "source": [
    "import mysql.connector"
   ]
  },
  {
   "cell_type": "code",
   "execution_count": 2,
   "id": "7c89b9ae-b72e-4a9e-b112-d2c09aa09616",
   "metadata": {},
   "outputs": [],
   "source": [
    "con = mysql.connector.connect(host='localhost',user='root',password='',database='world')"
   ]
  },
  {
   "cell_type": "code",
   "execution_count": 3,
   "id": "0e7b3e56-5dc3-48c5-936a-fc0db0653905",
   "metadata": {
    "scrolled": true
   },
   "outputs": [
    {
     "data": {
      "text/plain": [
       "<mysql.connector.connection.MySQLConnection at 0x2280c8ca420>"
      ]
     },
     "execution_count": 3,
     "metadata": {},
     "output_type": "execute_result"
    }
   ],
   "source": [
    "con"
   ]
  },
  {
   "cell_type": "code",
   "execution_count": 5,
   "id": "8293bae3-6769-408a-9dd0-51ee957b4346",
   "metadata": {},
   "outputs": [],
   "source": [
    "import pandas as pd"
   ]
  },
  {
   "cell_type": "code",
   "execution_count": 6,
   "id": "9d52fbff-a96b-4211-a038-32b4582c4534",
   "metadata": {},
   "outputs": [
    {
     "name": "stderr",
     "output_type": "stream",
     "text": [
      "C:\\Users\\hp\\AppData\\Local\\Temp\\ipykernel_12976\\920941377.py:1: UserWarning: pandas only supports SQLAlchemy connectable (engine/connection) or database string URI or sqlite3 DBAPI2 connection. Other DBAPI2 objects are not tested. Please consider using SQLAlchemy.\n",
      "  df = pd.read_sql_query(\"SELECT * FROM countrylanguage\",con)\n"
     ]
    }
   ],
   "source": [
    "df = pd.read_sql_query(\"SELECT * FROM countrylanguage\",con)"
   ]
  },
  {
   "cell_type": "code",
   "execution_count": 7,
   "id": "bf23782b-8de4-4e8e-857a-c06433afcb68",
   "metadata": {},
   "outputs": [
    {
     "data": {
      "text/html": [
       "<div>\n",
       "<style scoped>\n",
       "    .dataframe tbody tr th:only-of-type {\n",
       "        vertical-align: middle;\n",
       "    }\n",
       "\n",
       "    .dataframe tbody tr th {\n",
       "        vertical-align: top;\n",
       "    }\n",
       "\n",
       "    .dataframe thead th {\n",
       "        text-align: right;\n",
       "    }\n",
       "</style>\n",
       "<table border=\"1\" class=\"dataframe\">\n",
       "  <thead>\n",
       "    <tr style=\"text-align: right;\">\n",
       "      <th></th>\n",
       "      <th>CountryCode</th>\n",
       "      <th>Language</th>\n",
       "      <th>IsOfficial</th>\n",
       "      <th>Percentage</th>\n",
       "    </tr>\n",
       "  </thead>\n",
       "  <tbody>\n",
       "    <tr>\n",
       "      <th>0</th>\n",
       "      <td>ABW</td>\n",
       "      <td>Dutch</td>\n",
       "      <td>T</td>\n",
       "      <td>5.3</td>\n",
       "    </tr>\n",
       "    <tr>\n",
       "      <th>1</th>\n",
       "      <td>ABW</td>\n",
       "      <td>English</td>\n",
       "      <td>F</td>\n",
       "      <td>9.5</td>\n",
       "    </tr>\n",
       "    <tr>\n",
       "      <th>2</th>\n",
       "      <td>ABW</td>\n",
       "      <td>Papiamento</td>\n",
       "      <td>F</td>\n",
       "      <td>76.7</td>\n",
       "    </tr>\n",
       "    <tr>\n",
       "      <th>3</th>\n",
       "      <td>ABW</td>\n",
       "      <td>Spanish</td>\n",
       "      <td>F</td>\n",
       "      <td>7.4</td>\n",
       "    </tr>\n",
       "    <tr>\n",
       "      <th>4</th>\n",
       "      <td>AFG</td>\n",
       "      <td>Balochi</td>\n",
       "      <td>F</td>\n",
       "      <td>0.9</td>\n",
       "    </tr>\n",
       "    <tr>\n",
       "      <th>...</th>\n",
       "      <td>...</td>\n",
       "      <td>...</td>\n",
       "      <td>...</td>\n",
       "      <td>...</td>\n",
       "    </tr>\n",
       "    <tr>\n",
       "      <th>979</th>\n",
       "      <td>ZMB</td>\n",
       "      <td>Tongan</td>\n",
       "      <td>F</td>\n",
       "      <td>11.0</td>\n",
       "    </tr>\n",
       "    <tr>\n",
       "      <th>980</th>\n",
       "      <td>ZWE</td>\n",
       "      <td>English</td>\n",
       "      <td>T</td>\n",
       "      <td>2.2</td>\n",
       "    </tr>\n",
       "    <tr>\n",
       "      <th>981</th>\n",
       "      <td>ZWE</td>\n",
       "      <td>Ndebele</td>\n",
       "      <td>F</td>\n",
       "      <td>16.2</td>\n",
       "    </tr>\n",
       "    <tr>\n",
       "      <th>982</th>\n",
       "      <td>ZWE</td>\n",
       "      <td>Nyanja</td>\n",
       "      <td>F</td>\n",
       "      <td>2.2</td>\n",
       "    </tr>\n",
       "    <tr>\n",
       "      <th>983</th>\n",
       "      <td>ZWE</td>\n",
       "      <td>Shona</td>\n",
       "      <td>F</td>\n",
       "      <td>72.1</td>\n",
       "    </tr>\n",
       "  </tbody>\n",
       "</table>\n",
       "<p>984 rows × 4 columns</p>\n",
       "</div>"
      ],
      "text/plain": [
       "    CountryCode    Language IsOfficial  Percentage\n",
       "0           ABW       Dutch          T         5.3\n",
       "1           ABW     English          F         9.5\n",
       "2           ABW  Papiamento          F        76.7\n",
       "3           ABW     Spanish          F         7.4\n",
       "4           AFG     Balochi          F         0.9\n",
       "..          ...         ...        ...         ...\n",
       "979         ZMB      Tongan          F        11.0\n",
       "980         ZWE     English          T         2.2\n",
       "981         ZWE     Ndebele          F        16.2\n",
       "982         ZWE      Nyanja          F         2.2\n",
       "983         ZWE       Shona          F        72.1\n",
       "\n",
       "[984 rows x 4 columns]"
      ]
     },
     "execution_count": 7,
     "metadata": {},
     "output_type": "execute_result"
    }
   ],
   "source": [
    "df"
   ]
  },
  {
   "cell_type": "code",
   "execution_count": null,
   "id": "e34491d9-0e50-42fa-8104-ade27e9765b6",
   "metadata": {},
   "outputs": [],
   "source": []
  }
 ],
 "metadata": {
  "kernelspec": {
   "display_name": "Python 3 (ipykernel)",
   "language": "python",
   "name": "python3"
  },
  "language_info": {
   "codemirror_mode": {
    "name": "ipython",
    "version": 3
   },
   "file_extension": ".py",
   "mimetype": "text/x-python",
   "name": "python",
   "nbconvert_exporter": "python",
   "pygments_lexer": "ipython3",
   "version": "3.12.3"
  }
 },
 "nbformat": 4,
 "nbformat_minor": 5
}
