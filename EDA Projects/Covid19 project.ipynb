{
 "cells": [
  {
   "cell_type": "code",
   "execution_count": 57,
   "id": "959fbe15",
   "metadata": {},
   "outputs": [],
   "source": [
    "import numpy as np\n",
    "from scipy import stats\n",
    "import scipy\n",
    "import warnings\n",
    "import pandas as pd\n",
    "import matplotlib.pyplot as plt\n",
    "import seaborn as sns\n",
    "#from stemgraphic import stem_graphic\n",
    "from scipy import stats\n",
    "from scipy.ndimage import mean, median, variance\n",
    "warnings.simplefilter('ignore', DeprecationWarning)"
   ]
  },
  {
   "cell_type": "markdown",
   "id": "e37b1aa4",
   "metadata": {},
   "source": [
    "# LOADING OF DATASET"
   ]
  },
  {
   "cell_type": "code",
   "execution_count": 2,
   "id": "cf1558f5",
   "metadata": {},
   "outputs": [
    {
     "data": {
      "text/html": [
       "<div>\n",
       "<style scoped>\n",
       "    .dataframe tbody tr th:only-of-type {\n",
       "        vertical-align: middle;\n",
       "    }\n",
       "\n",
       "    .dataframe tbody tr th {\n",
       "        vertical-align: top;\n",
       "    }\n",
       "\n",
       "    .dataframe thead th {\n",
       "        text-align: right;\n",
       "    }\n",
       "</style>\n",
       "<table border=\"1\" class=\"dataframe\">\n",
       "  <thead>\n",
       "    <tr style=\"text-align: right;\">\n",
       "      <th></th>\n",
       "      <th>date</th>\n",
       "      <th>confirmed</th>\n",
       "      <th>vaccines</th>\n",
       "      <th>people_vaccinated</th>\n",
       "      <th>people_fully_vaccinated</th>\n",
       "      <th>school_closing</th>\n",
       "      <th>workplace_closing</th>\n",
       "      <th>cancel_events</th>\n",
       "      <th>gatherings_restrictions</th>\n",
       "      <th>transport_closing</th>\n",
       "      <th>stay_home_restrictions</th>\n",
       "      <th>internal_movement_restrictions</th>\n",
       "      <th>international_movement_restrictions</th>\n",
       "      <th>information_campaigns</th>\n",
       "      <th>contact_tracing</th>\n",
       "      <th>facial_coverings</th>\n",
       "    </tr>\n",
       "  </thead>\n",
       "  <tbody>\n",
       "    <tr>\n",
       "      <th>0</th>\n",
       "      <td>22-01-2020</td>\n",
       "      <td>NaN</td>\n",
       "      <td>0.0</td>\n",
       "      <td>NaN</td>\n",
       "      <td>NaN</td>\n",
       "      <td>0.0</td>\n",
       "      <td>0.0</td>\n",
       "      <td>0.0</td>\n",
       "      <td>0.0</td>\n",
       "      <td>0.0</td>\n",
       "      <td>0.0</td>\n",
       "      <td>0.0</td>\n",
       "      <td>0.0</td>\n",
       "      <td>0.0</td>\n",
       "      <td>0.0</td>\n",
       "      <td>0.0</td>\n",
       "    </tr>\n",
       "    <tr>\n",
       "      <th>1</th>\n",
       "      <td>23-01-2020</td>\n",
       "      <td>NaN</td>\n",
       "      <td>0.0</td>\n",
       "      <td>NaN</td>\n",
       "      <td>NaN</td>\n",
       "      <td>0.0</td>\n",
       "      <td>0.0</td>\n",
       "      <td>0.0</td>\n",
       "      <td>0.0</td>\n",
       "      <td>0.0</td>\n",
       "      <td>0.0</td>\n",
       "      <td>0.0</td>\n",
       "      <td>0.0</td>\n",
       "      <td>0.0</td>\n",
       "      <td>0.0</td>\n",
       "      <td>0.0</td>\n",
       "    </tr>\n",
       "    <tr>\n",
       "      <th>2</th>\n",
       "      <td>24-01-2020</td>\n",
       "      <td>NaN</td>\n",
       "      <td>0.0</td>\n",
       "      <td>NaN</td>\n",
       "      <td>NaN</td>\n",
       "      <td>0.0</td>\n",
       "      <td>0.0</td>\n",
       "      <td>0.0</td>\n",
       "      <td>0.0</td>\n",
       "      <td>0.0</td>\n",
       "      <td>0.0</td>\n",
       "      <td>0.0</td>\n",
       "      <td>0.0</td>\n",
       "      <td>0.0</td>\n",
       "      <td>0.0</td>\n",
       "      <td>0.0</td>\n",
       "    </tr>\n",
       "    <tr>\n",
       "      <th>3</th>\n",
       "      <td>25-01-2020</td>\n",
       "      <td>NaN</td>\n",
       "      <td>0.0</td>\n",
       "      <td>NaN</td>\n",
       "      <td>NaN</td>\n",
       "      <td>0.0</td>\n",
       "      <td>0.0</td>\n",
       "      <td>0.0</td>\n",
       "      <td>0.0</td>\n",
       "      <td>0.0</td>\n",
       "      <td>0.0</td>\n",
       "      <td>0.0</td>\n",
       "      <td>0.0</td>\n",
       "      <td>1.0</td>\n",
       "      <td>0.0</td>\n",
       "      <td>0.0</td>\n",
       "    </tr>\n",
       "    <tr>\n",
       "      <th>4</th>\n",
       "      <td>26-01-2020</td>\n",
       "      <td>NaN</td>\n",
       "      <td>0.0</td>\n",
       "      <td>NaN</td>\n",
       "      <td>NaN</td>\n",
       "      <td>0.0</td>\n",
       "      <td>0.0</td>\n",
       "      <td>0.0</td>\n",
       "      <td>0.0</td>\n",
       "      <td>0.0</td>\n",
       "      <td>-1.0</td>\n",
       "      <td>0.0</td>\n",
       "      <td>1.0</td>\n",
       "      <td>1.0</td>\n",
       "      <td>1.0</td>\n",
       "      <td>0.0</td>\n",
       "    </tr>\n",
       "    <tr>\n",
       "      <th>5</th>\n",
       "      <td>27-01-2020</td>\n",
       "      <td>NaN</td>\n",
       "      <td>0.0</td>\n",
       "      <td>NaN</td>\n",
       "      <td>NaN</td>\n",
       "      <td>0.0</td>\n",
       "      <td>0.0</td>\n",
       "      <td>0.0</td>\n",
       "      <td>0.0</td>\n",
       "      <td>0.0</td>\n",
       "      <td>-1.0</td>\n",
       "      <td>0.0</td>\n",
       "      <td>1.0</td>\n",
       "      <td>1.0</td>\n",
       "      <td>1.0</td>\n",
       "      <td>0.0</td>\n",
       "    </tr>\n",
       "    <tr>\n",
       "      <th>6</th>\n",
       "      <td>28-01-2020</td>\n",
       "      <td>NaN</td>\n",
       "      <td>0.0</td>\n",
       "      <td>NaN</td>\n",
       "      <td>NaN</td>\n",
       "      <td>0.0</td>\n",
       "      <td>0.0</td>\n",
       "      <td>0.0</td>\n",
       "      <td>0.0</td>\n",
       "      <td>0.0</td>\n",
       "      <td>-1.0</td>\n",
       "      <td>0.0</td>\n",
       "      <td>1.0</td>\n",
       "      <td>1.0</td>\n",
       "      <td>1.0</td>\n",
       "      <td>0.0</td>\n",
       "    </tr>\n",
       "    <tr>\n",
       "      <th>7</th>\n",
       "      <td>29-01-2020</td>\n",
       "      <td>NaN</td>\n",
       "      <td>0.0</td>\n",
       "      <td>NaN</td>\n",
       "      <td>NaN</td>\n",
       "      <td>0.0</td>\n",
       "      <td>0.0</td>\n",
       "      <td>0.0</td>\n",
       "      <td>0.0</td>\n",
       "      <td>0.0</td>\n",
       "      <td>-1.0</td>\n",
       "      <td>0.0</td>\n",
       "      <td>1.0</td>\n",
       "      <td>1.0</td>\n",
       "      <td>1.0</td>\n",
       "      <td>0.0</td>\n",
       "    </tr>\n",
       "    <tr>\n",
       "      <th>8</th>\n",
       "      <td>30-01-2020</td>\n",
       "      <td>1.0</td>\n",
       "      <td>0.0</td>\n",
       "      <td>NaN</td>\n",
       "      <td>NaN</td>\n",
       "      <td>0.0</td>\n",
       "      <td>0.0</td>\n",
       "      <td>0.0</td>\n",
       "      <td>0.0</td>\n",
       "      <td>0.0</td>\n",
       "      <td>-1.0</td>\n",
       "      <td>0.0</td>\n",
       "      <td>1.0</td>\n",
       "      <td>1.0</td>\n",
       "      <td>1.0</td>\n",
       "      <td>0.0</td>\n",
       "    </tr>\n",
       "    <tr>\n",
       "      <th>9</th>\n",
       "      <td>31-01-2020</td>\n",
       "      <td>1.0</td>\n",
       "      <td>0.0</td>\n",
       "      <td>NaN</td>\n",
       "      <td>NaN</td>\n",
       "      <td>0.0</td>\n",
       "      <td>0.0</td>\n",
       "      <td>0.0</td>\n",
       "      <td>0.0</td>\n",
       "      <td>0.0</td>\n",
       "      <td>-1.0</td>\n",
       "      <td>0.0</td>\n",
       "      <td>1.0</td>\n",
       "      <td>1.0</td>\n",
       "      <td>2.0</td>\n",
       "      <td>0.0</td>\n",
       "    </tr>\n",
       "    <tr>\n",
       "      <th>10</th>\n",
       "      <td>01-02-2020</td>\n",
       "      <td>1.0</td>\n",
       "      <td>0.0</td>\n",
       "      <td>NaN</td>\n",
       "      <td>NaN</td>\n",
       "      <td>0.0</td>\n",
       "      <td>0.0</td>\n",
       "      <td>0.0</td>\n",
       "      <td>0.0</td>\n",
       "      <td>0.0</td>\n",
       "      <td>-1.0</td>\n",
       "      <td>0.0</td>\n",
       "      <td>1.0</td>\n",
       "      <td>1.0</td>\n",
       "      <td>2.0</td>\n",
       "      <td>0.0</td>\n",
       "    </tr>\n",
       "    <tr>\n",
       "      <th>11</th>\n",
       "      <td>02-02-2020</td>\n",
       "      <td>2.0</td>\n",
       "      <td>0.0</td>\n",
       "      <td>NaN</td>\n",
       "      <td>NaN</td>\n",
       "      <td>0.0</td>\n",
       "      <td>0.0</td>\n",
       "      <td>0.0</td>\n",
       "      <td>0.0</td>\n",
       "      <td>0.0</td>\n",
       "      <td>-1.0</td>\n",
       "      <td>0.0</td>\n",
       "      <td>1.0</td>\n",
       "      <td>1.0</td>\n",
       "      <td>2.0</td>\n",
       "      <td>0.0</td>\n",
       "    </tr>\n",
       "    <tr>\n",
       "      <th>12</th>\n",
       "      <td>03-02-2020</td>\n",
       "      <td>3.0</td>\n",
       "      <td>0.0</td>\n",
       "      <td>NaN</td>\n",
       "      <td>NaN</td>\n",
       "      <td>0.0</td>\n",
       "      <td>0.0</td>\n",
       "      <td>0.0</td>\n",
       "      <td>0.0</td>\n",
       "      <td>0.0</td>\n",
       "      <td>-1.0</td>\n",
       "      <td>0.0</td>\n",
       "      <td>1.0</td>\n",
       "      <td>1.0</td>\n",
       "      <td>2.0</td>\n",
       "      <td>0.0</td>\n",
       "    </tr>\n",
       "    <tr>\n",
       "      <th>13</th>\n",
       "      <td>04-02-2020</td>\n",
       "      <td>3.0</td>\n",
       "      <td>0.0</td>\n",
       "      <td>NaN</td>\n",
       "      <td>NaN</td>\n",
       "      <td>0.0</td>\n",
       "      <td>0.0</td>\n",
       "      <td>0.0</td>\n",
       "      <td>0.0</td>\n",
       "      <td>0.0</td>\n",
       "      <td>-1.0</td>\n",
       "      <td>0.0</td>\n",
       "      <td>1.0</td>\n",
       "      <td>1.0</td>\n",
       "      <td>2.0</td>\n",
       "      <td>0.0</td>\n",
       "    </tr>\n",
       "    <tr>\n",
       "      <th>14</th>\n",
       "      <td>05-02-2020</td>\n",
       "      <td>3.0</td>\n",
       "      <td>0.0</td>\n",
       "      <td>NaN</td>\n",
       "      <td>NaN</td>\n",
       "      <td>0.0</td>\n",
       "      <td>0.0</td>\n",
       "      <td>0.0</td>\n",
       "      <td>0.0</td>\n",
       "      <td>0.0</td>\n",
       "      <td>-1.0</td>\n",
       "      <td>0.0</td>\n",
       "      <td>1.0</td>\n",
       "      <td>1.0</td>\n",
       "      <td>2.0</td>\n",
       "      <td>0.0</td>\n",
       "    </tr>\n",
       "    <tr>\n",
       "      <th>15</th>\n",
       "      <td>06-02-2020</td>\n",
       "      <td>3.0</td>\n",
       "      <td>0.0</td>\n",
       "      <td>NaN</td>\n",
       "      <td>NaN</td>\n",
       "      <td>0.0</td>\n",
       "      <td>0.0</td>\n",
       "      <td>0.0</td>\n",
       "      <td>0.0</td>\n",
       "      <td>0.0</td>\n",
       "      <td>-1.0</td>\n",
       "      <td>0.0</td>\n",
       "      <td>1.0</td>\n",
       "      <td>1.0</td>\n",
       "      <td>2.0</td>\n",
       "      <td>0.0</td>\n",
       "    </tr>\n",
       "    <tr>\n",
       "      <th>16</th>\n",
       "      <td>07-02-2020</td>\n",
       "      <td>3.0</td>\n",
       "      <td>0.0</td>\n",
       "      <td>NaN</td>\n",
       "      <td>NaN</td>\n",
       "      <td>0.0</td>\n",
       "      <td>0.0</td>\n",
       "      <td>0.0</td>\n",
       "      <td>0.0</td>\n",
       "      <td>0.0</td>\n",
       "      <td>-1.0</td>\n",
       "      <td>0.0</td>\n",
       "      <td>1.0</td>\n",
       "      <td>1.0</td>\n",
       "      <td>2.0</td>\n",
       "      <td>0.0</td>\n",
       "    </tr>\n",
       "    <tr>\n",
       "      <th>17</th>\n",
       "      <td>08-02-2020</td>\n",
       "      <td>3.0</td>\n",
       "      <td>0.0</td>\n",
       "      <td>NaN</td>\n",
       "      <td>NaN</td>\n",
       "      <td>0.0</td>\n",
       "      <td>0.0</td>\n",
       "      <td>0.0</td>\n",
       "      <td>0.0</td>\n",
       "      <td>0.0</td>\n",
       "      <td>-1.0</td>\n",
       "      <td>0.0</td>\n",
       "      <td>1.0</td>\n",
       "      <td>1.0</td>\n",
       "      <td>2.0</td>\n",
       "      <td>0.0</td>\n",
       "    </tr>\n",
       "    <tr>\n",
       "      <th>18</th>\n",
       "      <td>09-02-2020</td>\n",
       "      <td>3.0</td>\n",
       "      <td>0.0</td>\n",
       "      <td>NaN</td>\n",
       "      <td>NaN</td>\n",
       "      <td>0.0</td>\n",
       "      <td>0.0</td>\n",
       "      <td>0.0</td>\n",
       "      <td>0.0</td>\n",
       "      <td>0.0</td>\n",
       "      <td>-1.0</td>\n",
       "      <td>0.0</td>\n",
       "      <td>1.0</td>\n",
       "      <td>1.0</td>\n",
       "      <td>2.0</td>\n",
       "      <td>0.0</td>\n",
       "    </tr>\n",
       "    <tr>\n",
       "      <th>19</th>\n",
       "      <td>10-02-2020</td>\n",
       "      <td>3.0</td>\n",
       "      <td>0.0</td>\n",
       "      <td>NaN</td>\n",
       "      <td>NaN</td>\n",
       "      <td>0.0</td>\n",
       "      <td>0.0</td>\n",
       "      <td>0.0</td>\n",
       "      <td>0.0</td>\n",
       "      <td>0.0</td>\n",
       "      <td>-1.0</td>\n",
       "      <td>0.0</td>\n",
       "      <td>1.0</td>\n",
       "      <td>1.0</td>\n",
       "      <td>2.0</td>\n",
       "      <td>0.0</td>\n",
       "    </tr>\n",
       "  </tbody>\n",
       "</table>\n",
       "</div>"
      ],
      "text/plain": [
       "          date  confirmed  vaccines  people_vaccinated  \\\n",
       "0   22-01-2020        NaN       0.0                NaN   \n",
       "1   23-01-2020        NaN       0.0                NaN   \n",
       "2   24-01-2020        NaN       0.0                NaN   \n",
       "3   25-01-2020        NaN       0.0                NaN   \n",
       "4   26-01-2020        NaN       0.0                NaN   \n",
       "5   27-01-2020        NaN       0.0                NaN   \n",
       "6   28-01-2020        NaN       0.0                NaN   \n",
       "7   29-01-2020        NaN       0.0                NaN   \n",
       "8   30-01-2020        1.0       0.0                NaN   \n",
       "9   31-01-2020        1.0       0.0                NaN   \n",
       "10  01-02-2020        1.0       0.0                NaN   \n",
       "11  02-02-2020        2.0       0.0                NaN   \n",
       "12  03-02-2020        3.0       0.0                NaN   \n",
       "13  04-02-2020        3.0       0.0                NaN   \n",
       "14  05-02-2020        3.0       0.0                NaN   \n",
       "15  06-02-2020        3.0       0.0                NaN   \n",
       "16  07-02-2020        3.0       0.0                NaN   \n",
       "17  08-02-2020        3.0       0.0                NaN   \n",
       "18  09-02-2020        3.0       0.0                NaN   \n",
       "19  10-02-2020        3.0       0.0                NaN   \n",
       "\n",
       "    people_fully_vaccinated  school_closing  workplace_closing  cancel_events  \\\n",
       "0                       NaN             0.0                0.0            0.0   \n",
       "1                       NaN             0.0                0.0            0.0   \n",
       "2                       NaN             0.0                0.0            0.0   \n",
       "3                       NaN             0.0                0.0            0.0   \n",
       "4                       NaN             0.0                0.0            0.0   \n",
       "5                       NaN             0.0                0.0            0.0   \n",
       "6                       NaN             0.0                0.0            0.0   \n",
       "7                       NaN             0.0                0.0            0.0   \n",
       "8                       NaN             0.0                0.0            0.0   \n",
       "9                       NaN             0.0                0.0            0.0   \n",
       "10                      NaN             0.0                0.0            0.0   \n",
       "11                      NaN             0.0                0.0            0.0   \n",
       "12                      NaN             0.0                0.0            0.0   \n",
       "13                      NaN             0.0                0.0            0.0   \n",
       "14                      NaN             0.0                0.0            0.0   \n",
       "15                      NaN             0.0                0.0            0.0   \n",
       "16                      NaN             0.0                0.0            0.0   \n",
       "17                      NaN             0.0                0.0            0.0   \n",
       "18                      NaN             0.0                0.0            0.0   \n",
       "19                      NaN             0.0                0.0            0.0   \n",
       "\n",
       "    gatherings_restrictions  transport_closing  stay_home_restrictions  \\\n",
       "0                       0.0                0.0                     0.0   \n",
       "1                       0.0                0.0                     0.0   \n",
       "2                       0.0                0.0                     0.0   \n",
       "3                       0.0                0.0                     0.0   \n",
       "4                       0.0                0.0                    -1.0   \n",
       "5                       0.0                0.0                    -1.0   \n",
       "6                       0.0                0.0                    -1.0   \n",
       "7                       0.0                0.0                    -1.0   \n",
       "8                       0.0                0.0                    -1.0   \n",
       "9                       0.0                0.0                    -1.0   \n",
       "10                      0.0                0.0                    -1.0   \n",
       "11                      0.0                0.0                    -1.0   \n",
       "12                      0.0                0.0                    -1.0   \n",
       "13                      0.0                0.0                    -1.0   \n",
       "14                      0.0                0.0                    -1.0   \n",
       "15                      0.0                0.0                    -1.0   \n",
       "16                      0.0                0.0                    -1.0   \n",
       "17                      0.0                0.0                    -1.0   \n",
       "18                      0.0                0.0                    -1.0   \n",
       "19                      0.0                0.0                    -1.0   \n",
       "\n",
       "    internal_movement_restrictions  international_movement_restrictions  \\\n",
       "0                              0.0                                  0.0   \n",
       "1                              0.0                                  0.0   \n",
       "2                              0.0                                  0.0   \n",
       "3                              0.0                                  0.0   \n",
       "4                              0.0                                  1.0   \n",
       "5                              0.0                                  1.0   \n",
       "6                              0.0                                  1.0   \n",
       "7                              0.0                                  1.0   \n",
       "8                              0.0                                  1.0   \n",
       "9                              0.0                                  1.0   \n",
       "10                             0.0                                  1.0   \n",
       "11                             0.0                                  1.0   \n",
       "12                             0.0                                  1.0   \n",
       "13                             0.0                                  1.0   \n",
       "14                             0.0                                  1.0   \n",
       "15                             0.0                                  1.0   \n",
       "16                             0.0                                  1.0   \n",
       "17                             0.0                                  1.0   \n",
       "18                             0.0                                  1.0   \n",
       "19                             0.0                                  1.0   \n",
       "\n",
       "    information_campaigns  contact_tracing  facial_coverings  \n",
       "0                     0.0              0.0               0.0  \n",
       "1                     0.0              0.0               0.0  \n",
       "2                     0.0              0.0               0.0  \n",
       "3                     1.0              0.0               0.0  \n",
       "4                     1.0              1.0               0.0  \n",
       "5                     1.0              1.0               0.0  \n",
       "6                     1.0              1.0               0.0  \n",
       "7                     1.0              1.0               0.0  \n",
       "8                     1.0              1.0               0.0  \n",
       "9                     1.0              2.0               0.0  \n",
       "10                    1.0              2.0               0.0  \n",
       "11                    1.0              2.0               0.0  \n",
       "12                    1.0              2.0               0.0  \n",
       "13                    1.0              2.0               0.0  \n",
       "14                    1.0              2.0               0.0  \n",
       "15                    1.0              2.0               0.0  \n",
       "16                    1.0              2.0               0.0  \n",
       "17                    1.0              2.0               0.0  \n",
       "18                    1.0              2.0               0.0  \n",
       "19                    1.0              2.0               0.0  "
      ]
     },
     "execution_count": 2,
     "metadata": {},
     "output_type": "execute_result"
    }
   ],
   "source": [
    "df1 = pd.read_csv('India.csv')\n",
    "df1.head(20)"
   ]
  },
  {
   "cell_type": "markdown",
   "id": "7f09df5d",
   "metadata": {},
   "source": [
    "# HANDLING OF MISSING DATA IF ANY"
   ]
  },
  {
   "cell_type": "code",
   "execution_count": 3,
   "id": "fbcaeb93",
   "metadata": {},
   "outputs": [
    {
     "data": {
      "text/plain": [
       "date                                     0\n",
       "confirmed                                8\n",
       "vaccines                                 0\n",
       "people_vaccinated                      371\n",
       "people_fully_vaccinated                400\n",
       "school_closing                           6\n",
       "workplace_closing                       10\n",
       "cancel_events                           10\n",
       "gatherings_restrictions                  6\n",
       "transport_closing                       10\n",
       "stay_home_restrictions                  10\n",
       "internal_movement_restrictions          10\n",
       "international_movement_restrictions     10\n",
       "information_campaigns                   10\n",
       "contact_tracing                         10\n",
       "facial_coverings                        10\n",
       "dtype: int64"
      ]
     },
     "execution_count": 3,
     "metadata": {},
     "output_type": "execute_result"
    }
   ],
   "source": [
    "#Checking if we null values here or not using isnull() and then summing up of all \n",
    "#the null values together so we can have the count of null values eah column containing\n",
    "\n",
    "df1.isnull().sum()"
   ]
  },
  {
   "cell_type": "code",
   "execution_count": 4,
   "id": "4b4fff09",
   "metadata": {},
   "outputs": [
    {
     "name": "stdout",
     "output_type": "stream",
     "text": [
      "<class 'pandas.core.frame.DataFrame'>\n",
      "RangeIndex: 779 entries, 0 to 778\n",
      "Data columns (total 16 columns):\n",
      " #   Column                               Non-Null Count  Dtype  \n",
      "---  ------                               --------------  -----  \n",
      " 0   date                                 779 non-null    object \n",
      " 1   confirmed                            771 non-null    float64\n",
      " 2   vaccines                             779 non-null    float64\n",
      " 3   people_vaccinated                    408 non-null    float64\n",
      " 4   people_fully_vaccinated              379 non-null    float64\n",
      " 5   school_closing                       773 non-null    float64\n",
      " 6   workplace_closing                    769 non-null    float64\n",
      " 7   cancel_events                        769 non-null    float64\n",
      " 8   gatherings_restrictions              773 non-null    float64\n",
      " 9   transport_closing                    769 non-null    float64\n",
      " 10  stay_home_restrictions               769 non-null    float64\n",
      " 11  internal_movement_restrictions       769 non-null    float64\n",
      " 12  international_movement_restrictions  769 non-null    float64\n",
      " 13  information_campaigns                769 non-null    float64\n",
      " 14  contact_tracing                      769 non-null    float64\n",
      " 15  facial_coverings                     769 non-null    float64\n",
      "dtypes: float64(15), object(1)\n",
      "memory usage: 97.5+ KB\n"
     ]
    }
   ],
   "source": [
    "#info() can also be used to check the information related to dataset like  null n non null counts , datatypes.\n",
    "df1.info()"
   ]
  },
  {
   "cell_type": "code",
   "execution_count": null,
   "id": "e7695a41",
   "metadata": {},
   "outputs": [],
   "source": []
  },
  {
   "cell_type": "markdown",
   "id": "92e33335",
   "metadata": {},
   "source": [
    "## Filling the NAN values by taking mean of column and then replacing it with mean ."
   ]
  },
  {
   "cell_type": "code",
   "execution_count": 5,
   "id": "31fc66da",
   "metadata": {},
   "outputs": [
    {
     "name": "stdout",
     "output_type": "stream",
     "text": [
      "16977526.033722438\n",
      "456708110.8186275\n",
      "263995481.6701847\n",
      "-0.869340232858991\n",
      "-1.8023407022106632\n",
      "-0.4798439531859558\n",
      "-2.7891332470892625\n",
      "-0.682704811443433\n",
      "-1.5747724317295189\n",
      "-0.9050715214564369\n",
      "2.962288686605982\n",
      "1.9401820546163848\n",
      "1.433029908972692\n",
      "0.4187256176853056\n"
     ]
    }
   ],
   "source": [
    "#Mean \n",
    "confirmed_col = df1['confirmed'].mean()\n",
    "print(confirmed_col)\n",
    "\n",
    "people_vaccinated_col = df1['people_vaccinated'].mean()\n",
    "print(people_vaccinated_col)\n",
    "\n",
    "people_fully_vaccinated_col = df1['people_fully_vaccinated'].mean()\n",
    "print(people_fully_vaccinated_col)\n",
    "\n",
    "school_closing_col = df1['school_closing'].mean()\n",
    "print(school_closing_col)\n",
    "\n",
    "workplace_closing_col = df1['workplace_closing'].mean()\n",
    "print(workplace_closing_col)\n",
    "\n",
    "cancel_events_col = df1['cancel_events'].mean()\n",
    "print(cancel_events_col)\n",
    "\n",
    "gatherings_restrictions_col = df1['gatherings_restrictions'].mean()\n",
    "print(gatherings_restrictions_col)\n",
    "\n",
    "transport_closing_col = df1['transport_closing'].mean()\n",
    "print(transport_closing_col)\n",
    "\n",
    "stay_home_restrictions_col = df1['stay_home_restrictions'].mean()\n",
    "print(stay_home_restrictions_col)\n",
    "\n",
    "internal_movement_restrictions_col = df1['internal_movement_restrictions'].mean()\n",
    "print(internal_movement_restrictions_col)\n",
    "\n",
    "international_movement_restrictions_col = df1['international_movement_restrictions'].mean()\n",
    "print(international_movement_restrictions_col)\n",
    "\n",
    "information_campaigns_col = df1['information_campaigns'].mean()\n",
    "print(information_campaigns_col)\n",
    "\n",
    "contact_tracing_col = df1['contact_tracing'].mean()\n",
    "print(contact_tracing_col)\n",
    "\n",
    "facial_coverings_col = df1['facial_coverings'].mean()\n",
    "print(facial_coverings_col)"
   ]
  },
  {
   "cell_type": "markdown",
   "id": "eb3eebe5",
   "metadata": {},
   "source": [
    "# Replace missing values with mean of the particular columns"
   ]
  },
  {
   "cell_type": "code",
   "execution_count": 26,
   "id": "b69cc74c",
   "metadata": {},
   "outputs": [],
   "source": [
    "df1.confirmed.fillna(confirmed_col,inplace=True)\n",
    "#df1.confirmed.astype(int)\n"
   ]
  },
  {
   "cell_type": "code",
   "execution_count": 27,
   "id": "d0ec735f",
   "metadata": {},
   "outputs": [],
   "source": [
    "df1.people_vaccinated.fillna(people_vaccinated_col,inplace=True)\n",
    "#df1.people_vaccinated.astype(int)"
   ]
  },
  {
   "cell_type": "code",
   "execution_count": 28,
   "id": "bd3ad53f",
   "metadata": {},
   "outputs": [],
   "source": [
    "df1.people_fully_vaccinated.fillna(people_fully_vaccinated_col,inplace=True)\n",
    "#df1.people_fully_vaccinated.astype(int)"
   ]
  },
  {
   "cell_type": "code",
   "execution_count": 29,
   "id": "519421a1",
   "metadata": {},
   "outputs": [],
   "source": [
    "df1.school_closing.fillna(school_closing_col,inplace=True)\n",
    "#df1.school_closing.astype(int)"
   ]
  },
  {
   "cell_type": "code",
   "execution_count": 30,
   "id": "4ea2354e",
   "metadata": {},
   "outputs": [],
   "source": [
    "df1.workplace_closing.fillna(workplace_closing_col,inplace=True)\n",
    "#df1.workplace_closing.astype(int)\n"
   ]
  },
  {
   "cell_type": "code",
   "execution_count": 31,
   "id": "38a0bdd9",
   "metadata": {},
   "outputs": [],
   "source": [
    "df1.cancel_events.fillna(cancel_events_col,inplace=True)\n",
    "#df1.cancel_events.astype(int)\n"
   ]
  },
  {
   "cell_type": "code",
   "execution_count": 32,
   "id": "01576ff0",
   "metadata": {},
   "outputs": [],
   "source": [
    "df1.gatherings_restrictions.fillna(gatherings_restrictions_col,inplace=True)\n",
    "#df1.gatherings_restrictions.astype(int)"
   ]
  },
  {
   "cell_type": "code",
   "execution_count": 33,
   "id": "35edc319",
   "metadata": {},
   "outputs": [],
   "source": [
    "df1.transport_closing.fillna(transport_closing_col,inplace=True)\n",
    "#df1.transport_closing.astype(int)\n"
   ]
  },
  {
   "cell_type": "code",
   "execution_count": 34,
   "id": "63fd466a",
   "metadata": {},
   "outputs": [],
   "source": [
    "df1.stay_home_restrictions.fillna(stay_home_restrictions_col,inplace=True)\n",
    "#df1.stay_home_restrictions.astype(int)\n"
   ]
  },
  {
   "cell_type": "code",
   "execution_count": 35,
   "id": "8571139f",
   "metadata": {},
   "outputs": [],
   "source": [
    "df1.internal_movement_restrictions.fillna(internal_movement_restrictions_col,inplace=True)\n",
    "#df1.internal_movement_restrictions.astype(int)"
   ]
  },
  {
   "cell_type": "code",
   "execution_count": 36,
   "id": "77c5afb1",
   "metadata": {},
   "outputs": [],
   "source": [
    "df1.international_movement_restrictions.fillna(international_movement_restrictions_col,inplace=True)\n",
    "#df1.international_movement_restrictions.astype(int)"
   ]
  },
  {
   "cell_type": "code",
   "execution_count": 37,
   "id": "9eedb08c",
   "metadata": {},
   "outputs": [],
   "source": [
    "df1.information_campaigns.fillna(information_campaigns_col,inplace=True)\n",
    "#df1.information_campaigns.astype(int)"
   ]
  },
  {
   "cell_type": "code",
   "execution_count": 38,
   "id": "ed4fab5b",
   "metadata": {},
   "outputs": [],
   "source": [
    "df1.contact_tracing.fillna(contact_tracing_col,inplace=True)\n",
    "#df1.contact_tracing.astype(int)"
   ]
  },
  {
   "cell_type": "code",
   "execution_count": 39,
   "id": "9add76cb",
   "metadata": {},
   "outputs": [],
   "source": [
    "df1.facial_coverings.fillna(facial_coverings_col,inplace=True)\n",
    "#df1.facial_coverings.astype(int)"
   ]
  },
  {
   "cell_type": "markdown",
   "id": "707b3787",
   "metadata": {},
   "source": [
    "### After filling the null values with mean checking if still we have the null values or not ?"
   ]
  },
  {
   "cell_type": "code",
   "execution_count": 40,
   "id": "fd19e210",
   "metadata": {},
   "outputs": [
    {
     "data": {
      "text/plain": [
       "date                                   0\n",
       "confirmed                              0\n",
       "vaccines                               0\n",
       "people_vaccinated                      0\n",
       "people_fully_vaccinated                0\n",
       "school_closing                         0\n",
       "workplace_closing                      0\n",
       "cancel_events                          0\n",
       "gatherings_restrictions                0\n",
       "transport_closing                      0\n",
       "stay_home_restrictions                 0\n",
       "internal_movement_restrictions         0\n",
       "international_movement_restrictions    0\n",
       "information_campaigns                  0\n",
       "contact_tracing                        0\n",
       "facial_coverings                       0\n",
       "dtype: int64"
      ]
     },
     "execution_count": 40,
     "metadata": {},
     "output_type": "execute_result"
    }
   ],
   "source": [
    "df1.isnull().sum()"
   ]
  },
  {
   "cell_type": "code",
   "execution_count": 41,
   "id": "17220bcc",
   "metadata": {},
   "outputs": [
    {
     "name": "stdout",
     "output_type": "stream",
     "text": [
      "<class 'pandas.core.frame.DataFrame'>\n",
      "RangeIndex: 779 entries, 0 to 778\n",
      "Data columns (total 16 columns):\n",
      " #   Column                               Non-Null Count  Dtype  \n",
      "---  ------                               --------------  -----  \n",
      " 0   date                                 779 non-null    object \n",
      " 1   confirmed                            779 non-null    float64\n",
      " 2   vaccines                             779 non-null    float64\n",
      " 3   people_vaccinated                    779 non-null    float64\n",
      " 4   people_fully_vaccinated              779 non-null    float64\n",
      " 5   school_closing                       779 non-null    float64\n",
      " 6   workplace_closing                    779 non-null    float64\n",
      " 7   cancel_events                        779 non-null    float64\n",
      " 8   gatherings_restrictions              779 non-null    float64\n",
      " 9   transport_closing                    779 non-null    float64\n",
      " 10  stay_home_restrictions               779 non-null    float64\n",
      " 11  internal_movement_restrictions       779 non-null    float64\n",
      " 12  international_movement_restrictions  779 non-null    float64\n",
      " 13  information_campaigns                779 non-null    float64\n",
      " 14  contact_tracing                      779 non-null    float64\n",
      " 15  facial_coverings                     779 non-null    float64\n",
      "dtypes: float64(15), object(1)\n",
      "memory usage: 97.5+ KB\n"
     ]
    }
   ],
   "source": [
    "df1.info()"
   ]
  },
  {
   "cell_type": "markdown",
   "id": "c139cf80",
   "metadata": {},
   "source": [
    "# EDA"
   ]
  },
  {
   "cell_type": "code",
   "execution_count": null,
   "id": "1b52b936",
   "metadata": {},
   "outputs": [],
   "source": [
    "Step 1: Need to find the relationship between daily covid cases and lockdown saftery measures"
   ]
  },
  {
   "cell_type": "markdown",
   "id": "77a146f0",
   "metadata": {},
   "source": [
    "# Relation between confirmed cases and lockdown effective measures columns"
   ]
  },
  {
   "cell_type": "markdown",
   "id": "66e7bd0e",
   "metadata": {},
   "source": [
    "### 1. between Confirmed & no of people  vaccinated "
   ]
  },
  {
   "cell_type": "code",
   "execution_count": 98,
   "id": "a375f38c",
   "metadata": {},
   "outputs": [
    {
     "name": "stderr",
     "output_type": "stream",
     "text": [
      "C:\\Users\\Hp\\AppData\\Local\\Temp\\ipykernel_9476\\3940924405.py:1: FutureWarning: The default value of numeric_only in DataFrame.corr is deprecated. In a future version, it will default to False. Select only valid columns or specify the value of numeric_only to silence this warning.\n",
      "  correlation_matrix = df1.corr()\n"
     ]
    },
    {
     "data": {
      "text/plain": [
       "0.46"
      ]
     },
     "execution_count": 98,
     "metadata": {},
     "output_type": "execute_result"
    }
   ],
   "source": [
    "correlation_matrix = df1.corr()\n",
    "correlation_coefficient = correlation_matrix.loc['confirmed', 'people_vaccinated']\n",
    "round(correlation_coefficient,2)"
   ]
  },
  {
   "cell_type": "markdown",
   "id": "1d95f79e",
   "metadata": {},
   "source": [
    "### 2. between Confirmed & no of people fully vaccinated "
   ]
  },
  {
   "cell_type": "code",
   "execution_count": 100,
   "id": "76ce56b5",
   "metadata": {},
   "outputs": [
    {
     "name": "stderr",
     "output_type": "stream",
     "text": [
      "C:\\Users\\Hp\\AppData\\Local\\Temp\\ipykernel_9476\\2276218284.py:1: FutureWarning: The default value of numeric_only in DataFrame.corr is deprecated. In a future version, it will default to False. Select only valid columns or specify the value of numeric_only to silence this warning.\n",
      "  correlation_matrix = df1.corr()\n"
     ]
    },
    {
     "data": {
      "text/plain": [
       "0.35"
      ]
     },
     "execution_count": 100,
     "metadata": {},
     "output_type": "execute_result"
    }
   ],
   "source": [
    "correlation_matrix = df1.corr()\n",
    "correlation_coefficient = correlation_matrix.loc['confirmed', 'people_fully_vaccinated']\n",
    "round(correlation_coefficient,2)"
   ]
  },
  {
   "cell_type": "markdown",
   "id": "608adfd2",
   "metadata": {},
   "source": [
    "#### 3. Between school closing and confirmed cases"
   ]
  },
  {
   "cell_type": "code",
   "execution_count": 101,
   "id": "edea99d1",
   "metadata": {},
   "outputs": [
    {
     "name": "stderr",
     "output_type": "stream",
     "text": [
      "C:\\Users\\Hp\\AppData\\Local\\Temp\\ipykernel_9476\\1276816642.py:1: FutureWarning: The default value of numeric_only in DataFrame.corr is deprecated. In a future version, it will default to False. Select only valid columns or specify the value of numeric_only to silence this warning.\n",
      "  correlation_matrix = df1.corr()\n"
     ]
    },
    {
     "data": {
      "text/plain": [
       "-0.56"
      ]
     },
     "execution_count": 101,
     "metadata": {},
     "output_type": "execute_result"
    }
   ],
   "source": [
    "correlation_matrix = df1.corr()\n",
    "correlation_coefficient = correlation_matrix.loc['confirmed', 'school_closing']\n",
    "round(correlation_coefficient,2)"
   ]
  },
  {
   "cell_type": "markdown",
   "id": "405929d6",
   "metadata": {},
   "source": [
    "### 4. Between confirmed cases and workplace closing"
   ]
  },
  {
   "cell_type": "code",
   "execution_count": 102,
   "id": "1ca1f061",
   "metadata": {},
   "outputs": [
    {
     "name": "stderr",
     "output_type": "stream",
     "text": [
      "C:\\Users\\Hp\\AppData\\Local\\Temp\\ipykernel_9476\\3446017238.py:1: FutureWarning: The default value of numeric_only in DataFrame.corr is deprecated. In a future version, it will default to False. Select only valid columns or specify the value of numeric_only to silence this warning.\n",
      "  correlation_matrix = df1.corr()\n"
     ]
    },
    {
     "data": {
      "text/plain": [
       "-0.19"
      ]
     },
     "execution_count": 102,
     "metadata": {},
     "output_type": "execute_result"
    }
   ],
   "source": [
    "correlation_matrix = df1.corr()\n",
    "correlation_coefficient = correlation_matrix.loc['confirmed', 'workplace_closing']\n",
    "round(correlation_coefficient,2)"
   ]
  },
  {
   "cell_type": "markdown",
   "id": "95d6285f",
   "metadata": {},
   "source": [
    "### 5. Between confirmed cases and cancel events"
   ]
  },
  {
   "cell_type": "code",
   "execution_count": 103,
   "id": "87371902",
   "metadata": {},
   "outputs": [
    {
     "name": "stderr",
     "output_type": "stream",
     "text": [
      "C:\\Users\\Hp\\AppData\\Local\\Temp\\ipykernel_9476\\3666964644.py:1: FutureWarning: The default value of numeric_only in DataFrame.corr is deprecated. In a future version, it will default to False. Select only valid columns or specify the value of numeric_only to silence this warning.\n",
      "  correlation_matrix = df1.corr()\n"
     ]
    },
    {
     "data": {
      "text/plain": [
       "-0.65"
      ]
     },
     "execution_count": 103,
     "metadata": {},
     "output_type": "execute_result"
    }
   ],
   "source": [
    "correlation_matrix = df1.corr()\n",
    "correlation_coefficient = correlation_matrix.loc['confirmed', 'cancel_events']\n",
    "round(correlation_coefficient,2)"
   ]
  },
  {
   "cell_type": "markdown",
   "id": "d95019b1",
   "metadata": {},
   "source": [
    "### 6. Between confirmed cases and gathering restrictions"
   ]
  },
  {
   "cell_type": "code",
   "execution_count": 105,
   "id": "2475679e",
   "metadata": {},
   "outputs": [
    {
     "name": "stderr",
     "output_type": "stream",
     "text": [
      "C:\\Users\\Hp\\AppData\\Local\\Temp\\ipykernel_9476\\3608404648.py:1: FutureWarning: The default value of numeric_only in DataFrame.corr is deprecated. In a future version, it will default to False. Select only valid columns or specify the value of numeric_only to silence this warning.\n",
      "  correlation_matrix = df1.corr()\n"
     ]
    },
    {
     "data": {
      "text/plain": [
       "-0.16"
      ]
     },
     "execution_count": 105,
     "metadata": {},
     "output_type": "execute_result"
    }
   ],
   "source": [
    "correlation_matrix = df1.corr()\n",
    "correlation_coefficient = correlation_matrix.loc['confirmed', 'gatherings_restrictions']\n",
    "round(correlation_coefficient,2)"
   ]
  },
  {
   "cell_type": "markdown",
   "id": "bada8e05",
   "metadata": {},
   "source": [
    "### 7. Between confirmed and transport_closing"
   ]
  },
  {
   "cell_type": "code",
   "execution_count": 106,
   "id": "04ea4ac6",
   "metadata": {},
   "outputs": [
    {
     "name": "stderr",
     "output_type": "stream",
     "text": [
      "C:\\Users\\Hp\\AppData\\Local\\Temp\\ipykernel_9476\\1662367481.py:1: FutureWarning: The default value of numeric_only in DataFrame.corr is deprecated. In a future version, it will default to False. Select only valid columns or specify the value of numeric_only to silence this warning.\n",
      "  correlation_matrix = df1.corr()\n"
     ]
    },
    {
     "data": {
      "text/plain": [
       "-0.3"
      ]
     },
     "execution_count": 106,
     "metadata": {},
     "output_type": "execute_result"
    }
   ],
   "source": [
    "correlation_matrix = df1.corr()\n",
    "correlation_coefficient = correlation_matrix.loc['confirmed', 'transport_closing']\n",
    "round(correlation_coefficient,2)"
   ]
  },
  {
   "cell_type": "markdown",
   "id": "86125073",
   "metadata": {},
   "source": [
    "### 8. Between confirmed and stay_home_restrictions"
   ]
  },
  {
   "cell_type": "code",
   "execution_count": 107,
   "id": "c72e3d51",
   "metadata": {},
   "outputs": [
    {
     "name": "stderr",
     "output_type": "stream",
     "text": [
      "C:\\Users\\Hp\\AppData\\Local\\Temp\\ipykernel_9476\\96598974.py:1: FutureWarning: The default value of numeric_only in DataFrame.corr is deprecated. In a future version, it will default to False. Select only valid columns or specify the value of numeric_only to silence this warning.\n",
      "  correlation_matrix = df1.corr()\n"
     ]
    },
    {
     "data": {
      "text/plain": [
       "-0.47"
      ]
     },
     "execution_count": 107,
     "metadata": {},
     "output_type": "execute_result"
    }
   ],
   "source": [
    "correlation_matrix = df1.corr()\n",
    "correlation_coefficient = correlation_matrix.loc['confirmed', 'stay_home_restrictions']\n",
    "round(correlation_coefficient,2)"
   ]
  },
  {
   "cell_type": "markdown",
   "id": "1be99f0a",
   "metadata": {},
   "source": [
    "### 9. Between confirmed cases and internal_movement_restrictions"
   ]
  },
  {
   "cell_type": "code",
   "execution_count": 109,
   "id": "79c75669",
   "metadata": {},
   "outputs": [
    {
     "name": "stderr",
     "output_type": "stream",
     "text": [
      "C:\\Users\\Hp\\AppData\\Local\\Temp\\ipykernel_9476\\2381475606.py:1: FutureWarning: The default value of numeric_only in DataFrame.corr is deprecated. In a future version, it will default to False. Select only valid columns or specify the value of numeric_only to silence this warning.\n",
      "  correlation_matrix = df1.corr()\n"
     ]
    },
    {
     "data": {
      "text/plain": [
       "-0.13"
      ]
     },
     "execution_count": 109,
     "metadata": {},
     "output_type": "execute_result"
    }
   ],
   "source": [
    "correlation_matrix = df1.corr()\n",
    "correlation_coefficient = correlation_matrix.loc['confirmed', 'internal_movement_restrictions']\n",
    "round(correlation_coefficient,2)"
   ]
  },
  {
   "cell_type": "markdown",
   "id": "68435097",
   "metadata": {},
   "source": [
    "### 10. Between confirmed cases and international_movement_restrictions"
   ]
  },
  {
   "cell_type": "code",
   "execution_count": 110,
   "id": "3c5a26ee",
   "metadata": {},
   "outputs": [
    {
     "name": "stderr",
     "output_type": "stream",
     "text": [
      "C:\\Users\\Hp\\AppData\\Local\\Temp\\ipykernel_9476\\1470026105.py:1: FutureWarning: The default value of numeric_only in DataFrame.corr is deprecated. In a future version, it will default to False. Select only valid columns or specify the value of numeric_only to silence this warning.\n",
      "  correlation_matrix = df1.corr()\n"
     ]
    },
    {
     "data": {
      "text/plain": [
       "-0.46"
      ]
     },
     "execution_count": 110,
     "metadata": {},
     "output_type": "execute_result"
    }
   ],
   "source": [
    "correlation_matrix = df1.corr()\n",
    "correlation_coefficient = correlation_matrix.loc['confirmed', 'international_movement_restrictions']\n",
    "round(correlation_coefficient,2)"
   ]
  },
  {
   "cell_type": "markdown",
   "id": "a6daa969",
   "metadata": {},
   "source": [
    "### 11. Between confirmed cases and information_campaigns"
   ]
  },
  {
   "cell_type": "code",
   "execution_count": 111,
   "id": "96d7a2bd",
   "metadata": {},
   "outputs": [
    {
     "name": "stderr",
     "output_type": "stream",
     "text": [
      "C:\\Users\\Hp\\AppData\\Local\\Temp\\ipykernel_9476\\3310725122.py:1: FutureWarning: The default value of numeric_only in DataFrame.corr is deprecated. In a future version, it will default to False. Select only valid columns or specify the value of numeric_only to silence this warning.\n",
      "  correlation_matrix = df1.corr()\n"
     ]
    },
    {
     "data": {
      "text/plain": [
       "0.2"
      ]
     },
     "execution_count": 111,
     "metadata": {},
     "output_type": "execute_result"
    }
   ],
   "source": [
    "correlation_matrix = df1.corr()\n",
    "correlation_coefficient = correlation_matrix.loc['confirmed', 'information_campaigns']\n",
    "round(correlation_coefficient,2)"
   ]
  },
  {
   "cell_type": "markdown",
   "id": "29c16646",
   "metadata": {},
   "source": [
    "### 12. Between confirmed cases and contact_tracing"
   ]
  },
  {
   "cell_type": "code",
   "execution_count": 112,
   "id": "56160fe3",
   "metadata": {},
   "outputs": [
    {
     "name": "stderr",
     "output_type": "stream",
     "text": [
      "C:\\Users\\Hp\\AppData\\Local\\Temp\\ipykernel_9476\\2684404732.py:1: FutureWarning: The default value of numeric_only in DataFrame.corr is deprecated. In a future version, it will default to False. Select only valid columns or specify the value of numeric_only to silence this warning.\n",
      "  correlation_matrix = df1.corr()\n"
     ]
    },
    {
     "data": {
      "text/plain": [
       "-0.58"
      ]
     },
     "execution_count": 112,
     "metadata": {},
     "output_type": "execute_result"
    }
   ],
   "source": [
    "correlation_matrix = df1.corr()\n",
    "correlation_coefficient = correlation_matrix.loc['confirmed', 'contact_tracing']\n",
    "round(correlation_coefficient,2)"
   ]
  },
  {
   "cell_type": "markdown",
   "id": "0a6b3dff",
   "metadata": {},
   "source": [
    "### 13. Between confirmed cases and facial_coverings "
   ]
  },
  {
   "cell_type": "code",
   "execution_count": 113,
   "id": "2864666a",
   "metadata": {},
   "outputs": [
    {
     "name": "stderr",
     "output_type": "stream",
     "text": [
      "C:\\Users\\Hp\\AppData\\Local\\Temp\\ipykernel_9476\\4207694778.py:1: FutureWarning: The default value of numeric_only in DataFrame.corr is deprecated. In a future version, it will default to False. Select only valid columns or specify the value of numeric_only to silence this warning.\n",
      "  correlation_matrix = df1.corr()\n"
     ]
    },
    {
     "data": {
      "text/plain": [
       "0.73"
      ]
     },
     "execution_count": 113,
     "metadata": {},
     "output_type": "execute_result"
    }
   ],
   "source": [
    "correlation_matrix = df1.corr()\n",
    "correlation_coefficient = correlation_matrix.loc['confirmed', 'facial_coverings']\n",
    "round(correlation_coefficient,2)"
   ]
  },
  {
   "cell_type": "markdown",
   "id": "1d2ca62f",
   "metadata": {},
   "source": [
    "# 14. Between confirmed cases and vaccines"
   ]
  },
  {
   "cell_type": "code",
   "execution_count": 120,
   "id": "41ada39e",
   "metadata": {},
   "outputs": [
    {
     "name": "stderr",
     "output_type": "stream",
     "text": [
      "C:\\Users\\Hp\\AppData\\Local\\Temp\\ipykernel_9476\\2401008608.py:1: FutureWarning: The default value of numeric_only in DataFrame.corr is deprecated. In a future version, it will default to False. Select only valid columns or specify the value of numeric_only to silence this warning.\n",
      "  correlation_matrix = df1.corr()\n"
     ]
    },
    {
     "data": {
      "text/plain": [
       "nan"
      ]
     },
     "execution_count": 120,
     "metadata": {},
     "output_type": "execute_result"
    }
   ],
   "source": [
    "correlation_matrix = df1.corr()\n",
    "correlation_coefficient = correlation_matrix.loc['confirmed', 'vaccines']\n",
    "round(correlation_coefficient,2)"
   ]
  },
  {
   "cell_type": "markdown",
   "id": "f779d290",
   "metadata": {},
   "source": [
    "# Plotting HEATMAP for representing visualization"
   ]
  },
  {
   "cell_type": "code",
   "execution_count": 116,
   "id": "ae69c780",
   "metadata": {},
   "outputs": [
    {
     "data": {
      "image/png": "[encoded data removed]",
      "text/plain": [
       "<Figure size 640x480 with 2 Axes>"
      ]
     },
     "metadata": {},
     "output_type": "display_data"
    }
   ],
   "source": [
    "sns.heatmap(correlation_matrix,annot=True, cmap='coolwarm', fmt=\".0f\")\n",
    "plt.title('Correlation Heatmap')\n",
    "plt.show()"
   ]
  },
  {
   "cell_type": "markdown",
   "id": "bd0674bf",
   "metadata": {},
   "source": [
    "# Checking Data for measure of central tendency , skewness \n"
   ]
  },
  {
   "cell_type": "code",
   "execution_count": 124,
   "id": "c7f99951",
   "metadata": {},
   "outputs": [
    {
     "data": {
      "text/plain": [
       "(array([ 0,  1,  2,  3,  4,  5,  6,  7,  8,  9, 10, 11, 12, 13, 14]),\n",
       " [Text(0, 0, 'confirmed'),\n",
       "  Text(1, 0, 'vaccines'),\n",
       "  Text(2, 0, 'people_vaccinated'),\n",
       "  Text(3, 0, 'people_fully_vaccinated'),\n",
       "  Text(4, 0, 'school_closing'),\n",
       "  Text(5, 0, 'workplace_closing'),\n",
       "  Text(6, 0, 'cancel_events'),\n",
       "  Text(7, 0, 'gatherings_restrictions'),\n",
       "  Text(8, 0, 'transport_closing'),\n",
       "  Text(9, 0, 'stay_home_restrictions'),\n",
       "  Text(10, 0, 'internal_movement_restrictions'),\n",
       "  Text(11, 0, 'international_movement_restrictions'),\n",
       "  Text(12, 0, 'information_campaigns'),\n",
       "  Text(13, 0, 'contact_tracing'),\n",
       "  Text(14, 0, 'facial_coverings')])"
      ]
     },
     "execution_count": 124,
     "metadata": {},
     "output_type": "execute_result"
    },
    {
     "data": {
      "image/png": "[encoded data removed]",
      "text/plain": [
       "<Figure size 640x480 with 1 Axes>"
      ]
     },
     "metadata": {},
     "output_type": "display_data"
    }
   ],
   "source": [
    "#outliers \n",
    "sns.boxplot(df1)\n",
    "plt.xticks(rotation=45, fontsize=10) "
   ]
  },
  {
   "cell_type": "code",
   "execution_count": 125,
   "id": "838cd2cd",
   "metadata": {},
   "outputs": [
    {
     "data": {
      "text/html": [
       "<div>\n",
       "<style scoped>\n",
       "    .dataframe tbody tr th:only-of-type {\n",
       "        vertical-align: middle;\n",
       "    }\n",
       "\n",
       "    .dataframe tbody tr th {\n",
       "        vertical-align: top;\n",
       "    }\n",
       "\n",
       "    .dataframe thead th {\n",
       "        text-align: right;\n",
       "    }\n",
       "</style>\n",
       "<table border=\"1\" class=\"dataframe\">\n",
       "  <thead>\n",
       "    <tr style=\"text-align: right;\">\n",
       "      <th></th>\n",
       "      <th>confirmed</th>\n",
       "      <th>vaccines</th>\n",
       "      <th>people_vaccinated</th>\n",
       "      <th>people_fully_vaccinated</th>\n",
       "      <th>school_closing</th>\n",
       "      <th>workplace_closing</th>\n",
       "      <th>cancel_events</th>\n",
       "      <th>gatherings_restrictions</th>\n",
       "      <th>transport_closing</th>\n",
       "      <th>stay_home_restrictions</th>\n",
       "      <th>internal_movement_restrictions</th>\n",
       "      <th>international_movement_restrictions</th>\n",
       "      <th>information_campaigns</th>\n",
       "      <th>contact_tracing</th>\n",
       "      <th>facial_coverings</th>\n",
       "    </tr>\n",
       "  </thead>\n",
       "  <tbody>\n",
       "    <tr>\n",
       "      <th>count</th>\n",
       "      <td>7.790000e+02</td>\n",
       "      <td>779.0</td>\n",
       "      <td>7.790000e+02</td>\n",
       "      <td>7.790000e+02</td>\n",
       "      <td>779.000000</td>\n",
       "      <td>779.000000</td>\n",
       "      <td>779.000000</td>\n",
       "      <td>779.000000</td>\n",
       "      <td>779.000000</td>\n",
       "      <td>779.000000</td>\n",
       "      <td>779.000000</td>\n",
       "      <td>779.000000</td>\n",
       "      <td>779.000000</td>\n",
       "      <td>779.000000</td>\n",
       "      <td>779.000000</td>\n",
       "    </tr>\n",
       "    <tr>\n",
       "      <th>mean</th>\n",
       "      <td>1.697753e+07</td>\n",
       "      <td>0.0</td>\n",
       "      <td>4.567081e+08</td>\n",
       "      <td>2.639955e+08</td>\n",
       "      <td>-0.869340</td>\n",
       "      <td>-1.802341</td>\n",
       "      <td>-0.479844</td>\n",
       "      <td>-2.789133</td>\n",
       "      <td>-0.682705</td>\n",
       "      <td>-1.574772</td>\n",
       "      <td>-0.905072</td>\n",
       "      <td>2.962289</td>\n",
       "      <td>1.940182</td>\n",
       "      <td>1.433030</td>\n",
       "      <td>0.418726</td>\n",
       "    </tr>\n",
       "    <tr>\n",
       "      <th>std</th>\n",
       "      <td>1.463817e+07</td>\n",
       "      <td>0.0</td>\n",
       "      <td>2.489008e+08</td>\n",
       "      <td>1.838577e+08</td>\n",
       "      <td>2.417748</td>\n",
       "      <td>1.450980</td>\n",
       "      <td>1.806137</td>\n",
       "      <td>2.133895</td>\n",
       "      <td>1.327280</td>\n",
       "      <td>1.673915</td>\n",
       "      <td>1.506656</td>\n",
       "      <td>0.866327</td>\n",
       "      <td>0.251597</td>\n",
       "      <td>0.502949</td>\n",
       "      <td>3.622475</td>\n",
       "    </tr>\n",
       "    <tr>\n",
       "      <th>min</th>\n",
       "      <td>1.000000e+00</td>\n",
       "      <td>0.0</td>\n",
       "      <td>0.000000e+00</td>\n",
       "      <td>7.668000e+03</td>\n",
       "      <td>-3.000000</td>\n",
       "      <td>-3.000000</td>\n",
       "      <td>-2.000000</td>\n",
       "      <td>-4.000000</td>\n",
       "      <td>-2.000000</td>\n",
       "      <td>-3.000000</td>\n",
       "      <td>-2.000000</td>\n",
       "      <td>0.000000</td>\n",
       "      <td>0.000000</td>\n",
       "      <td>0.000000</td>\n",
       "      <td>-4.000000</td>\n",
       "    </tr>\n",
       "    <tr>\n",
       "      <th>25%</th>\n",
       "      <td>2.363138e+06</td>\n",
       "      <td>0.0</td>\n",
       "      <td>3.922099e+08</td>\n",
       "      <td>1.621278e+08</td>\n",
       "      <td>-3.000000</td>\n",
       "      <td>-3.000000</td>\n",
       "      <td>-2.000000</td>\n",
       "      <td>-4.000000</td>\n",
       "      <td>-2.000000</td>\n",
       "      <td>-3.000000</td>\n",
       "      <td>-2.000000</td>\n",
       "      <td>2.962289</td>\n",
       "      <td>2.000000</td>\n",
       "      <td>1.000000</td>\n",
       "      <td>-4.000000</td>\n",
       "    </tr>\n",
       "    <tr>\n",
       "      <th>50%</th>\n",
       "      <td>1.101643e+07</td>\n",
       "      <td>0.0</td>\n",
       "      <td>4.567081e+08</td>\n",
       "      <td>2.639955e+08</td>\n",
       "      <td>-2.000000</td>\n",
       "      <td>-2.000000</td>\n",
       "      <td>-2.000000</td>\n",
       "      <td>-4.000000</td>\n",
       "      <td>0.000000</td>\n",
       "      <td>-2.000000</td>\n",
       "      <td>-2.000000</td>\n",
       "      <td>3.000000</td>\n",
       "      <td>2.000000</td>\n",
       "      <td>1.000000</td>\n",
       "      <td>2.000000</td>\n",
       "    </tr>\n",
       "    <tr>\n",
       "      <th>75%</th>\n",
       "      <td>3.267249e+07</td>\n",
       "      <td>0.0</td>\n",
       "      <td>4.720948e+08</td>\n",
       "      <td>2.639955e+08</td>\n",
       "      <td>3.000000</td>\n",
       "      <td>-2.000000</td>\n",
       "      <td>2.000000</td>\n",
       "      <td>-2.000000</td>\n",
       "      <td>0.000000</td>\n",
       "      <td>-2.000000</td>\n",
       "      <td>0.000000</td>\n",
       "      <td>4.000000</td>\n",
       "      <td>2.000000</td>\n",
       "      <td>2.000000</td>\n",
       "      <td>4.000000</td>\n",
       "    </tr>\n",
       "    <tr>\n",
       "      <th>max</th>\n",
       "      <td>4.298426e+07</td>\n",
       "      <td>0.0</td>\n",
       "      <td>9.679468e+08</td>\n",
       "      <td>8.058866e+08</td>\n",
       "      <td>3.000000</td>\n",
       "      <td>3.000000</td>\n",
       "      <td>2.000000</td>\n",
       "      <td>4.000000</td>\n",
       "      <td>2.000000</td>\n",
       "      <td>3.000000</td>\n",
       "      <td>2.000000</td>\n",
       "      <td>4.000000</td>\n",
       "      <td>2.000000</td>\n",
       "      <td>2.000000</td>\n",
       "      <td>4.000000</td>\n",
       "    </tr>\n",
       "  </tbody>\n",
       "</table>\n",
       "</div>"
      ],
      "text/plain": [
       "          confirmed  vaccines  people_vaccinated  people_fully_vaccinated  \\\n",
       "count  7.790000e+02     779.0       7.790000e+02             7.790000e+02   \n",
       "mean   1.697753e+07       0.0       4.567081e+08             2.639955e+08   \n",
       "std    1.463817e+07       0.0       2.489008e+08             1.838577e+08   \n",
       "min    1.000000e+00       0.0       0.000000e+00             7.668000e+03   \n",
       "25%    2.363138e+06       0.0       3.922099e+08             1.621278e+08   \n",
       "50%    1.101643e+07       0.0       4.567081e+08             2.639955e+08   \n",
       "75%    3.267249e+07       0.0       4.720948e+08             2.639955e+08   \n",
       "max    4.298426e+07       0.0       9.679468e+08             8.058866e+08   \n",
       "\n",
       "       school_closing  workplace_closing  cancel_events  \\\n",
       "count      779.000000         779.000000     779.000000   \n",
       "mean        -0.869340          -1.802341      -0.479844   \n",
       "std          2.417748           1.450980       1.806137   \n",
       "min         -3.000000          -3.000000      -2.000000   \n",
       "25%         -3.000000          -3.000000      -2.000000   \n",
       "50%         -2.000000          -2.000000      -2.000000   \n",
       "75%          3.000000          -2.000000       2.000000   \n",
       "max          3.000000           3.000000       2.000000   \n",
       "\n",
       "       gatherings_restrictions  transport_closing  stay_home_restrictions  \\\n",
       "count               779.000000         779.000000              779.000000   \n",
       "mean                 -2.789133          -0.682705               -1.574772   \n",
       "std                   2.133895           1.327280                1.673915   \n",
       "min                  -4.000000          -2.000000               -3.000000   \n",
       "25%                  -4.000000          -2.000000               -3.000000   \n",
       "50%                  -4.000000           0.000000               -2.000000   \n",
       "75%                  -2.000000           0.000000               -2.000000   \n",
       "max                   4.000000           2.000000                3.000000   \n",
       "\n",
       "       internal_movement_restrictions  international_movement_restrictions  \\\n",
       "count                      779.000000                           779.000000   \n",
       "mean                        -0.905072                             2.962289   \n",
       "std                          1.506656                             0.866327   \n",
       "min                         -2.000000                             0.000000   \n",
       "25%                         -2.000000                             2.962289   \n",
       "50%                         -2.000000                             3.000000   \n",
       "75%                          0.000000                             4.000000   \n",
       "max                          2.000000                             4.000000   \n",
       "\n",
       "       information_campaigns  contact_tracing  facial_coverings  \n",
       "count             779.000000       779.000000        779.000000  \n",
       "mean                1.940182         1.433030          0.418726  \n",
       "std                 0.251597         0.502949          3.622475  \n",
       "min                 0.000000         0.000000         -4.000000  \n",
       "25%                 2.000000         1.000000         -4.000000  \n",
       "50%                 2.000000         1.000000          2.000000  \n",
       "75%                 2.000000         2.000000          4.000000  \n",
       "max                 2.000000         2.000000          4.000000  "
      ]
     },
     "execution_count": 125,
     "metadata": {},
     "output_type": "execute_result"
    }
   ],
   "source": [
    "df1.describe()"
   ]
  },
  {
   "cell_type": "code",
   "execution_count": 126,
   "id": "18e5a762",
   "metadata": {},
   "outputs": [
    {
     "name": "stderr",
     "output_type": "stream",
     "text": [
      "C:\\Users\\Hp\\AppData\\Local\\Temp\\ipykernel_9476\\149261804.py:1: FutureWarning: The default value of numeric_only in DataFrame.skew is deprecated. In a future version, it will default to False. In addition, specifying 'numeric_only=None' is deprecated. Select only valid columns or specify the value of numeric_only to silence this warning.\n",
      "  df1.skew()\n"
     ]
    },
    {
     "data": {
      "text/plain": [
       "confirmed                              0.306760\n",
       "vaccines                               0.000000\n",
       "people_vaccinated                      0.102849\n",
       "people_fully_vaccinated                1.081357\n",
       "school_closing                         0.790231\n",
       "workplace_closing                      1.681808\n",
       "cancel_events                          0.502047\n",
       "gatherings_restrictions                2.002428\n",
       "transport_closing                      0.331115\n",
       "stay_home_restrictions                 1.722937\n",
       "internal_movement_restrictions         0.877681\n",
       "international_movement_restrictions   -0.675643\n",
       "information_campaigns                 -4.450021\n",
       "contact_tracing                        0.150874\n",
       "facial_coverings                      -0.259139\n",
       "dtype: float64"
      ]
     },
     "execution_count": 126,
     "metadata": {},
     "output_type": "execute_result"
    }
   ],
   "source": [
    "df1.skew()"
   ]
  },
  {
   "cell_type": "code",
   "execution_count": 127,
   "id": "ec8e3209",
   "metadata": {
    "scrolled": true
   },
   "outputs": [
    {
     "name": "stderr",
     "output_type": "stream",
     "text": [
      "C:\\Users\\Hp\\AppData\\Local\\Temp\\ipykernel_9476\\3055152066.py:1: FutureWarning: The default value of numeric_only in DataFrame.kurt is deprecated. In a future version, it will default to False. In addition, specifying 'numeric_only=None' is deprecated. Select only valid columns or specify the value of numeric_only to silence this warning.\n",
      "  df1.kurt()\n"
     ]
    },
    {
     "data": {
      "text/plain": [
       "confirmed                              -1.482659\n",
       "vaccines                                0.000000\n",
       "people_vaccinated                      -0.210843\n",
       "people_fully_vaccinated                 1.360811\n",
       "school_closing                         -1.083420\n",
       "workplace_closing                       2.621057\n",
       "cancel_events                          -1.608178\n",
       "gatherings_restrictions                 3.274910\n",
       "transport_closing                      -1.256244\n",
       "stay_home_restrictions                  1.817490\n",
       "internal_movement_restrictions         -0.857629\n",
       "international_movement_restrictions     0.163137\n",
       "information_campaigns                  20.836030\n",
       "contact_tracing                        -1.660561\n",
       "facial_coverings                       -1.760390\n",
       "dtype: float64"
      ]
     },
     "execution_count": 127,
     "metadata": {},
     "output_type": "execute_result"
    }
   ],
   "source": [
    "df1.kurt()"
   ]
  },
  {
   "cell_type": "code",
   "execution_count": 129,
   "id": "13f27130",
   "metadata": {},
   "outputs": [
    {
     "name": "stderr",
     "output_type": "stream",
     "text": [
      "C:\\Users\\Hp\\AppData\\Local\\Temp\\ipykernel_9476\\4079203998.py:1: FutureWarning: The default value of numeric_only in DataFrame.mean is deprecated. In a future version, it will default to False. In addition, specifying 'numeric_only=None' is deprecated. Select only valid columns or specify the value of numeric_only to silence this warning.\n",
      "  df1.mean().plot(kind='bar')\n"
     ]
    },
    {
     "data": {
      "image/png": "[encoded data removed]",
      "text/plain": [
       "<Figure size 640x480 with 1 Axes>"
      ]
     },
     "metadata": {},
     "output_type": "display_data"
    }
   ],
   "source": [
    "df1.mean().plot(kind='bar')\n",
    "plt.title('Mean Values of Variables')\n",
    "plt.ylabel('Mean')\n",
    "plt.show()"
   ]
  },
  {
   "cell_type": "markdown",
   "id": "cb9a62ad",
   "metadata": {},
   "source": [
    "# Conclusion:"
   ]
  },
  {
   "cell_type": "markdown",
   "id": "bbd2e948",
   "metadata": {},
   "source": [
    "# 1. How variables are correlated to each other using heatmap and corr() ?"
   ]
  },
  {
   "cell_type": "raw",
   "id": "c96102dc",
   "metadata": {},
   "source": [
    "\n",
    "a. between Confirmed & no of people  vaccinated  : POSITIVE CORRELATION \n",
    "b. between confirmed cases and no of people who are fully vaccinated: POSITIVE CORRELATION \n",
    "c. between confirmed cases and school closing: Negative CORRELATION \n",
    "d. between confirmed cases and workplace closing: Negative CORRELATION\n",
    "e. between confirmed cases and cancel events : Negative CORRELATION\n",
    "f. between confirmed cases and gathering restrictions : Negative CORRELATION\n",
    "g. between confirmed cases and transport closing : Negative CORRELATION\n",
    "h. between confirmed cases and stay home restrictions : Negative CORRELATION\n",
    "i. between confirmed cases and internal movement restrictions : Negative CORRELATION\n",
    "j. between confirmed cases and international movement restrictions : Negative CORRELATION\n",
    "k. between confirmed cases and information campaingns :  POSITIVE CORRELATION \n",
    "l. between confirmed cases and contact tracing :  NEGATIVE CORRELATION \n",
    "m. between confirmed cases and facial coverings :  POSITIVE CORRELATION \n",
    "n. between confirmed cases and vaccines : No correlation \n",
    "Positive correlations says these measures are more effective and can be considered asthe best possible set of lockdown measures only, which impacts daily cases. \n",
    "\n",
    "Negative correlation sayys that these measures are considered as a effective measure which was effective but for a short period of time we can't consider them as long term effective measures for daily cases as it also affects  socio-economic factors."
   ]
  },
  {
   "cell_type": "raw",
   "id": "a5f46417",
   "metadata": {},
   "source": [
    "# Data is positive skewed as most of the column skewness  are positive and centered towards left only and same is shown in box plot and also from bar chart\n"
   ]
  },
  {
   "cell_type": "markdown",
   "id": "d1278c4e",
   "metadata": {},
   "source": [
    "#Outliers are mostly in people_vaccinated and people_vaccinated_fully"
   ]
  },
  {
   "cell_type": "code",
   "execution_count": null,
   "id": "a2ae78f9",
   "metadata": {},
   "outputs": [],
   "source": []
  }
 ],
 "metadata": {
  "kernelspec": {
   "display_name": "Python 3 (ipykernel)",
   "language": "python",
   "name": "python3"
  },
  "language_info": {
   "codemirror_mode": {
    "name": "ipython",
    "version": 3
   },
   "file_extension": ".py",
   "mimetype": "text/x-python",
   "name": "python",
   "nbconvert_exporter": "python",
   "pygments_lexer": "ipython3",
   "version": "3.11.4"
  }
 },
 "nbformat": 4,
 "nbformat_minor": 5
}
