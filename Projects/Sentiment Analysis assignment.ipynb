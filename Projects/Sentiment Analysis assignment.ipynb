{
 "cells": [
  {
   "cell_type": "markdown",
   "metadata": {},
   "source": [
    "### <span style = 'color:green'> Capstone Project </span>\n",
    "#### <span style = 'color:blue'> Problem statement : Perform sentiment analysis on Omnicron variant, data fetching directly from twitter</span>\n",
    "**Sentiment analysis is the process of identifying feelings and emotions expressed in words, through ML or AI**\n",
    "\n",
    "**Project Pipeline**\n",
    "\n",
    "Various steps in completing project are\n",
    "\n",
    "- **Import Necessary Dependencies**\n",
    "- **Read and Load the Dataset**\n",
    "- **Exploratory Data Analysis**\n",
    "- **Data Visualization of Target Variables**\n",
    "- **Data Preprocessing**\n",
    "- **Splitting our data into Train and Test Subset**\n",
    "- **Transforming Dataset using TF-IDF Vectorizer**\n",
    "- **Function for Model Evaluation**\n",
    "- **Model Building**\n",
    "- **Conclusion**\n",
    "\n",
    "- Here we have to get dataset directly fetched from twitter in realtime \n",
    "\n",
    "- performing realtime sentimental analysis on realtime data collecting from twitter\n",
    "- objective: perform sentiment analysis on realtime data collected from twitter \n",
    "\n",
    "                      \n",
    "\n",
    "           "
   ]
  },
  {
   "cell_type": "markdown",
   "metadata": {},
   "source": [
    "### <span style = 'color:blue'>   API (Application Programm Interface)</span>\n",
    "- Imagine you’re sitting at a table in a restaurant with a menu of choices to order from. The kitchen is the part of the “system” that will prepare your order. What is missing is the critical link to communicate your order to the kitchen and deliver your food back to your table. That’s where the waiter or API comes in. The waiter is the messenger – or API – that takes your request or order and tells the kitchen – the system – what to do. Then the waiter delivers the response back to you; in this case, it is the food.\n",
    "- API's are huge and are used everywhere\n",
    "- In simple words api stands as bridge for one to access the content in one's storage \n",
    "- There are many APIs on the Twitter platform that software developers can engage with, with the ultimate possibility to create fully automated systems which will interact with Twitter. While this feature could benefit companies by drawing insights from Twitter data\n",
    "\n",
    "   **From twitter api it's possible to extract many insights some are**\n",
    "- Tweets: searching, posting, filtering, engagement, streaming etc.\n",
    "- Accounts and users (Beta): account management, user interactions.\n",
    "- Media: uploading and accessing photos, videos and animated GIFs.\n",
    "- Trends: trending topics in a given location.\n",
    "- Geo: information about known places or places near a location."
   ]
  },
  {
   "cell_type": "markdown",
   "metadata": {},
   "source": [
    "**Getting twitter API keys**\n",
    "- If you don't already have an account, you can login with your normal Twitter credentials \n",
    "\n",
    "\n",
    "- follow the required prompts to create a developer project or click here <a href=\"https://dev.twitter.com/apps\" title=\"Twitter\">Click here</a>\n",
    "- Requesting the API key and secret via the Developer Portal causes Twitter to produce the following three things:\n",
    "1. API key (this is your 'consumer key')\n",
    "2. API secret key (this is your 'consumer secret')\n",
    "3. Bearer token\n",
    "- Next, visit the 'Authentication Tokens' area of the Developer Portal and generate an 'Access token & secret'. This will provide you with the following two items:\n",
    "1. Access token (this is your 'token key')\n",
    "2. Access token secret (this is your 'token secret')\n",
    "\n",
    "\n",
    "**Expected output**\n",
    "- the data fetched from twitter should undergo EDA for analyzing, cleaning, handling, manupulation, visualization..,etc\n",
    "- final output should show the sentiment of the data\n"
   ]
  },
  {
   "cell_type": "markdown",
   "metadata": {},
   "source": [
    "  *Some tips to consider*\n",
    "\n",
    "- Machines can learn in every possible way so its always better to think out of the box\n",
    "    \n",
    "- Perform eda as diverse as possible and in contineous manner\n",
    "    \n",
    "- Try configuring with diffrent models to know how each model is diffrent with other ones \n",
    "    \n",
    "- Donot try to involve unneccesory codes and useless algorithms for dataset which just increases complexity\n",
    "    \n",
    "- Approaching problem statement in n number of ways helps us to find best one possible\n",
    "    \n",
    "- It's easier for one to understnd and manupulate if we have models as simple as possible \n",
    "    \n",
    "- When we have multiple models we can have multiple judgements based on models and their efficiencies\n",
    "    \n",
    "- Tuning helps increasing accuracy :)\n",
    "    \n",
    "- Have an idea of time consumed by the model, its better to have a model whose time management is good\n",
    "    \n",
    "- Spend good amount of time on analyzing dataset and draw as much insights as possible"
   ]
  },
  {
   "cell_type": "markdown",
   "metadata": {},
   "source": [
    "- Tweepy is importantlibrary we will using to fetch data from twitter by api\n",
    "\n",
    "\n",
    "For more on tweepy documentation please click here <a href=\"https://docs.tweepy.org/en/stable/getting_started.html#hello-tweepy\" title=\"Tweepy\">Click here</a>"
   ]
  },
  {
   "cell_type": "code",
   "execution_count": 1,
   "metadata": {},
   "outputs": [],
   "source": [
    "import pandas as pd\n",
    "import numpy as np\n",
    "import matplotlib.pyplot as plt\n",
    "import seaborn as sns\n",
    "import warnings\n",
    "warnings.filterwarnings('ignore')\n",
    "%matplotlib inline\n",
    "\n",
    "import nltk\n",
    "from sklearn.feature_extraction.text import CountVectorizer\n",
    "from sklearn.feature_extraction.text import TfidfVectorizer\n",
    "from sklearn.preprocessing import LabelEncoder,LabelBinarizer\n",
    "from nltk.corpus import stopwords\n",
    "from nltk.stem.porter import PorterStemmer\n",
    "\n",
    "from nltk.stem import WordNetLemmatizer\n",
    "from nltk.tokenize import word_tokenize,sent_tokenize\n",
    "from nltk.stem import LancasterStemmer\n",
    "from bs4 import BeautifulSoup\n",
    "#import spacy\n",
    "import re,unicodedata,string\n",
    "from nltk.tokenize.toktok import ToktokTokenizer\n",
    "from sklearn.linear_model import LogisticRegression,SGDClassifier\n",
    "from sklearn.naive_bayes import MultinomialNB\n",
    "from sklearn.svm import SVC\n",
    "\n",
    "from sklearn.metrics import classification_report,confusion_matrix,accuracy_score\n",
    "import re"
   ]
  },
  {
   "cell_type": "code",
   "execution_count": 2,
   "metadata": {},
   "outputs": [],
   "source": [
    "# Importing the dataset\n",
    "df = pd.read_csv('Twitter_Omicron_data.csv')\n"
   ]
  },
  {
   "cell_type": "code",
   "execution_count": 3,
   "metadata": {},
   "outputs": [
    {
     "data": {
      "text/html": [
       "<div>\n",
       "<style scoped>\n",
       "    .dataframe tbody tr th:only-of-type {\n",
       "        vertical-align: middle;\n",
       "    }\n",
       "\n",
       "    .dataframe tbody tr th {\n",
       "        vertical-align: top;\n",
       "    }\n",
       "\n",
       "    .dataframe thead th {\n",
       "        text-align: right;\n",
       "    }\n",
       "</style>\n",
       "<table border=\"1\" class=\"dataframe\">\n",
       "  <thead>\n",
       "    <tr style=\"text-align: right;\">\n",
       "      <th></th>\n",
       "      <th>tweets</th>\n",
       "      <th>likes</th>\n",
       "      <th>time</th>\n",
       "      <th>retweet_count</th>\n",
       "    </tr>\n",
       "  </thead>\n",
       "  <tbody>\n",
       "    <tr>\n",
       "      <th>0</th>\n",
       "      <td>6 big questions about new Omicron-targeting bo...</td>\n",
       "      <td>0</td>\n",
       "      <td>2023-03-09 18:24:06</td>\n",
       "      <td>0</td>\n",
       "    </tr>\n",
       "    <tr>\n",
       "      <th>1</th>\n",
       "      <td>I'm confused https://t.co/NyfgdYUYAT</td>\n",
       "      <td>0</td>\n",
       "      <td>2023-03-09 18:23:43</td>\n",
       "      <td>0</td>\n",
       "    </tr>\n",
       "    <tr>\n",
       "      <th>2</th>\n",
       "      <td>Long COVID less likely after Omicron than afte...</td>\n",
       "      <td>0</td>\n",
       "      <td>2023-03-09 18:22:43</td>\n",
       "      <td>0</td>\n",
       "    </tr>\n",
       "    <tr>\n",
       "      <th>3</th>\n",
       "      <td>The finding don't tally with the high numbers ...</td>\n",
       "      <td>0</td>\n",
       "      <td>2023-03-09 18:21:45</td>\n",
       "      <td>0</td>\n",
       "    </tr>\n",
       "    <tr>\n",
       "      <th>4</th>\n",
       "      <td>A conference abstract from the European Congre...</td>\n",
       "      <td>1</td>\n",
       "      <td>2023-03-09 18:21:45</td>\n",
       "      <td>1</td>\n",
       "    </tr>\n",
       "    <tr>\n",
       "      <th>5</th>\n",
       "      <td>FGS @UKHSA pauses ONS C-19 Infection Survey 4 ...</td>\n",
       "      <td>0</td>\n",
       "      <td>2023-03-09 18:12:53</td>\n",
       "      <td>0</td>\n",
       "    </tr>\n",
       "    <tr>\n",
       "      <th>6</th>\n",
       "      <td>@SandraHelena39 Look on the bright side, Omicr...</td>\n",
       "      <td>0</td>\n",
       "      <td>2023-03-09 18:12:48</td>\n",
       "      <td>0</td>\n",
       "    </tr>\n",
       "    <tr>\n",
       "      <th>7</th>\n",
       "      <td>@OMICRON_XBB Dream bigger</td>\n",
       "      <td>0</td>\n",
       "      <td>2023-03-09 18:11:32</td>\n",
       "      <td>0</td>\n",
       "    </tr>\n",
       "    <tr>\n",
       "      <th>8</th>\n",
       "      <td>@NOTSubzerodrew As my last wish</td>\n",
       "      <td>0</td>\n",
       "      <td>2023-03-09 18:10:28</td>\n",
       "      <td>0</td>\n",
       "    </tr>\n",
       "    <tr>\n",
       "      <th>9</th>\n",
       "      <td>@thereal_truther @SadieXShaw Again, graphs are...</td>\n",
       "      <td>0</td>\n",
       "      <td>2023-03-09 18:10:23</td>\n",
       "      <td>0</td>\n",
       "    </tr>\n",
       "  </tbody>\n",
       "</table>\n",
       "</div>"
      ],
      "text/plain": [
       "                                              tweets  likes  \\\n",
       "0  6 big questions about new Omicron-targeting bo...      0   \n",
       "1               I'm confused https://t.co/NyfgdYUYAT      0   \n",
       "2  Long COVID less likely after Omicron than afte...      0   \n",
       "3  The finding don't tally with the high numbers ...      0   \n",
       "4  A conference abstract from the European Congre...      1   \n",
       "5  FGS @UKHSA pauses ONS C-19 Infection Survey 4 ...      0   \n",
       "6  @SandraHelena39 Look on the bright side, Omicr...      0   \n",
       "7                          @OMICRON_XBB Dream bigger      0   \n",
       "8                    @NOTSubzerodrew As my last wish      0   \n",
       "9  @thereal_truther @SadieXShaw Again, graphs are...      0   \n",
       "\n",
       "                  time  retweet_count  \n",
       "0  2023-03-09 18:24:06              0  \n",
       "1  2023-03-09 18:23:43              0  \n",
       "2  2023-03-09 18:22:43              0  \n",
       "3  2023-03-09 18:21:45              0  \n",
       "4  2023-03-09 18:21:45              1  \n",
       "5  2023-03-09 18:12:53              0  \n",
       "6  2023-03-09 18:12:48              0  \n",
       "7  2023-03-09 18:11:32              0  \n",
       "8  2023-03-09 18:10:28              0  \n",
       "9  2023-03-09 18:10:23              0  "
      ]
     },
     "execution_count": 3,
     "metadata": {},
     "output_type": "execute_result"
    }
   ],
   "source": [
    "df.head(10)"
   ]
  },
  {
   "cell_type": "code",
   "execution_count": 4,
   "metadata": {},
   "outputs": [
    {
     "data": {
      "text/plain": [
       "(6998, 4)"
      ]
     },
     "execution_count": 4,
     "metadata": {},
     "output_type": "execute_result"
    }
   ],
   "source": [
    "df.shape"
   ]
  },
  {
   "cell_type": "code",
   "execution_count": 5,
   "metadata": {},
   "outputs": [
    {
     "name": "stdout",
     "output_type": "stream",
     "text": [
      "<class 'pandas.core.frame.DataFrame'>\n",
      "RangeIndex: 6998 entries, 0 to 6997\n",
      "Data columns (total 4 columns):\n",
      " #   Column         Non-Null Count  Dtype \n",
      "---  ------         --------------  ----- \n",
      " 0   tweets         6998 non-null   object\n",
      " 1   likes          6998 non-null   int64 \n",
      " 2   time           6998 non-null   object\n",
      " 3   retweet_count  6998 non-null   int64 \n",
      "dtypes: int64(2), object(2)\n",
      "memory usage: 218.8+ KB\n"
     ]
    }
   ],
   "source": [
    "df.info()"
   ]
  },
  {
   "cell_type": "raw",
   "metadata": {},
   "source": [
    "There is no null values"
   ]
  },
  {
   "cell_type": "code",
   "execution_count": 6,
   "metadata": {},
   "outputs": [
    {
     "data": {
      "text/plain": [
       "0       6 big questions about new Omicron-targeting bo...\n",
       "1                    I'm confused https://t.co/NyfgdYUYAT\n",
       "2       Long COVID less likely after Omicron than afte...\n",
       "3       The finding don't tally with the high numbers ...\n",
       "4       A conference abstract from the European Congre...\n",
       "                              ...                        \n",
       "6993    @Cycl_Conscience @BallouxFrancois Your argumen...\n",
       "6994    @BretWeinstein I don't think it escaped, they ...\n",
       "6995    @_50kgold Do you have to show your face? I'd b...\n",
       "6996    @noxcato @andrewtanyongyi @TAH_Sci @hsom113 @M...\n",
       "6997    In light of the fact that #Omicron is unrelate...\n",
       "Name: tweets, Length: 6998, dtype: object"
      ]
     },
     "execution_count": 6,
     "metadata": {},
     "output_type": "execute_result"
    }
   ],
   "source": [
    "df['tweets']"
   ]
  },
  {
   "cell_type": "code",
   "execution_count": 7,
   "metadata": {},
   "outputs": [
    {
     "name": "stderr",
     "output_type": "stream",
     "text": [
      "[nltk_data] Downloading package stopwords to\n",
      "[nltk_data]     C:\\Users\\Hp\\AppData\\Roaming\\nltk_data...\n",
      "[nltk_data]   Package stopwords is already up-to-date!\n"
     ]
    },
    {
     "data": {
      "text/plain": [
       "True"
      ]
     },
     "execution_count": 7,
     "metadata": {},
     "output_type": "execute_result"
    }
   ],
   "source": [
    "#Remove weird spaces, stopwords and perform basic pre-processing - spelling correction, etc.\n",
    "nltk.download('stopwords')"
   ]
  },
  {
   "cell_type": "code",
   "execution_count": 8,
   "metadata": {},
   "outputs": [],
   "source": [
    "from nltk.tokenize import ToktokTokenizer\n",
    "toktok = ToktokTokenizer()\n",
    "stopwords_list = nltk.corpus.stopwords.words('english')"
   ]
  },
  {
   "cell_type": "code",
   "execution_count": 9,
   "metadata": {},
   "outputs": [],
   "source": [
    "#to reduce dimensionality complexity we are choosing tweets and tweets count\n",
    "df = df[['tweets','retweet_count']]"
   ]
  },
  {
   "cell_type": "code",
   "execution_count": 10,
   "metadata": {},
   "outputs": [
    {
     "name": "stderr",
     "output_type": "stream",
     "text": [
      "[nltk_data] Downloading package wordnet to\n",
      "[nltk_data]     C:\\Users\\Hp\\AppData\\Roaming\\nltk_data...\n",
      "[nltk_data]   Package wordnet is already up-to-date!\n",
      "[nltk_data] Downloading package omw-1.4 to\n",
      "[nltk_data]     C:\\Users\\Hp\\AppData\\Roaming\\nltk_data...\n",
      "[nltk_data]   Package omw-1.4 is already up-to-date!\n",
      "[nltk_data] Downloading package stopwords to\n",
      "[nltk_data]     C:\\Users\\Hp\\AppData\\Roaming\\nltk_data...\n",
      "[nltk_data]   Package stopwords is already up-to-date!\n",
      "[nltk_data] Downloading package punkt to\n",
      "[nltk_data]     C:\\Users\\Hp\\AppData\\Roaming\\nltk_data...\n",
      "[nltk_data]   Package punkt is already up-to-date!\n"
     ]
    },
    {
     "data": {
      "text/plain": [
       "True"
      ]
     },
     "execution_count": 10,
     "metadata": {},
     "output_type": "execute_result"
    }
   ],
   "source": [
    "nltk.download('wordnet')\n",
    "nltk.download('omw-1.4')\n",
    "nltk.download('stopwords')\n",
    "nltk.download('punkt')"
   ]
  },
  {
   "cell_type": "raw",
   "metadata": {},
   "source": [
    "Perform Stemming or Lemmatization, comment on the different outputs."
   ]
  },
  {
   "cell_type": "code",
   "execution_count": 11,
   "metadata": {},
   "outputs": [],
   "source": [
    "#Removing Outliers and Noise reduction\n",
    "stemmer = PorterStemmer()\n",
    "leammatizer = WordNetLemmatizer()"
   ]
  },
  {
   "cell_type": "code",
   "execution_count": 12,
   "metadata": {},
   "outputs": [],
   "source": [
    "def remove_html(text):\n",
    "    return re.sub(r':.*$', \":\",text) #Remove urls\n",
    "\n",
    "def remove_tags(text):\n",
    "  return re.sub('@[A-Za-z0-9-]+([A-Z|a-z])','',text)\n",
    "\n",
    "def strip_html(text):\n",
    "    soup = BeautifulSoup(text,\"html.parser\") #Remove https words\n",
    "    return soup.get_text()\n",
    "\n",
    "def remove_between_square_brackets(text):\n",
    "    return re.sub('\\[[^]]*\\]','',text)   #Remove special characters\n",
    "\n",
    "def denoise_text(text):\n",
    "    text = remove_html(text)\n",
    "    text = strip_html(text)\n",
    "    text = remove_between_square_brackets(text)\n",
    "    text = remove_tags(text)\n",
    "    return text  #Function call"
   ]
  },
  {
   "cell_type": "code",
   "execution_count": 13,
   "metadata": {},
   "outputs": [
    {
     "data": {
      "text/html": [
       "<div>\n",
       "<style scoped>\n",
       "    .dataframe tbody tr th:only-of-type {\n",
       "        vertical-align: middle;\n",
       "    }\n",
       "\n",
       "    .dataframe tbody tr th {\n",
       "        vertical-align: top;\n",
       "    }\n",
       "\n",
       "    .dataframe thead th {\n",
       "        text-align: right;\n",
       "    }\n",
       "</style>\n",
       "<table border=\"1\" class=\"dataframe\">\n",
       "  <thead>\n",
       "    <tr style=\"text-align: right;\">\n",
       "      <th></th>\n",
       "      <th>tweets</th>\n",
       "      <th>retweet_count</th>\n",
       "      <th>review</th>\n",
       "    </tr>\n",
       "  </thead>\n",
       "  <tbody>\n",
       "    <tr>\n",
       "      <th>0</th>\n",
       "      <td>6 big questions about new Omicron-targeting bo...</td>\n",
       "      <td>0</td>\n",
       "      <td>6 big questions about new Omicron-targeting bo...</td>\n",
       "    </tr>\n",
       "    <tr>\n",
       "      <th>1</th>\n",
       "      <td>I'm confused https://t.co/NyfgdYUYAT</td>\n",
       "      <td>0</td>\n",
       "      <td>I'm confused https:</td>\n",
       "    </tr>\n",
       "    <tr>\n",
       "      <th>2</th>\n",
       "      <td>Long COVID less likely after Omicron than afte...</td>\n",
       "      <td>0</td>\n",
       "      <td>Long COVID less likely after Omicron than afte...</td>\n",
       "    </tr>\n",
       "    <tr>\n",
       "      <th>3</th>\n",
       "      <td>The finding don't tally with the high numbers ...</td>\n",
       "      <td>0</td>\n",
       "      <td>The finding don't tally with the high numbers ...</td>\n",
       "    </tr>\n",
       "    <tr>\n",
       "      <th>4</th>\n",
       "      <td>A conference abstract from the European Congre...</td>\n",
       "      <td>1</td>\n",
       "      <td>A conference abstract from the European Congre...</td>\n",
       "    </tr>\n",
       "  </tbody>\n",
       "</table>\n",
       "</div>"
      ],
      "text/plain": [
       "                                              tweets  retweet_count  \\\n",
       "0  6 big questions about new Omicron-targeting bo...              0   \n",
       "1               I'm confused https://t.co/NyfgdYUYAT              0   \n",
       "2  Long COVID less likely after Omicron than afte...              0   \n",
       "3  The finding don't tally with the high numbers ...              0   \n",
       "4  A conference abstract from the European Congre...              1   \n",
       "\n",
       "                                              review  \n",
       "0  6 big questions about new Omicron-targeting bo...  \n",
       "1                                I'm confused https:  \n",
       "2  Long COVID less likely after Omicron than afte...  \n",
       "3  The finding don't tally with the high numbers ...  \n",
       "4  A conference abstract from the European Congre...  "
      ]
     },
     "execution_count": 13,
     "metadata": {},
     "output_type": "execute_result"
    }
   ],
   "source": [
    "df['review'] = df['tweets'].apply(denoise_text)\n",
    "df.head(5)"
   ]
  },
  {
   "cell_type": "code",
   "execution_count": 14,
   "metadata": {},
   "outputs": [
    {
     "data": {
      "text/html": [
       "<div>\n",
       "<style scoped>\n",
       "    .dataframe tbody tr th:only-of-type {\n",
       "        vertical-align: middle;\n",
       "    }\n",
       "\n",
       "    .dataframe tbody tr th {\n",
       "        vertical-align: top;\n",
       "    }\n",
       "\n",
       "    .dataframe thead th {\n",
       "        text-align: right;\n",
       "    }\n",
       "</style>\n",
       "<table border=\"1\" class=\"dataframe\">\n",
       "  <thead>\n",
       "    <tr style=\"text-align: right;\">\n",
       "      <th></th>\n",
       "      <th>tweets</th>\n",
       "      <th>retweet_count</th>\n",
       "      <th>review</th>\n",
       "    </tr>\n",
       "  </thead>\n",
       "  <tbody>\n",
       "    <tr>\n",
       "      <th>0</th>\n",
       "      <td>6 big questions about new Omicron-targeting bo...</td>\n",
       "      <td>0</td>\n",
       "      <td>6 big questions about new Omicrontargeting boo...</td>\n",
       "    </tr>\n",
       "    <tr>\n",
       "      <th>1</th>\n",
       "      <td>I'm confused https://t.co/NyfgdYUYAT</td>\n",
       "      <td>0</td>\n",
       "      <td>Im confused https</td>\n",
       "    </tr>\n",
       "  </tbody>\n",
       "</table>\n",
       "</div>"
      ],
      "text/plain": [
       "                                              tweets  retweet_count  \\\n",
       "0  6 big questions about new Omicron-targeting bo...              0   \n",
       "1               I'm confused https://t.co/NyfgdYUYAT              0   \n",
       "\n",
       "                                              review  \n",
       "0  6 big questions about new Omicrontargeting boo...  \n",
       "1                                  Im confused https  "
      ]
     },
     "execution_count": 14,
     "metadata": {},
     "output_type": "execute_result"
    }
   ],
   "source": [
    "# removing Special characters\n",
    "def remove_special_characters(text,remove_digits=True):\n",
    "    pattern = r'[^a-zA-Z0-9\\s]'\n",
    "    text = re.sub(pattern,'',text)\n",
    "    return text\n",
    "\n",
    "df['review'] = df['review'].apply(remove_special_characters)\n",
    "df.head(2)"
   ]
  },
  {
   "cell_type": "code",
   "execution_count": 15,
   "metadata": {},
   "outputs": [
    {
     "data": {
      "text/html": [
       "<div>\n",
       "<style scoped>\n",
       "    .dataframe tbody tr th:only-of-type {\n",
       "        vertical-align: middle;\n",
       "    }\n",
       "\n",
       "    .dataframe tbody tr th {\n",
       "        vertical-align: top;\n",
       "    }\n",
       "\n",
       "    .dataframe thead th {\n",
       "        text-align: right;\n",
       "    }\n",
       "</style>\n",
       "<table border=\"1\" class=\"dataframe\">\n",
       "  <thead>\n",
       "    <tr style=\"text-align: right;\">\n",
       "      <th></th>\n",
       "      <th>tweets</th>\n",
       "      <th>retweet_count</th>\n",
       "      <th>review</th>\n",
       "      <th>stem_review</th>\n",
       "    </tr>\n",
       "  </thead>\n",
       "  <tbody>\n",
       "    <tr>\n",
       "      <th>0</th>\n",
       "      <td>6 big questions about new Omicron-targeting bo...</td>\n",
       "      <td>0</td>\n",
       "      <td>6 big questions about new Omicrontargeting boo...</td>\n",
       "      <td>6 big question about new omicrontarget booster...</td>\n",
       "    </tr>\n",
       "    <tr>\n",
       "      <th>1</th>\n",
       "      <td>I'm confused https://t.co/NyfgdYUYAT</td>\n",
       "      <td>0</td>\n",
       "      <td>Im confused https</td>\n",
       "      <td>im confus http</td>\n",
       "    </tr>\n",
       "  </tbody>\n",
       "</table>\n",
       "</div>"
      ],
      "text/plain": [
       "                                              tweets  retweet_count  \\\n",
       "0  6 big questions about new Omicron-targeting bo...              0   \n",
       "1               I'm confused https://t.co/NyfgdYUYAT              0   \n",
       "\n",
       "                                              review  \\\n",
       "0  6 big questions about new Omicrontargeting boo...   \n",
       "1                                  Im confused https   \n",
       "\n",
       "                                         stem_review  \n",
       "0  6 big question about new omicrontarget booster...  \n",
       "1                                     im confus http  "
      ]
     },
     "execution_count": 15,
     "metadata": {},
     "output_type": "execute_result"
    }
   ],
   "source": [
    "#stemming\n",
    "def simpleStemmer(text):\n",
    "    ps = nltk.porter.PorterStemmer()\n",
    "    text = ' '.join([ps.stem(word) for word in text.split()])\n",
    "    return text\n",
    "\n",
    "df['stem_review'] = df['review'].apply(simpleStemmer)\n",
    "df.head(2)"
   ]
  },
  {
   "cell_type": "code",
   "execution_count": 16,
   "metadata": {},
   "outputs": [
    {
     "data": {
      "text/html": [
       "<div>\n",
       "<style scoped>\n",
       "    .dataframe tbody tr th:only-of-type {\n",
       "        vertical-align: middle;\n",
       "    }\n",
       "\n",
       "    .dataframe tbody tr th {\n",
       "        vertical-align: top;\n",
       "    }\n",
       "\n",
       "    .dataframe thead th {\n",
       "        text-align: right;\n",
       "    }\n",
       "</style>\n",
       "<table border=\"1\" class=\"dataframe\">\n",
       "  <thead>\n",
       "    <tr style=\"text-align: right;\">\n",
       "      <th></th>\n",
       "      <th>tweets</th>\n",
       "      <th>retweet_count</th>\n",
       "      <th>review</th>\n",
       "      <th>stem_review</th>\n",
       "      <th>lemmatize_review</th>\n",
       "    </tr>\n",
       "  </thead>\n",
       "  <tbody>\n",
       "    <tr>\n",
       "      <th>0</th>\n",
       "      <td>6 big questions about new Omicron-targeting bo...</td>\n",
       "      <td>0</td>\n",
       "      <td>6 big questions about new Omicrontargeting boo...</td>\n",
       "      <td>6 big question about new omicrontarget booster...</td>\n",
       "      <td>6 big question about new Omicrontargeting boos...</td>\n",
       "    </tr>\n",
       "    <tr>\n",
       "      <th>1</th>\n",
       "      <td>I'm confused https://t.co/NyfgdYUYAT</td>\n",
       "      <td>0</td>\n",
       "      <td>Im confused https</td>\n",
       "      <td>im confus http</td>\n",
       "      <td>Im confused http</td>\n",
       "    </tr>\n",
       "  </tbody>\n",
       "</table>\n",
       "</div>"
      ],
      "text/plain": [
       "                                              tweets  retweet_count  \\\n",
       "0  6 big questions about new Omicron-targeting bo...              0   \n",
       "1               I'm confused https://t.co/NyfgdYUYAT              0   \n",
       "\n",
       "                                              review  \\\n",
       "0  6 big questions about new Omicrontargeting boo...   \n",
       "1                                  Im confused https   \n",
       "\n",
       "                                         stem_review  \\\n",
       "0  6 big question about new omicrontarget booster...   \n",
       "1                                     im confus http   \n",
       "\n",
       "                                    lemmatize_review  \n",
       "0  6 big question about new Omicrontargeting boos...  \n",
       "1                                   Im confused http  "
      ]
     },
     "execution_count": 16,
     "metadata": {},
     "output_type": "execute_result"
    }
   ],
   "source": [
    "#lemmatization\n",
    "def simpleLemmatization(text):\n",
    "    lemma = nltk.stem.WordNetLemmatizer()\n",
    "    text = ' '.join([lemma.lemmatize(word) for word in text.split()])\n",
    "    return text\n",
    "\n",
    "df['lemmatize_review'] = df['review'].apply(simpleLemmatization)\n",
    "df.head(2)"
   ]
  },
  {
   "cell_type": "code",
   "execution_count": 17,
   "metadata": {},
   "outputs": [
    {
     "data": {
      "text/html": [
       "<div>\n",
       "<style scoped>\n",
       "    .dataframe tbody tr th:only-of-type {\n",
       "        vertical-align: middle;\n",
       "    }\n",
       "\n",
       "    .dataframe tbody tr th {\n",
       "        vertical-align: top;\n",
       "    }\n",
       "\n",
       "    .dataframe thead th {\n",
       "        text-align: right;\n",
       "    }\n",
       "</style>\n",
       "<table border=\"1\" class=\"dataframe\">\n",
       "  <thead>\n",
       "    <tr style=\"text-align: right;\">\n",
       "      <th></th>\n",
       "      <th>tweets</th>\n",
       "      <th>retweet_count</th>\n",
       "      <th>review</th>\n",
       "      <th>stem_review</th>\n",
       "      <th>lemmatize_review</th>\n",
       "      <th>final_review</th>\n",
       "    </tr>\n",
       "  </thead>\n",
       "  <tbody>\n",
       "    <tr>\n",
       "      <th>0</th>\n",
       "      <td>6 big questions about new Omicron-targeting bo...</td>\n",
       "      <td>0</td>\n",
       "      <td>6 big questions about new Omicrontargeting boo...</td>\n",
       "      <td>6 big question about new omicrontarget booster...</td>\n",
       "      <td>6 big question about new Omicrontargeting boos...</td>\n",
       "      <td>6 big questions new Omicrontargeting boosters ...</td>\n",
       "    </tr>\n",
       "    <tr>\n",
       "      <th>1</th>\n",
       "      <td>I'm confused https://t.co/NyfgdYUYAT</td>\n",
       "      <td>0</td>\n",
       "      <td>Im confused https</td>\n",
       "      <td>im confus http</td>\n",
       "      <td>Im confused http</td>\n",
       "      <td>Im confused https</td>\n",
       "    </tr>\n",
       "  </tbody>\n",
       "</table>\n",
       "</div>"
      ],
      "text/plain": [
       "                                              tweets  retweet_count  \\\n",
       "0  6 big questions about new Omicron-targeting bo...              0   \n",
       "1               I'm confused https://t.co/NyfgdYUYAT              0   \n",
       "\n",
       "                                              review  \\\n",
       "0  6 big questions about new Omicrontargeting boo...   \n",
       "1                                  Im confused https   \n",
       "\n",
       "                                         stem_review  \\\n",
       "0  6 big question about new omicrontarget booster...   \n",
       "1                                     im confus http   \n",
       "\n",
       "                                    lemmatize_review  \\\n",
       "0  6 big question about new Omicrontargeting boos...   \n",
       "1                                   Im confused http   \n",
       "\n",
       "                                        final_review  \n",
       "0  6 big questions new Omicrontargeting boosters ...  \n",
       "1                                  Im confused https  "
      ]
     },
     "execution_count": 17,
     "metadata": {},
     "output_type": "execute_result"
    }
   ],
   "source": [
    "#removing stopwards\n",
    "stopwords = nltk.corpus.stopwords.words('english')\n",
    "\n",
    "def remove_stopwords(text,is_lower_case=False):\n",
    "    tokens = toktok.tokenize(text)\n",
    "    tokens = [token.strip() for token in tokens]\n",
    "    if is_lower_case:\n",
    "        filtered_tokens = [token for token in tokens if token not in stopwords_list]\n",
    "    else:\n",
    "        filtered_tokens = [token for token in tokens if token.lower() not in stopwords_list]\n",
    "    filtered_text = ' '.join(filtered_tokens)\n",
    "    return filtered_text\n",
    "\n",
    "df['final_review'] = df['review'].apply(remove_stopwords)\n",
    "df.head(2)"
   ]
  },
  {
   "cell_type": "code",
   "execution_count": 18,
   "metadata": {},
   "outputs": [
    {
     "name": "stdout",
     "output_type": "stream",
     "text": [
      "6 big questions new Omicrontargeting boosters Boosting Target targeting boost https\n"
     ]
    }
   ],
   "source": [
    "#Normalise test and train reviews\n",
    "\n",
    "norm_train_reviews = df.final_review[:3000]\n",
    "print(norm_train_reviews[0])\n",
    "\n"
   ]
  },
  {
   "cell_type": "code",
   "execution_count": 19,
   "metadata": {},
   "outputs": [
    {
     "data": {
      "text/plain": [
       "(6998, 6)"
      ]
     },
     "execution_count": 19,
     "metadata": {},
     "output_type": "execute_result"
    }
   ],
   "source": [
    "df.shape"
   ]
  },
  {
   "cell_type": "code",
   "execution_count": 20,
   "metadata": {},
   "outputs": [
    {
     "name": "stdout",
     "output_type": "stream",
     "text": [
      "Sounds like reasonable argument boosters never showed great efficacy Omicron variants\n"
     ]
    }
   ],
   "source": [
    "norm_test_reviews=df.final_review[3001:]\n",
    "print(norm_test_reviews[5000])"
   ]
  },
  {
   "cell_type": "code",
   "execution_count": 21,
   "metadata": {},
   "outputs": [],
   "source": [
    "#bag of words\n",
    "cv = CountVectorizer()"
   ]
  },
  {
   "cell_type": "code",
   "execution_count": 22,
   "metadata": {},
   "outputs": [
    {
     "name": "stdout",
     "output_type": "stream",
     "text": [
      "BOW_cv_train: (3000, 9052)\n",
      "BOW_cv_test: (3997, 9052)\n"
     ]
    }
   ],
   "source": [
    "cv_train_reviews = cv.fit_transform(norm_train_reviews)\n",
    "cv_test_reviews = cv.transform(norm_test_reviews)\n",
    "\n",
    "print('BOW_cv_train:',cv_train_reviews.shape)\n",
    "print('BOW_cv_test:',cv_test_reviews.shape)"
   ]
  },
  {
   "cell_type": "code",
   "execution_count": 23,
   "metadata": {},
   "outputs": [
    {
     "data": {
      "text/plain": [
       "<1x9052 sparse matrix of type '<class 'numpy.int64'>'\n",
       "\twith 3 stored elements in Compressed Sparse Row format>"
      ]
     },
     "execution_count": 23,
     "metadata": {},
     "output_type": "execute_result"
    }
   ],
   "source": [
    "cv_train_reviews[1]"
   ]
  },
  {
   "cell_type": "code",
   "execution_count": 24,
   "metadata": {},
   "outputs": [
    {
     "data": {
      "text/plain": [
       "array([[0, 0, 0, ..., 0, 0, 0]], dtype=int64)"
      ]
     },
     "execution_count": 24,
     "metadata": {},
     "output_type": "execute_result"
    }
   ],
   "source": [
    "cv_train_reviews[1].toarray()"
   ]
  },
  {
   "cell_type": "code",
   "execution_count": 25,
   "metadata": {},
   "outputs": [],
   "source": [
    "# Tf-idf; Term frequency and inverse document frequency\n",
    "tv = TfidfVectorizer()"
   ]
  },
  {
   "cell_type": "code",
   "execution_count": 26,
   "metadata": {},
   "outputs": [
    {
     "name": "stdout",
     "output_type": "stream",
     "text": [
      "Tfidf_train: (3000, 9052)\n",
      "Tfidf_test: (3997, 9052)\n"
     ]
    }
   ],
   "source": [
    "tv_train_reviews = tv.fit_transform(norm_train_reviews)\n",
    "tv_test_reviews=tv.transform(norm_test_reviews)\n",
    "\n",
    "\n",
    "print('Tfidf_train:',tv_train_reviews.shape)\n",
    "print('Tfidf_test:',tv_test_reviews.shape)"
   ]
  },
  {
   "cell_type": "code",
   "execution_count": 27,
   "metadata": {},
   "outputs": [],
   "source": [
    "#Most tweeted words"
   ]
  },
  {
   "cell_type": "code",
   "execution_count": 28,
   "metadata": {},
   "outputs": [
    {
     "data": {
      "text/html": [
       "<div>\n",
       "<style scoped>\n",
       "    .dataframe tbody tr th:only-of-type {\n",
       "        vertical-align: middle;\n",
       "    }\n",
       "\n",
       "    .dataframe tbody tr th {\n",
       "        vertical-align: top;\n",
       "    }\n",
       "\n",
       "    .dataframe thead th {\n",
       "        text-align: right;\n",
       "    }\n",
       "</style>\n",
       "<table border=\"1\" class=\"dataframe\">\n",
       "  <thead>\n",
       "    <tr style=\"text-align: right;\">\n",
       "      <th></th>\n",
       "      <th>tweets</th>\n",
       "      <th>retweet_count</th>\n",
       "      <th>review</th>\n",
       "      <th>stem_review</th>\n",
       "      <th>lemmatize_review</th>\n",
       "      <th>final_review</th>\n",
       "      <th>tokenize</th>\n",
       "    </tr>\n",
       "  </thead>\n",
       "  <tbody>\n",
       "    <tr>\n",
       "      <th>0</th>\n",
       "      <td>6 big questions about new Omicron-targeting bo...</td>\n",
       "      <td>0</td>\n",
       "      <td>6 big questions about new Omicrontargeting boo...</td>\n",
       "      <td>6 big question about new omicrontarget booster...</td>\n",
       "      <td>6 big question about new Omicrontargeting boos...</td>\n",
       "      <td>6 big questions new Omicrontargeting boosters ...</td>\n",
       "      <td>[6, big, questions, new, Omicrontargeting, boo...</td>\n",
       "    </tr>\n",
       "    <tr>\n",
       "      <th>1</th>\n",
       "      <td>I'm confused https://t.co/NyfgdYUYAT</td>\n",
       "      <td>0</td>\n",
       "      <td>Im confused https</td>\n",
       "      <td>im confus http</td>\n",
       "      <td>Im confused http</td>\n",
       "      <td>Im confused https</td>\n",
       "      <td>[Im, confused, https]</td>\n",
       "    </tr>\n",
       "  </tbody>\n",
       "</table>\n",
       "</div>"
      ],
      "text/plain": [
       "                                              tweets  retweet_count  \\\n",
       "0  6 big questions about new Omicron-targeting bo...              0   \n",
       "1               I'm confused https://t.co/NyfgdYUYAT              0   \n",
       "\n",
       "                                              review  \\\n",
       "0  6 big questions about new Omicrontargeting boo...   \n",
       "1                                  Im confused https   \n",
       "\n",
       "                                         stem_review  \\\n",
       "0  6 big question about new omicrontarget booster...   \n",
       "1                                     im confus http   \n",
       "\n",
       "                                    lemmatize_review  \\\n",
       "0  6 big question about new Omicrontargeting boos...   \n",
       "1                                   Im confused http   \n",
       "\n",
       "                                        final_review  \\\n",
       "0  6 big questions new Omicrontargeting boosters ...   \n",
       "1                                  Im confused https   \n",
       "\n",
       "                                            tokenize  \n",
       "0  [6, big, questions, new, Omicrontargeting, boo...  \n",
       "1                              [Im, confused, https]  "
      ]
     },
     "execution_count": 28,
     "metadata": {},
     "output_type": "execute_result"
    }
   ],
   "source": [
    "tok = lambda x:word_tokenize(x)\n",
    "df['tokenize'] = df['final_review'].apply(tok)\n",
    "df.head(2)"
   ]
  },
  {
   "cell_type": "code",
   "execution_count": 29,
   "metadata": {},
   "outputs": [],
   "source": [
    "import itertools,collections\n",
    "\n",
    "new_tokenize = df['tokenize']\n",
    "all_words = list(itertools.chain(*new_tokenize))"
   ]
  },
  {
   "cell_type": "code",
   "execution_count": 30,
   "metadata": {},
   "outputs": [
    {
     "data": {
      "text/html": [
       "<div>\n",
       "<style scoped>\n",
       "    .dataframe tbody tr th:only-of-type {\n",
       "        vertical-align: middle;\n",
       "    }\n",
       "\n",
       "    .dataframe tbody tr th {\n",
       "        vertical-align: top;\n",
       "    }\n",
       "\n",
       "    .dataframe thead th {\n",
       "        text-align: right;\n",
       "    }\n",
       "</style>\n",
       "<table border=\"1\" class=\"dataframe\">\n",
       "  <thead>\n",
       "    <tr style=\"text-align: right;\">\n",
       "      <th></th>\n",
       "      <th>words</th>\n",
       "      <th>count</th>\n",
       "    </tr>\n",
       "  </thead>\n",
       "  <tbody>\n",
       "    <tr>\n",
       "      <th>0</th>\n",
       "      <td>Omicron</td>\n",
       "      <td>4309</td>\n",
       "    </tr>\n",
       "    <tr>\n",
       "      <th>1</th>\n",
       "      <td>https</td>\n",
       "      <td>2473</td>\n",
       "    </tr>\n",
       "    <tr>\n",
       "      <th>2</th>\n",
       "      <td>omicron</td>\n",
       "      <td>1839</td>\n",
       "    </tr>\n",
       "    <tr>\n",
       "      <th>3</th>\n",
       "      <td>variant</td>\n",
       "      <td>818</td>\n",
       "    </tr>\n",
       "    <tr>\n",
       "      <th>4</th>\n",
       "      <td>people</td>\n",
       "      <td>577</td>\n",
       "    </tr>\n",
       "  </tbody>\n",
       "</table>\n",
       "</div>"
      ],
      "text/plain": [
       "     words  count\n",
       "0  Omicron   4309\n",
       "1    https   2473\n",
       "2  omicron   1839\n",
       "3  variant    818\n",
       "4   people    577"
      ]
     },
     "execution_count": 30,
     "metadata": {},
     "output_type": "execute_result"
    }
   ],
   "source": [
    "counts = collections.Counter(all_words)\n",
    "count_frequency = counts.most_common(200)\n",
    "\n",
    "clean_tweets = pd.DataFrame(counts.most_common(200),columns=['words', 'count'])\n",
    "clean_tweets.head()"
   ]
  },
  {
   "cell_type": "code",
   "execution_count": 39,
   "metadata": {},
   "outputs": [
    {
     "data": {
      "text/html": [
       "<div>\n",
       "<style scoped>\n",
       "    .dataframe tbody tr th:only-of-type {\n",
       "        vertical-align: middle;\n",
       "    }\n",
       "\n",
       "    .dataframe tbody tr th {\n",
       "        vertical-align: top;\n",
       "    }\n",
       "\n",
       "    .dataframe thead th {\n",
       "        text-align: right;\n",
       "    }\n",
       "</style>\n",
       "<table border=\"1\" class=\"dataframe\">\n",
       "  <thead>\n",
       "    <tr style=\"text-align: right;\">\n",
       "      <th></th>\n",
       "      <th>tweets</th>\n",
       "      <th>retweet_count</th>\n",
       "      <th>review</th>\n",
       "      <th>stem_review</th>\n",
       "      <th>lemmatize_review</th>\n",
       "      <th>final_review</th>\n",
       "      <th>tokenize</th>\n",
       "    </tr>\n",
       "  </thead>\n",
       "  <tbody>\n",
       "    <tr>\n",
       "      <th>0</th>\n",
       "      <td>6 big questions about new Omicron-targeting bo...</td>\n",
       "      <td>0</td>\n",
       "      <td>6 big questions about new Omicrontargeting boo...</td>\n",
       "      <td>6 big question about new omicrontarget booster...</td>\n",
       "      <td>6 big question about new Omicrontargeting boos...</td>\n",
       "      <td>6 big questions new Omicrontargeting boosters ...</td>\n",
       "      <td>[6, big, questions, new, Omicrontargeting, boo...</td>\n",
       "    </tr>\n",
       "    <tr>\n",
       "      <th>1</th>\n",
       "      <td>I'm confused https://t.co/NyfgdYUYAT</td>\n",
       "      <td>0</td>\n",
       "      <td>Im confused https</td>\n",
       "      <td>im confus http</td>\n",
       "      <td>Im confused http</td>\n",
       "      <td>Im confused https</td>\n",
       "      <td>[Im, confused, https]</td>\n",
       "    </tr>\n",
       "    <tr>\n",
       "      <th>2</th>\n",
       "      <td>Long COVID less likely after Omicron than afte...</td>\n",
       "      <td>0</td>\n",
       "      <td>Long COVID less likely after Omicron than afte...</td>\n",
       "      <td>long covid less like after omicron than after ...</td>\n",
       "      <td>Long COVID le likely after Omicron than after ...</td>\n",
       "      <td>Long COVID less likely Omicron original virus ...</td>\n",
       "      <td>[Long, COVID, less, likely, Omicron, original,...</td>\n",
       "    </tr>\n",
       "    <tr>\n",
       "      <th>3</th>\n",
       "      <td>The finding don't tally with the high numbers ...</td>\n",
       "      <td>0</td>\n",
       "      <td>The finding dont tally with the high numbers w...</td>\n",
       "      <td>the find dont talli with the high number we se...</td>\n",
       "      <td>The finding dont tally with the high number we...</td>\n",
       "      <td>finding dont tally high numbers see bulletins ...</td>\n",
       "      <td>[finding, dont, tally, high, numbers, see, bul...</td>\n",
       "    </tr>\n",
       "    <tr>\n",
       "      <th>4</th>\n",
       "      <td>A conference abstract from the European Congre...</td>\n",
       "      <td>1</td>\n",
       "      <td>A conference abstract from the European Congre...</td>\n",
       "      <td>a confer abstract from the european congress o...</td>\n",
       "      <td>A conference abstract from the European Congre...</td>\n",
       "      <td>conference abstract European Congress Clinical...</td>\n",
       "      <td>[conference, abstract, European, Congress, Cli...</td>\n",
       "    </tr>\n",
       "    <tr>\n",
       "      <th>...</th>\n",
       "      <td>...</td>\n",
       "      <td>...</td>\n",
       "      <td>...</td>\n",
       "      <td>...</td>\n",
       "      <td>...</td>\n",
       "      <td>...</td>\n",
       "      <td>...</td>\n",
       "    </tr>\n",
       "    <tr>\n",
       "      <th>6993</th>\n",
       "      <td>@Cycl_Conscience @BallouxFrancois Your argumen...</td>\n",
       "      <td>0</td>\n",
       "      <td>Conscience  Your argument is flawed Masks work...</td>\n",
       "      <td>conscienc your argument is flaw mask work we d...</td>\n",
       "      <td>Conscience Your argument is flawed Masks work ...</td>\n",
       "      <td>Conscience argument flawed Masks work know sil...</td>\n",
       "      <td>[Conscience, argument, flawed, Masks, work, kn...</td>\n",
       "    </tr>\n",
       "    <tr>\n",
       "      <th>6994</th>\n",
       "      <td>@BretWeinstein I don't think it escaped, they ...</td>\n",
       "      <td>0</td>\n",
       "      <td>I dont think it escaped they opened the cell ...</td>\n",
       "      <td>i dont think it escap they open the cell door ...</td>\n",
       "      <td>I dont think it escaped they opened the cell d...</td>\n",
       "      <td>dont think escaped opened cell door wanted hap...</td>\n",
       "      <td>[dont, think, escaped, opened, cell, door, wan...</td>\n",
       "    </tr>\n",
       "    <tr>\n",
       "      <th>6995</th>\n",
       "      <td>@_50kgold Do you have to show your face? I'd b...</td>\n",
       "      <td>0</td>\n",
       "      <td>50kgold Do you have to show your face Id be ru...</td>\n",
       "      <td>50kgold do you have to show your face id be ru...</td>\n",
       "      <td>50kgold Do you have to show your face Id be ru...</td>\n",
       "      <td>50kgold show face Id running errands gettin cu...</td>\n",
       "      <td>[50kgold, show, face, Id, running, errands, ge...</td>\n",
       "    </tr>\n",
       "    <tr>\n",
       "      <th>6996</th>\n",
       "      <td>@noxcato @andrewtanyongyi @TAH_Sci @hsom113 @M...</td>\n",
       "      <td>0</td>\n",
       "      <td>Sci 113  That it all worked before DeltaOmic...</td>\n",
       "      <td>sci 113 that it all work befor deltaomicron is...</td>\n",
       "      <td>Sci 113 That it all worked before DeltaOmicron...</td>\n",
       "      <td>Sci 113 worked DeltaOmicron fallback position ...</td>\n",
       "      <td>[Sci, 113, worked, DeltaOmicron, fallback, pos...</td>\n",
       "    </tr>\n",
       "    <tr>\n",
       "      <th>6997</th>\n",
       "      <td>In light of the fact that #Omicron is unrelate...</td>\n",
       "      <td>0</td>\n",
       "      <td>In light of the fact that Omicron is unrelated...</td>\n",
       "      <td>in light of the fact that omicron is unrel to ...</td>\n",
       "      <td>In light of the fact that Omicron is unrelated...</td>\n",
       "      <td>light fact Omicron unrelated Delta time revisi...</td>\n",
       "      <td>[light, fact, Omicron, unrelated, Delta, time,...</td>\n",
       "    </tr>\n",
       "  </tbody>\n",
       "</table>\n",
       "<p>6998 rows × 7 columns</p>\n",
       "</div>"
      ],
      "text/plain": [
       "                                                 tweets  retweet_count  \\\n",
       "0     6 big questions about new Omicron-targeting bo...              0   \n",
       "1                  I'm confused https://t.co/NyfgdYUYAT              0   \n",
       "2     Long COVID less likely after Omicron than afte...              0   \n",
       "3     The finding don't tally with the high numbers ...              0   \n",
       "4     A conference abstract from the European Congre...              1   \n",
       "...                                                 ...            ...   \n",
       "6993  @Cycl_Conscience @BallouxFrancois Your argumen...              0   \n",
       "6994  @BretWeinstein I don't think it escaped, they ...              0   \n",
       "6995  @_50kgold Do you have to show your face? I'd b...              0   \n",
       "6996  @noxcato @andrewtanyongyi @TAH_Sci @hsom113 @M...              0   \n",
       "6997  In light of the fact that #Omicron is unrelate...              0   \n",
       "\n",
       "                                                 review  \\\n",
       "0     6 big questions about new Omicrontargeting boo...   \n",
       "1                                     Im confused https   \n",
       "2     Long COVID less likely after Omicron than afte...   \n",
       "3     The finding dont tally with the high numbers w...   \n",
       "4     A conference abstract from the European Congre...   \n",
       "...                                                 ...   \n",
       "6993  Conscience  Your argument is flawed Masks work...   \n",
       "6994   I dont think it escaped they opened the cell ...   \n",
       "6995  50kgold Do you have to show your face Id be ru...   \n",
       "6996    Sci 113  That it all worked before DeltaOmic...   \n",
       "6997  In light of the fact that Omicron is unrelated...   \n",
       "\n",
       "                                            stem_review  \\\n",
       "0     6 big question about new omicrontarget booster...   \n",
       "1                                        im confus http   \n",
       "2     long covid less like after omicron than after ...   \n",
       "3     the find dont talli with the high number we se...   \n",
       "4     a confer abstract from the european congress o...   \n",
       "...                                                 ...   \n",
       "6993  conscienc your argument is flaw mask work we d...   \n",
       "6994  i dont think it escap they open the cell door ...   \n",
       "6995  50kgold do you have to show your face id be ru...   \n",
       "6996  sci 113 that it all work befor deltaomicron is...   \n",
       "6997  in light of the fact that omicron is unrel to ...   \n",
       "\n",
       "                                       lemmatize_review  \\\n",
       "0     6 big question about new Omicrontargeting boos...   \n",
       "1                                      Im confused http   \n",
       "2     Long COVID le likely after Omicron than after ...   \n",
       "3     The finding dont tally with the high number we...   \n",
       "4     A conference abstract from the European Congre...   \n",
       "...                                                 ...   \n",
       "6993  Conscience Your argument is flawed Masks work ...   \n",
       "6994  I dont think it escaped they opened the cell d...   \n",
       "6995  50kgold Do you have to show your face Id be ru...   \n",
       "6996  Sci 113 That it all worked before DeltaOmicron...   \n",
       "6997  In light of the fact that Omicron is unrelated...   \n",
       "\n",
       "                                           final_review  \\\n",
       "0     6 big questions new Omicrontargeting boosters ...   \n",
       "1                                     Im confused https   \n",
       "2     Long COVID less likely Omicron original virus ...   \n",
       "3     finding dont tally high numbers see bulletins ...   \n",
       "4     conference abstract European Congress Clinical...   \n",
       "...                                                 ...   \n",
       "6993  Conscience argument flawed Masks work know sil...   \n",
       "6994  dont think escaped opened cell door wanted hap...   \n",
       "6995  50kgold show face Id running errands gettin cu...   \n",
       "6996  Sci 113 worked DeltaOmicron fallback position ...   \n",
       "6997  light fact Omicron unrelated Delta time revisi...   \n",
       "\n",
       "                                               tokenize  \n",
       "0     [6, big, questions, new, Omicrontargeting, boo...  \n",
       "1                                 [Im, confused, https]  \n",
       "2     [Long, COVID, less, likely, Omicron, original,...  \n",
       "3     [finding, dont, tally, high, numbers, see, bul...  \n",
       "4     [conference, abstract, European, Congress, Cli...  \n",
       "...                                                 ...  \n",
       "6993  [Conscience, argument, flawed, Masks, work, kn...  \n",
       "6994  [dont, think, escaped, opened, cell, door, wan...  \n",
       "6995  [50kgold, show, face, Id, running, errands, ge...  \n",
       "6996  [Sci, 113, worked, DeltaOmicron, fallback, pos...  \n",
       "6997  [light, fact, Omicron, unrelated, Delta, time,...  \n",
       "\n",
       "[6998 rows x 7 columns]"
      ]
     },
     "execution_count": 39,
     "metadata": {},
     "output_type": "execute_result"
    }
   ],
   "source": []
  },
  {
   "cell_type": "code",
   "execution_count": 31,
   "metadata": {},
   "outputs": [
    {
     "ename": "KeyboardInterrupt",
     "evalue": "Interrupted by user",
     "output_type": "error",
     "traceback": [
      "\u001b[1;31m---------------------------------------------------------------------------\u001b[0m",
      "\u001b[1;31mKeyboardInterrupt\u001b[0m                         Traceback (most recent call last)",
      "Cell \u001b[1;32mIn[31], line 1\u001b[0m\n\u001b[1;32m----> 1\u001b[0m Number \u001b[38;5;241m=\u001b[39m \u001b[38;5;28minput\u001b[39m(\u001b[38;5;124m'\u001b[39m\u001b[38;5;124mNo of most common words to plot: \u001b[39m\u001b[38;5;124m'\u001b[39m)\n\u001b[0;32m      2\u001b[0m fig, ax \u001b[38;5;241m=\u001b[39m plt\u001b[38;5;241m.\u001b[39msubplots(figsize\u001b[38;5;241m=\u001b[39m(\u001b[38;5;241m8\u001b[39m, \u001b[38;5;241m8\u001b[39m))\n\u001b[0;32m      3\u001b[0m clean_tweets[:\u001b[38;5;241m25\u001b[39m]\u001b[38;5;241m.\u001b[39msort_values(by\u001b[38;5;241m=\u001b[39m\u001b[38;5;124m'\u001b[39m\u001b[38;5;124mcount\u001b[39m\u001b[38;5;124m'\u001b[39m)\u001b[38;5;241m.\u001b[39mplot\u001b[38;5;241m.\u001b[39mbarh(x\u001b[38;5;241m=\u001b[39m\u001b[38;5;124m'\u001b[39m\u001b[38;5;124mwords\u001b[39m\u001b[38;5;124m'\u001b[39m,y\u001b[38;5;241m=\u001b[39m\u001b[38;5;124m'\u001b[39m\u001b[38;5;124mcount\u001b[39m\u001b[38;5;124m'\u001b[39m,ax\u001b[38;5;241m=\u001b[39max,color\u001b[38;5;241m=\u001b[39m\u001b[38;5;124m'\u001b[39m\u001b[38;5;124mmaroon\u001b[39m\u001b[38;5;124m'\u001b[39m)\n",
      "File \u001b[1;32m~\\anaconda3\\Lib\\site-packages\\ipykernel\\kernelbase.py:1175\u001b[0m, in \u001b[0;36mKernel.raw_input\u001b[1;34m(self, prompt)\u001b[0m\n\u001b[0;32m   1171\u001b[0m \u001b[38;5;28;01mif\u001b[39;00m \u001b[38;5;129;01mnot\u001b[39;00m \u001b[38;5;28mself\u001b[39m\u001b[38;5;241m.\u001b[39m_allow_stdin:\n\u001b[0;32m   1172\u001b[0m     \u001b[38;5;28;01mraise\u001b[39;00m StdinNotImplementedError(\n\u001b[0;32m   1173\u001b[0m         \u001b[38;5;124m\"\u001b[39m\u001b[38;5;124mraw_input was called, but this frontend does not support input requests.\u001b[39m\u001b[38;5;124m\"\u001b[39m\n\u001b[0;32m   1174\u001b[0m     )\n\u001b[1;32m-> 1175\u001b[0m \u001b[38;5;28;01mreturn\u001b[39;00m \u001b[38;5;28mself\u001b[39m\u001b[38;5;241m.\u001b[39m_input_request(\n\u001b[0;32m   1176\u001b[0m     \u001b[38;5;28mstr\u001b[39m(prompt),\n\u001b[0;32m   1177\u001b[0m     \u001b[38;5;28mself\u001b[39m\u001b[38;5;241m.\u001b[39m_parent_ident[\u001b[38;5;124m\"\u001b[39m\u001b[38;5;124mshell\u001b[39m\u001b[38;5;124m\"\u001b[39m],\n\u001b[0;32m   1178\u001b[0m     \u001b[38;5;28mself\u001b[39m\u001b[38;5;241m.\u001b[39mget_parent(\u001b[38;5;124m\"\u001b[39m\u001b[38;5;124mshell\u001b[39m\u001b[38;5;124m\"\u001b[39m),\n\u001b[0;32m   1179\u001b[0m     password\u001b[38;5;241m=\u001b[39m\u001b[38;5;28;01mFalse\u001b[39;00m,\n\u001b[0;32m   1180\u001b[0m )\n",
      "File \u001b[1;32m~\\anaconda3\\Lib\\site-packages\\ipykernel\\kernelbase.py:1217\u001b[0m, in \u001b[0;36mKernel._input_request\u001b[1;34m(self, prompt, ident, parent, password)\u001b[0m\n\u001b[0;32m   1214\u001b[0m             \u001b[38;5;28;01mbreak\u001b[39;00m\n\u001b[0;32m   1215\u001b[0m \u001b[38;5;28;01mexcept\u001b[39;00m \u001b[38;5;167;01mKeyboardInterrupt\u001b[39;00m:\n\u001b[0;32m   1216\u001b[0m     \u001b[38;5;66;03m# re-raise KeyboardInterrupt, to truncate traceback\u001b[39;00m\n\u001b[1;32m-> 1217\u001b[0m     \u001b[38;5;28;01mraise\u001b[39;00m \u001b[38;5;167;01mKeyboardInterrupt\u001b[39;00m(\u001b[38;5;124m\"\u001b[39m\u001b[38;5;124mInterrupted by user\u001b[39m\u001b[38;5;124m\"\u001b[39m) \u001b[38;5;28;01mfrom\u001b[39;00m \u001b[38;5;28;01mNone\u001b[39;00m\n\u001b[0;32m   1218\u001b[0m \u001b[38;5;28;01mexcept\u001b[39;00m \u001b[38;5;167;01mException\u001b[39;00m:\n\u001b[0;32m   1219\u001b[0m     \u001b[38;5;28mself\u001b[39m\u001b[38;5;241m.\u001b[39mlog\u001b[38;5;241m.\u001b[39mwarning(\u001b[38;5;124m\"\u001b[39m\u001b[38;5;124mInvalid Message:\u001b[39m\u001b[38;5;124m\"\u001b[39m, exc_info\u001b[38;5;241m=\u001b[39m\u001b[38;5;28;01mTrue\u001b[39;00m)\n",
      "\u001b[1;31mKeyboardInterrupt\u001b[0m: Interrupted by user"
     ]
    }
   ],
   "source": [
    "Number = input('No of most common words to plot: ')\n",
    "fig, ax = plt.subplots(figsize=(8, 8))\n",
    "clean_tweets[:25].sort_values(by='count').plot.barh(x='words',y='count',ax=ax,color='maroon')\n",
    "ax.set_title(\"Common Words Found in Tweets (Including All Words)\")\n",
    "plt.show()"
   ]
  },
  {
   "cell_type": "code",
   "execution_count": 48,
   "metadata": {},
   "outputs": [
    {
     "name": "stdout",
     "output_type": "stream",
     "text": [
      "Requirement already satisfied: textblob in c:\\users\\hp\\anaconda3\\lib\\site-packages (0.18.0.post0)\n",
      "Requirement already satisfied: nltk>=3.8 in c:\\users\\hp\\anaconda3\\lib\\site-packages (from textblob) (3.8.1)\n",
      "Requirement already satisfied: click in c:\\users\\hp\\anaconda3\\lib\\site-packages (from nltk>=3.8->textblob) (8.0.4)\n",
      "Requirement already satisfied: joblib in c:\\users\\hp\\anaconda3\\lib\\site-packages (from nltk>=3.8->textblob) (1.2.0)\n",
      "Requirement already satisfied: regex>=2021.8.3 in c:\\users\\hp\\anaconda3\\lib\\site-packages (from nltk>=3.8->textblob) (2022.7.9)\n",
      "Requirement already satisfied: tqdm in c:\\users\\hp\\anaconda3\\lib\\site-packages (from nltk>=3.8->textblob) (4.65.0)\n",
      "Requirement already satisfied: colorama in c:\\users\\hp\\anaconda3\\lib\\site-packages (from click->nltk>=3.8->textblob) (0.4.6)\n"
     ]
    }
   ],
   "source": [
    "#Installing textblob\n",
    "!pip install textblob\n",
    "from textblob import TextBlob"
   ]
  },
  {
   "cell_type": "code",
   "execution_count": 59,
   "metadata": {},
   "outputs": [
    {
     "data": {
      "text/html": [
       "<div>\n",
       "<style scoped>\n",
       "    .dataframe tbody tr th:only-of-type {\n",
       "        vertical-align: middle;\n",
       "    }\n",
       "\n",
       "    .dataframe tbody tr th {\n",
       "        vertical-align: top;\n",
       "    }\n",
       "\n",
       "    .dataframe thead th {\n",
       "        text-align: right;\n",
       "    }\n",
       "</style>\n",
       "<table border=\"1\" class=\"dataframe\">\n",
       "  <thead>\n",
       "    <tr style=\"text-align: right;\">\n",
       "      <th></th>\n",
       "      <th>tweets</th>\n",
       "      <th>retweet_count</th>\n",
       "      <th>review</th>\n",
       "      <th>stem_review</th>\n",
       "      <th>lemmatize_review</th>\n",
       "      <th>final_review</th>\n",
       "      <th>tokenize</th>\n",
       "      <th>polarity</th>\n",
       "      <th>subjectivity</th>\n",
       "    </tr>\n",
       "  </thead>\n",
       "  <tbody>\n",
       "    <tr>\n",
       "      <th>0</th>\n",
       "      <td>6 big questions about new Omicron-targeting bo...</td>\n",
       "      <td>0</td>\n",
       "      <td>6 big questions about new Omicrontargeting boo...</td>\n",
       "      <td>6 big question about new omicrontarget booster...</td>\n",
       "      <td>6 big question about new Omicrontargeting boos...</td>\n",
       "      <td>6 big questions new Omicrontargeting boosters ...</td>\n",
       "      <td>[6, big, questions, new, Omicrontargeting, boo...</td>\n",
       "      <td>0.068182</td>\n",
       "      <td>0.277273</td>\n",
       "    </tr>\n",
       "    <tr>\n",
       "      <th>1</th>\n",
       "      <td>I'm confused https://t.co/NyfgdYUYAT</td>\n",
       "      <td>0</td>\n",
       "      <td>Im confused https</td>\n",
       "      <td>im confus http</td>\n",
       "      <td>Im confused http</td>\n",
       "      <td>Im confused https</td>\n",
       "      <td>[Im, confused, https]</td>\n",
       "      <td>-0.400000</td>\n",
       "      <td>0.700000</td>\n",
       "    </tr>\n",
       "    <tr>\n",
       "      <th>2</th>\n",
       "      <td>Long COVID less likely after Omicron than afte...</td>\n",
       "      <td>0</td>\n",
       "      <td>Long COVID less likely after Omicron than afte...</td>\n",
       "      <td>long covid less like after omicron than after ...</td>\n",
       "      <td>Long COVID le likely after Omicron than after ...</td>\n",
       "      <td>Long COVID less likely Omicron original virus ...</td>\n",
       "      <td>[Long, COVID, less, likely, Omicron, original,...</td>\n",
       "      <td>0.039583</td>\n",
       "      <td>0.554167</td>\n",
       "    </tr>\n",
       "    <tr>\n",
       "      <th>3</th>\n",
       "      <td>The finding don't tally with the high numbers ...</td>\n",
       "      <td>0</td>\n",
       "      <td>The finding dont tally with the high numbers w...</td>\n",
       "      <td>the find dont talli with the high number we se...</td>\n",
       "      <td>The finding dont tally with the high number we...</td>\n",
       "      <td>finding dont tally high numbers see bulletins ...</td>\n",
       "      <td>[finding, dont, tally, high, numbers, see, bul...</td>\n",
       "      <td>0.160000</td>\n",
       "      <td>0.540000</td>\n",
       "    </tr>\n",
       "    <tr>\n",
       "      <th>4</th>\n",
       "      <td>A conference abstract from the European Congre...</td>\n",
       "      <td>1</td>\n",
       "      <td>A conference abstract from the European Congre...</td>\n",
       "      <td>a confer abstract from the european congress o...</td>\n",
       "      <td>A conference abstract from the European Congre...</td>\n",
       "      <td>conference abstract European Congress Clinical...</td>\n",
       "      <td>[conference, abstract, European, Congress, Cli...</td>\n",
       "      <td>-0.083333</td>\n",
       "      <td>0.033333</td>\n",
       "    </tr>\n",
       "    <tr>\n",
       "      <th>5</th>\n",
       "      <td>FGS @UKHSA pauses ONS C-19 Infection Survey 4 ...</td>\n",
       "      <td>0</td>\n",
       "      <td>FGS  pauses ONS C19 Infection Survey 4 many mo...</td>\n",
       "      <td>fg paus on c19 infect survey 4 mani month as g...</td>\n",
       "      <td>FGS pause ONS C19 Infection Survey 4 many mont...</td>\n",
       "      <td>FGS pauses ONS C19 Infection Survey 4 many mon...</td>\n",
       "      <td>[FGS, pauses, ONS, C19, Infection, Survey, 4, ...</td>\n",
       "      <td>0.027273</td>\n",
       "      <td>0.404242</td>\n",
       "    </tr>\n",
       "    <tr>\n",
       "      <th>6</th>\n",
       "      <td>@SandraHelena39 Look on the bright side, Omicr...</td>\n",
       "      <td>0</td>\n",
       "      <td>39 Look on the bright side Omicron is practica...</td>\n",
       "      <td>39 look on the bright side omicron is practic ...</td>\n",
       "      <td>39 Look on the bright side Omicron is practica...</td>\n",
       "      <td>39 Look bright side Omicron practically harmle...</td>\n",
       "      <td>[39, Look, bright, side, Omicron, practically,...</td>\n",
       "      <td>0.700000</td>\n",
       "      <td>0.800000</td>\n",
       "    </tr>\n",
       "    <tr>\n",
       "      <th>7</th>\n",
       "      <td>@OMICRON_XBB Dream bigger</td>\n",
       "      <td>0</td>\n",
       "      <td>XBB Dream bigger</td>\n",
       "      <td>xbb dream bigger</td>\n",
       "      <td>XBB Dream bigger</td>\n",
       "      <td>XBB Dream bigger</td>\n",
       "      <td>[XBB, Dream, bigger]</td>\n",
       "      <td>0.000000</td>\n",
       "      <td>0.500000</td>\n",
       "    </tr>\n",
       "    <tr>\n",
       "      <th>8</th>\n",
       "      <td>@NOTSubzerodrew As my last wish</td>\n",
       "      <td>0</td>\n",
       "      <td>As my last wish</td>\n",
       "      <td>as my last wish</td>\n",
       "      <td>As my last wish</td>\n",
       "      <td>last wish</td>\n",
       "      <td>[last, wish]</td>\n",
       "      <td>0.000000</td>\n",
       "      <td>0.066667</td>\n",
       "    </tr>\n",
       "    <tr>\n",
       "      <th>9</th>\n",
       "      <td>@thereal_truther @SadieXShaw Again, graphs are...</td>\n",
       "      <td>0</td>\n",
       "      <td>truther  Again graphs are useless when definit...</td>\n",
       "      <td>truther again graph are useless when definit a...</td>\n",
       "      <td>truther Again graph are useless when definitio...</td>\n",
       "      <td>truther graphs useless definitions faulty name...</td>\n",
       "      <td>[truther, graphs, useless, definitions, faulty...</td>\n",
       "      <td>-0.012963</td>\n",
       "      <td>0.318519</td>\n",
       "    </tr>\n",
       "  </tbody>\n",
       "</table>\n",
       "</div>"
      ],
      "text/plain": [
       "                                              tweets  retweet_count  \\\n",
       "0  6 big questions about new Omicron-targeting bo...              0   \n",
       "1               I'm confused https://t.co/NyfgdYUYAT              0   \n",
       "2  Long COVID less likely after Omicron than afte...              0   \n",
       "3  The finding don't tally with the high numbers ...              0   \n",
       "4  A conference abstract from the European Congre...              1   \n",
       "5  FGS @UKHSA pauses ONS C-19 Infection Survey 4 ...              0   \n",
       "6  @SandraHelena39 Look on the bright side, Omicr...              0   \n",
       "7                          @OMICRON_XBB Dream bigger              0   \n",
       "8                    @NOTSubzerodrew As my last wish              0   \n",
       "9  @thereal_truther @SadieXShaw Again, graphs are...              0   \n",
       "\n",
       "                                              review  \\\n",
       "0  6 big questions about new Omicrontargeting boo...   \n",
       "1                                  Im confused https   \n",
       "2  Long COVID less likely after Omicron than afte...   \n",
       "3  The finding dont tally with the high numbers w...   \n",
       "4  A conference abstract from the European Congre...   \n",
       "5  FGS  pauses ONS C19 Infection Survey 4 many mo...   \n",
       "6  39 Look on the bright side Omicron is practica...   \n",
       "7                                   XBB Dream bigger   \n",
       "8                                    As my last wish   \n",
       "9  truther  Again graphs are useless when definit...   \n",
       "\n",
       "                                         stem_review  \\\n",
       "0  6 big question about new omicrontarget booster...   \n",
       "1                                     im confus http   \n",
       "2  long covid less like after omicron than after ...   \n",
       "3  the find dont talli with the high number we se...   \n",
       "4  a confer abstract from the european congress o...   \n",
       "5  fg paus on c19 infect survey 4 mani month as g...   \n",
       "6  39 look on the bright side omicron is practic ...   \n",
       "7                                   xbb dream bigger   \n",
       "8                                    as my last wish   \n",
       "9  truther again graph are useless when definit a...   \n",
       "\n",
       "                                    lemmatize_review  \\\n",
       "0  6 big question about new Omicrontargeting boos...   \n",
       "1                                   Im confused http   \n",
       "2  Long COVID le likely after Omicron than after ...   \n",
       "3  The finding dont tally with the high number we...   \n",
       "4  A conference abstract from the European Congre...   \n",
       "5  FGS pause ONS C19 Infection Survey 4 many mont...   \n",
       "6  39 Look on the bright side Omicron is practica...   \n",
       "7                                   XBB Dream bigger   \n",
       "8                                    As my last wish   \n",
       "9  truther Again graph are useless when definitio...   \n",
       "\n",
       "                                        final_review  \\\n",
       "0  6 big questions new Omicrontargeting boosters ...   \n",
       "1                                  Im confused https   \n",
       "2  Long COVID less likely Omicron original virus ...   \n",
       "3  finding dont tally high numbers see bulletins ...   \n",
       "4  conference abstract European Congress Clinical...   \n",
       "5  FGS pauses ONS C19 Infection Survey 4 many mon...   \n",
       "6  39 Look bright side Omicron practically harmle...   \n",
       "7                                   XBB Dream bigger   \n",
       "8                                          last wish   \n",
       "9  truther graphs useless definitions faulty name...   \n",
       "\n",
       "                                            tokenize  polarity  subjectivity  \n",
       "0  [6, big, questions, new, Omicrontargeting, boo...  0.068182      0.277273  \n",
       "1                              [Im, confused, https] -0.400000      0.700000  \n",
       "2  [Long, COVID, less, likely, Omicron, original,...  0.039583      0.554167  \n",
       "3  [finding, dont, tally, high, numbers, see, bul...  0.160000      0.540000  \n",
       "4  [conference, abstract, European, Congress, Cli... -0.083333      0.033333  \n",
       "5  [FGS, pauses, ONS, C19, Infection, Survey, 4, ...  0.027273      0.404242  \n",
       "6  [39, Look, bright, side, Omicron, practically,...  0.700000      0.800000  \n",
       "7                               [XBB, Dream, bigger]  0.000000      0.500000  \n",
       "8                                       [last, wish]  0.000000      0.066667  \n",
       "9  [truther, graphs, useless, definitions, faulty... -0.012963      0.318519  "
      ]
     },
     "execution_count": 59,
     "metadata": {},
     "output_type": "execute_result"
    }
   ],
   "source": [
    "#polarity and subjectivity\n",
    "pol = lambda x:TextBlob(x).sentiment.polarity\n",
    "sub = lambda x:TextBlob(x).sentiment.subjectivity\n",
    "\n",
    "df['polarity'] = df['final_review'].apply(pol)\n",
    "df['subjectivity'] = df['final_review'].apply(sub)\n",
    "\n",
    "df.head(10)"
   ]
  },
  {
   "cell_type": "code",
   "execution_count": 63,
   "metadata": {},
   "outputs": [
    {
     "data": {
      "text/html": [
       "<div>\n",
       "<style scoped>\n",
       "    .dataframe tbody tr th:only-of-type {\n",
       "        vertical-align: middle;\n",
       "    }\n",
       "\n",
       "    .dataframe tbody tr th {\n",
       "        vertical-align: top;\n",
       "    }\n",
       "\n",
       "    .dataframe thead th {\n",
       "        text-align: right;\n",
       "    }\n",
       "</style>\n",
       "<table border=\"1\" class=\"dataframe\">\n",
       "  <thead>\n",
       "    <tr style=\"text-align: right;\">\n",
       "      <th></th>\n",
       "      <th>text</th>\n",
       "      <th>polarity</th>\n",
       "    </tr>\n",
       "  </thead>\n",
       "  <tbody>\n",
       "    <tr>\n",
       "      <th>0</th>\n",
       "      <td>6 big questions new Omicrontargeting boosters ...</td>\n",
       "      <td>Positive</td>\n",
       "    </tr>\n",
       "    <tr>\n",
       "      <th>1</th>\n",
       "      <td>Im confused https</td>\n",
       "      <td>Negative</td>\n",
       "    </tr>\n",
       "    <tr>\n",
       "      <th>2</th>\n",
       "      <td>Long COVID less likely Omicron original virus ...</td>\n",
       "      <td>Neutral</td>\n",
       "    </tr>\n",
       "    <tr>\n",
       "      <th>3</th>\n",
       "      <td>finding dont tally high numbers see bulletins ...</td>\n",
       "      <td>Positive</td>\n",
       "    </tr>\n",
       "    <tr>\n",
       "      <th>4</th>\n",
       "      <td>conference abstract European Congress Clinical...</td>\n",
       "      <td>Negative</td>\n",
       "    </tr>\n",
       "  </tbody>\n",
       "</table>\n",
       "</div>"
      ],
      "text/plain": [
       "                                                text  polarity\n",
       "0  6 big questions new Omicrontargeting boosters ...  Positive\n",
       "1                                  Im confused https  Negative\n",
       "2  Long COVID less likely Omicron original virus ...   Neutral\n",
       "3  finding dont tally high numbers see bulletins ...  Positive\n",
       "4  conference abstract European Congress Clinical...  Negative"
      ]
     },
     "execution_count": 63,
     "metadata": {},
     "output_type": "execute_result"
    }
   ],
   "source": [
    "PNN = df['polarity'].apply(lambda x: \"Positive\" if x>=0.05 else (\"Negative\" if x<= -0.05 else \"Neutral\"))\n",
    "new_review = df['final_review']\n",
    "new_review = new_review.tolist()\n",
    "PNN = PNN.tolist()\n",
    "\n",
    "dict = {'text':new_review, 'polarity':PNN}\n",
    "pnn = pd.DataFrame(dict)\n",
    "pnn.head()"
   ]
  },
  {
   "cell_type": "code",
   "execution_count": 68,
   "metadata": {},
   "outputs": [
    {
     "name": "stdout",
     "output_type": "stream",
     "text": [
      "Collecting wordcloud\n",
      "  Obtaining dependency information for wordcloud from https://files.pythonhosted.org/packages/f5/b0/247159f61c5d5d6647171bef84430b7efad4db504f0229674024f3a4f7f2/wordcloud-1.9.3-cp311-cp311-win_amd64.whl.metadata\n",
      "  Downloading wordcloud-1.9.3-cp311-cp311-win_amd64.whl.metadata (3.5 kB)\n",
      "Requirement already satisfied: numpy>=1.6.1 in c:\\users\\hp\\anaconda3\\lib\\site-packages (from wordcloud) (1.24.3)\n",
      "Requirement already satisfied: pillow in c:\\users\\hp\\anaconda3\\lib\\site-packages (from wordcloud) (9.4.0)\n",
      "Requirement already satisfied: matplotlib in c:\\users\\hp\\anaconda3\\lib\\site-packages (from wordcloud) (3.7.1)\n",
      "Requirement already satisfied: contourpy>=1.0.1 in c:\\users\\hp\\anaconda3\\lib\\site-packages (from matplotlib->wordcloud) (1.0.5)\n",
      "Requirement already satisfied: cycler>=0.10 in c:\\users\\hp\\anaconda3\\lib\\site-packages (from matplotlib->wordcloud) (0.11.0)\n",
      "Requirement already satisfied: fonttools>=4.22.0 in c:\\users\\hp\\anaconda3\\lib\\site-packages (from matplotlib->wordcloud) (4.25.0)\n",
      "Requirement already satisfied: kiwisolver>=1.0.1 in c:\\users\\hp\\anaconda3\\lib\\site-packages (from matplotlib->wordcloud) (1.4.4)\n",
      "Requirement already satisfied: packaging>=20.0 in c:\\users\\hp\\anaconda3\\lib\\site-packages (from matplotlib->wordcloud) (23.0)\n",
      "Requirement already satisfied: pyparsing>=2.3.1 in c:\\users\\hp\\anaconda3\\lib\\site-packages (from matplotlib->wordcloud) (3.0.9)\n",
      "Requirement already satisfied: python-dateutil>=2.7 in c:\\users\\hp\\anaconda3\\lib\\site-packages (from matplotlib->wordcloud) (2.8.2)\n",
      "Requirement already satisfied: six>=1.5 in c:\\users\\hp\\anaconda3\\lib\\site-packages (from python-dateutil>=2.7->matplotlib->wordcloud) (1.16.0)\n",
      "Downloading wordcloud-1.9.3-cp311-cp311-win_amd64.whl (300 kB)\n",
      "   ---------------------------------------- 0.0/300.2 kB ? eta -:--:--\n",
      "   --------- ------------------------------ 71.7/300.2 kB 1.3 MB/s eta 0:00:01\n",
      "   ------------------- -------------------- 143.4/300.2 kB 1.4 MB/s eta 0:00:01\n",
      "   ---------------------------------- ----- 256.0/300.2 kB 1.7 MB/s eta 0:00:01\n",
      "   ---------------------------------------  297.0/300.2 kB 1.8 MB/s eta 0:00:01\n",
      "   ---------------------------------------- 300.2/300.2 kB 1.4 MB/s eta 0:00:00\n",
      "Installing collected packages: wordcloud\n",
      "Successfully installed wordcloud-1.9.3\n"
     ]
    }
   ],
   "source": [
    "!pip install wordcloud"
   ]
  },
  {
   "cell_type": "code",
   "execution_count": 69,
   "metadata": {},
   "outputs": [
    {
     "data": {
      "image/png": "[encoded data removed]",
      "text/plain": [
       "<Figure size 500x500 with 1 Axes>"
      ]
     },
     "metadata": {},
     "output_type": "display_data"
    }
   ],
   "source": [
    "#Using wordcloud or other visualization techniques, Find the most common words used positive and negative tweets\n",
    "from wordcloud import WordCloud\n",
    "plt.figure(figsize=(5,5))\n",
    "positive_text=norm_train_reviews[1]\n",
    "WC=WordCloud(width=1000,height=500,max_words=500,min_font_size=5)\n",
    "positive_words=WC.generate(positive_text)\n",
    "plt.imshow(positive_words,interpolation='bilinear')\n",
    "plt.show()"
   ]
  },
  {
   "cell_type": "code",
   "execution_count": 70,
   "metadata": {},
   "outputs": [
    {
     "data": {
      "image/png": "[encoded data removed]",
      "text/plain": [
       "<Figure size 500x500 with 1 Axes>"
      ]
     },
     "metadata": {},
     "output_type": "display_data"
    }
   ],
   "source": [
    "plt.figure(figsize=(5,5))\n",
    "negative_text=norm_train_reviews[8]\n",
    "WC=WordCloud(width=1000,height=500,max_words=500,min_font_size=5)\n",
    "negative_words=WC.generate(negative_text)\n",
    "plt.imshow(negative_words,interpolation='bilinear')\n",
    "plt.show()"
   ]
  },
  {
   "cell_type": "code",
   "execution_count": 71,
   "metadata": {},
   "outputs": [
    {
     "data": {
      "text/html": [
       "<div>\n",
       "<style scoped>\n",
       "    .dataframe tbody tr th:only-of-type {\n",
       "        vertical-align: middle;\n",
       "    }\n",
       "\n",
       "    .dataframe tbody tr th {\n",
       "        vertical-align: top;\n",
       "    }\n",
       "\n",
       "    .dataframe thead th {\n",
       "        text-align: right;\n",
       "    }\n",
       "</style>\n",
       "<table border=\"1\" class=\"dataframe\">\n",
       "  <thead>\n",
       "    <tr style=\"text-align: right;\">\n",
       "      <th></th>\n",
       "      <th>tweets</th>\n",
       "      <th>retweet_count</th>\n",
       "      <th>review</th>\n",
       "      <th>stem_review</th>\n",
       "      <th>lemmatize_review</th>\n",
       "      <th>final_review</th>\n",
       "      <th>tokenize</th>\n",
       "      <th>polarity</th>\n",
       "      <th>subjectivity</th>\n",
       "      <th>PN</th>\n",
       "    </tr>\n",
       "  </thead>\n",
       "  <tbody>\n",
       "    <tr>\n",
       "      <th>0</th>\n",
       "      <td>6 big questions about new Omicron-targeting bo...</td>\n",
       "      <td>0</td>\n",
       "      <td>6 big questions about new Omicrontargeting boo...</td>\n",
       "      <td>6 big question about new omicrontarget booster...</td>\n",
       "      <td>6 big question about new Omicrontargeting boos...</td>\n",
       "      <td>6 big questions new Omicrontargeting boosters ...</td>\n",
       "      <td>[6, big, questions, new, Omicrontargeting, boo...</td>\n",
       "      <td>0.068182</td>\n",
       "      <td>0.277273</td>\n",
       "      <td>Positive</td>\n",
       "    </tr>\n",
       "    <tr>\n",
       "      <th>1</th>\n",
       "      <td>I'm confused https://t.co/NyfgdYUYAT</td>\n",
       "      <td>0</td>\n",
       "      <td>Im confused https</td>\n",
       "      <td>im confus http</td>\n",
       "      <td>Im confused http</td>\n",
       "      <td>Im confused https</td>\n",
       "      <td>[Im, confused, https]</td>\n",
       "      <td>-0.400000</td>\n",
       "      <td>0.700000</td>\n",
       "      <td>Negative</td>\n",
       "    </tr>\n",
       "  </tbody>\n",
       "</table>\n",
       "</div>"
      ],
      "text/plain": [
       "                                              tweets  retweet_count  \\\n",
       "0  6 big questions about new Omicron-targeting bo...              0   \n",
       "1               I'm confused https://t.co/NyfgdYUYAT              0   \n",
       "\n",
       "                                              review  \\\n",
       "0  6 big questions about new Omicrontargeting boo...   \n",
       "1                                  Im confused https   \n",
       "\n",
       "                                         stem_review  \\\n",
       "0  6 big question about new omicrontarget booster...   \n",
       "1                                     im confus http   \n",
       "\n",
       "                                    lemmatize_review  \\\n",
       "0  6 big question about new Omicrontargeting boos...   \n",
       "1                                   Im confused http   \n",
       "\n",
       "                                        final_review  \\\n",
       "0  6 big questions new Omicrontargeting boosters ...   \n",
       "1                                  Im confused https   \n",
       "\n",
       "                                            tokenize  polarity  subjectivity  \\\n",
       "0  [6, big, questions, new, Omicrontargeting, boo...  0.068182      0.277273   \n",
       "1                              [Im, confused, https] -0.400000      0.700000   \n",
       "\n",
       "         PN  \n",
       "0  Positive  \n",
       "1  Negative  "
      ]
     },
     "execution_count": 71,
     "metadata": {},
     "output_type": "execute_result"
    }
   ],
   "source": [
    "#Converting the numerical data to categorical - Positive and Negative¶\n",
    "\n",
    "df['PN'] = df['polarity'].apply(lambda x: \"Positive\" if x>=0 else \"Negative\")\n",
    "df.head(2)"
   ]
  },
  {
   "cell_type": "code",
   "execution_count": 72,
   "metadata": {},
   "outputs": [
    {
     "data": {
      "text/html": [
       "<div>\n",
       "<style scoped>\n",
       "    .dataframe tbody tr th:only-of-type {\n",
       "        vertical-align: middle;\n",
       "    }\n",
       "\n",
       "    .dataframe tbody tr th {\n",
       "        vertical-align: top;\n",
       "    }\n",
       "\n",
       "    .dataframe thead th {\n",
       "        text-align: right;\n",
       "    }\n",
       "</style>\n",
       "<table border=\"1\" class=\"dataframe\">\n",
       "  <thead>\n",
       "    <tr style=\"text-align: right;\">\n",
       "      <th></th>\n",
       "      <th>tweets</th>\n",
       "      <th>retweet_count</th>\n",
       "      <th>review</th>\n",
       "      <th>stem_review</th>\n",
       "      <th>lemmatize_review</th>\n",
       "      <th>final_review</th>\n",
       "      <th>tokenize</th>\n",
       "      <th>polarity</th>\n",
       "      <th>subjectivity</th>\n",
       "      <th>PN</th>\n",
       "      <th>label</th>\n",
       "    </tr>\n",
       "  </thead>\n",
       "  <tbody>\n",
       "    <tr>\n",
       "      <th>0</th>\n",
       "      <td>6 big questions about new Omicron-targeting bo...</td>\n",
       "      <td>0</td>\n",
       "      <td>6 big questions about new Omicrontargeting boo...</td>\n",
       "      <td>6 big question about new omicrontarget booster...</td>\n",
       "      <td>6 big question about new Omicrontargeting boos...</td>\n",
       "      <td>6 big questions new Omicrontargeting boosters ...</td>\n",
       "      <td>[6, big, questions, new, Omicrontargeting, boo...</td>\n",
       "      <td>0.068182</td>\n",
       "      <td>0.277273</td>\n",
       "      <td>Positive</td>\n",
       "      <td>1</td>\n",
       "    </tr>\n",
       "    <tr>\n",
       "      <th>1</th>\n",
       "      <td>I'm confused https://t.co/NyfgdYUYAT</td>\n",
       "      <td>0</td>\n",
       "      <td>Im confused https</td>\n",
       "      <td>im confus http</td>\n",
       "      <td>Im confused http</td>\n",
       "      <td>Im confused https</td>\n",
       "      <td>[Im, confused, https]</td>\n",
       "      <td>-0.400000</td>\n",
       "      <td>0.700000</td>\n",
       "      <td>Negative</td>\n",
       "      <td>0</td>\n",
       "    </tr>\n",
       "  </tbody>\n",
       "</table>\n",
       "</div>"
      ],
      "text/plain": [
       "                                              tweets  retweet_count  \\\n",
       "0  6 big questions about new Omicron-targeting bo...              0   \n",
       "1               I'm confused https://t.co/NyfgdYUYAT              0   \n",
       "\n",
       "                                              review  \\\n",
       "0  6 big questions about new Omicrontargeting boo...   \n",
       "1                                  Im confused https   \n",
       "\n",
       "                                         stem_review  \\\n",
       "0  6 big question about new omicrontarget booster...   \n",
       "1                                     im confus http   \n",
       "\n",
       "                                    lemmatize_review  \\\n",
       "0  6 big question about new Omicrontargeting boos...   \n",
       "1                                   Im confused http   \n",
       "\n",
       "                                        final_review  \\\n",
       "0  6 big questions new Omicrontargeting boosters ...   \n",
       "1                                  Im confused https   \n",
       "\n",
       "                                            tokenize  polarity  subjectivity  \\\n",
       "0  [6, big, questions, new, Omicrontargeting, boo...  0.068182      0.277273   \n",
       "1                              [Im, confused, https] -0.400000      0.700000   \n",
       "\n",
       "         PN  label  \n",
       "0  Positive      1  \n",
       "1  Negative      0  "
      ]
     },
     "execution_count": 72,
     "metadata": {},
     "output_type": "execute_result"
    }
   ],
   "source": [
    "#Label Binarizer\n",
    "lb = LabelBinarizer()\n",
    "df['label'] = lb.fit_transform(df['PN'])\n",
    "df.head(2)"
   ]
  },
  {
   "cell_type": "code",
   "execution_count": 73,
   "metadata": {},
   "outputs": [
    {
     "data": {
      "text/plain": [
       "(6998, 11)"
      ]
     },
     "execution_count": 73,
     "metadata": {},
     "output_type": "execute_result"
    }
   ],
   "source": [
    "df.shape"
   ]
  },
  {
   "cell_type": "code",
   "execution_count": 99,
   "metadata": {},
   "outputs": [],
   "source": [
    "train = df.label[:3000]\n",
    "test = df.label[3001:]"
   ]
  },
  {
   "cell_type": "code",
   "execution_count": 100,
   "metadata": {},
   "outputs": [
    {
     "data": {
      "text/plain": [
       "(3000,)"
      ]
     },
     "execution_count": 100,
     "metadata": {},
     "output_type": "execute_result"
    }
   ],
   "source": [
    "train.shape"
   ]
  },
  {
   "cell_type": "code",
   "execution_count": 101,
   "metadata": {},
   "outputs": [
    {
     "data": {
      "text/plain": [
       "(3997,)"
      ]
     },
     "execution_count": 101,
     "metadata": {},
     "output_type": "execute_result"
    }
   ],
   "source": [
    "test.shape"
   ]
  },
  {
   "cell_type": "code",
   "execution_count": 102,
   "metadata": {},
   "outputs": [
    {
     "name": "stdout",
     "output_type": "stream",
     "text": [
      "LogisticRegression(C=1, max_iter=500, random_state=42)\n",
      "LogisticRegression(C=1, max_iter=500, random_state=42)\n"
     ]
    }
   ],
   "source": [
    "#modelling the dataset using Support Vector Machines\n",
    "lr = LogisticRegression(penalty='l2',max_iter=500,C=1,random_state=42)\n",
    "lr_bow = lr.fit(cv_train_reviews,train) #From Bag of Words\n",
    "print(lr_bow)\n",
    "\n",
    "lr_tfidf = lr.fit(tv_train_reviews,train) #TFIDF \n",
    "print(lr_tfidf)"
   ]
  },
  {
   "cell_type": "code",
   "execution_count": 103,
   "metadata": {},
   "outputs": [
    {
     "name": "stdout",
     "output_type": "stream",
     "text": [
      "SVC(kernel='linear', random_state=0)\n",
      "SVC(kernel='linear', random_state=0)\n"
     ]
    }
   ],
   "source": [
    "#Linear support vector machines for bag of words and tfidf features\n",
    "\n",
    "from sklearn import svm\n",
    "svm = svm.SVC(kernel = 'linear', random_state = 0, C=1.0)\n",
    "svm_bow = svm.fit(cv_train_reviews,train)\n",
    "print(svm_bow)\n",
    "svm_tfidf = svm.fit(tv_train_reviews,train)\n",
    "print(svm_tfidf)"
   ]
  },
  {
   "cell_type": "code",
   "execution_count": 104,
   "metadata": {},
   "outputs": [
    {
     "name": "stdout",
     "output_type": "stream",
     "text": [
      "[0 0 1 ... 1 0 1]\n",
      "[1 0 1 ... 1 1 1]\n"
     ]
    }
   ],
   "source": [
    "#Model building and evaluation\n",
    "svm_bow_predict = svm.predict(cv_test_reviews)\n",
    "print(svm_bow_predict)\n",
    "svm_tfidf_predict = svm.predict(tv_test_reviews)\n",
    "print(svm_tfidf_predict)"
   ]
  },
  {
   "cell_type": "code",
   "execution_count": 105,
   "metadata": {},
   "outputs": [
    {
     "name": "stdout",
     "output_type": "stream",
     "text": [
      "0.8273705278959219\n",
      "0.8436327245434075\n"
     ]
    }
   ],
   "source": [
    "#Accuracy Score\n",
    "svm_bow_score = accuracy_score(test,svm_bow_predict)\n",
    "print(svm_bow_score)\n",
    "svm_tfidf_score = accuracy_score(test,svm_tfidf_predict)\n",
    "print(svm_tfidf_score)"
   ]
  },
  {
   "cell_type": "code",
   "execution_count": 106,
   "metadata": {},
   "outputs": [
    {
     "name": "stdout",
     "output_type": "stream",
     "text": [
      "              precision    recall  f1-score   support\n",
      "\n",
      "    Positive       0.65      0.58      0.61       937\n",
      "    Negative       0.87      0.90      0.89      3060\n",
      "\n",
      "    accuracy                           0.83      3997\n",
      "   macro avg       0.76      0.74      0.75      3997\n",
      "weighted avg       0.82      0.83      0.82      3997\n",
      "\n",
      "              precision    recall  f1-score   support\n",
      "\n",
      "    Positive       0.82      0.43      0.56       937\n",
      "    Negative       0.85      0.97      0.90      3060\n",
      "\n",
      "    accuracy                           0.84      3997\n",
      "   macro avg       0.83      0.70      0.73      3997\n",
      "weighted avg       0.84      0.84      0.82      3997\n",
      "\n"
     ]
    }
   ],
   "source": [
    "# Classification report\n",
    "svm_bow_report = classification_report(test,svm_bow_predict,target_names=['Positive','Negative'])\n",
    "print(svm_bow_report)\n",
    "svm_tfidf_report = classification_report(test,svm_tfidf_predict,target_names=['Positive','Negative'])\n",
    "print(svm_tfidf_report)"
   ]
  },
  {
   "cell_type": "code",
   "execution_count": 107,
   "metadata": {},
   "outputs": [],
   "source": [
    "from sklearn.tree import DecisionTreeClassifier\n",
    "dtc = DecisionTreeClassifier (criterion = 'entropy',max_depth=3)"
   ]
  },
  {
   "cell_type": "code",
   "execution_count": 108,
   "metadata": {},
   "outputs": [
    {
     "name": "stdout",
     "output_type": "stream",
     "text": [
      "DecisionTreeClassifier(criterion='entropy', max_depth=3)\n",
      "DecisionTreeClassifier(criterion='entropy', max_depth=3)\n"
     ]
    }
   ],
   "source": [
    "dtc_bow = dtc.fit(cv_train_reviews,train)\n",
    "print(dtc_bow)\n",
    "dtc_tfidf = dtc.fit(tv_train_reviews,train)\n",
    "print(dtc_tfidf)"
   ]
  },
  {
   "cell_type": "code",
   "execution_count": 109,
   "metadata": {},
   "outputs": [
    {
     "name": "stdout",
     "output_type": "stream",
     "text": [
      "[0 1 1 ... 1 1 1]\n",
      "[0 1 1 ... 1 1 1]\n"
     ]
    }
   ],
   "source": [
    "dtc_bow_predict = dtc.predict(cv_test_reviews)\n",
    "print(dtc_bow_predict)\n",
    "dtc_tfidf_predict = dtc.predict(tv_test_reviews)\n",
    "print(dtc_tfidf_predict)"
   ]
  },
  {
   "cell_type": "code",
   "execution_count": 110,
   "metadata": {},
   "outputs": [
    {
     "name": "stdout",
     "output_type": "stream",
     "text": [
      "0.7895921941456092\n",
      "0.7903427570678009\n"
     ]
    }
   ],
   "source": [
    "dtc_bow_score = accuracy_score(test,dtc_bow_predict)\n",
    "print(dtc_bow_score)\n",
    "dtc_tfidf_score = accuracy_score(test,dtc_tfidf_predict)\n",
    "print(dtc_tfidf_score)"
   ]
  },
  {
   "cell_type": "code",
   "execution_count": 111,
   "metadata": {},
   "outputs": [
    {
     "name": "stdout",
     "output_type": "stream",
     "text": [
      "              precision    recall  f1-score   support\n",
      "\n",
      "    Positive       0.68      0.20      0.30       937\n",
      "    Negative       0.80      0.97      0.88      3060\n",
      "\n",
      "    accuracy                           0.79      3997\n",
      "   macro avg       0.74      0.58      0.59      3997\n",
      "weighted avg       0.77      0.79      0.74      3997\n",
      "\n",
      "              precision    recall  f1-score   support\n",
      "\n",
      "    Positive       0.68      0.20      0.31       937\n",
      "    Negative       0.80      0.97      0.88      3060\n",
      "\n",
      "    accuracy                           0.79      3997\n",
      "   macro avg       0.74      0.58      0.59      3997\n",
      "weighted avg       0.77      0.79      0.74      3997\n",
      "\n"
     ]
    }
   ],
   "source": [
    "dtc_bow_report = classification_report(test,dtc_bow_predict,target_names=['Positive','Negative'])\n",
    "print(dtc_bow_report)\n",
    "dtc_tfidf_report = classification_report(test,dtc_tfidf_predict,target_names=['Positive','Negative'])\n",
    "print(dtc_tfidf_report)"
   ]
  },
  {
   "cell_type": "code",
   "execution_count": 112,
   "metadata": {},
   "outputs": [
    {
     "name": "stdout",
     "output_type": "stream",
     "text": [
      "[[ 184  753]\n",
      " [  88 2972]]\n",
      "[[ 184  753]\n",
      " [  85 2975]]\n"
     ]
    }
   ],
   "source": [
    "cm_bow = confusion_matrix(test,dtc_bow_predict,labels=[0,1])\n",
    "print(cm_bow)\n",
    "cm_tfidf = confusion_matrix(test,dtc_tfidf_predict,labels=[0,1])\n",
    "print(cm_tfidf)"
   ]
  },
  {
   "cell_type": "code",
   "execution_count": null,
   "metadata": {},
   "outputs": [],
   "source": []
  },
  {
   "cell_type": "code",
   "execution_count": null,
   "metadata": {},
   "outputs": [],
   "source": [
    "Conclusion : SVm is giving more accurate results on this ."
   ]
  }
 ],
 "metadata": {
  "kernelspec": {
   "display_name": "Python 3 (ipykernel)",
   "language": "python",
   "name": "python3"
  },
  "language_info": {
   "codemirror_mode": {
    "name": "ipython",
    "version": 3
   },
   "file_extension": ".py",
   "mimetype": "text/x-python",
   "name": "python",
   "nbconvert_exporter": "python",
   "pygments_lexer": "ipython3",
   "version": "3.11.4"
  }
 },
 "nbformat": 4,
 "nbformat_minor": 4
}
