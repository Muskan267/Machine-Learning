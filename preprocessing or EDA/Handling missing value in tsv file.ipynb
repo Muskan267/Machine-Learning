{
 "cells": [
  {
   "cell_type": "markdown",
   "metadata": {
    "id": "0bAYE1Zd2ENM"
   },
   "source": [
    "# Market Analysis in Dublin\n",
    "\n",
    "## Assignment\n",
    "A new city manager for Airbnb has started in Dublin and wants to better understand:\n",
    "\n",
    "what guests are searching for in Dublin,\n",
    "which inquiries hosts tend to accept.\n",
    "Based on the findings the new city manager will try to boost the number and quality of hosts in Dublin to fit the demands from guests. The goal of this challenge is to analyze, understand, visualize, and communicate the demand / supply in the market. For example you may want to look at the breakdown of start date day of the week, or number of nights, or room type that is searched for, and how many hosts accepted the reservation. In particular, we are interested in:\n",
    "\n",
    "what the gaps are between guest demand and host supply that the new city manager could plug to increase the number of bookings in Dublin,\n",
    "what other data would be useful to have to deepen the analysis and understanding.\n"
   ]
  },
  {
   "cell_type": "markdown",
   "metadata": {
    "id": "l468z0lJ2EJ5"
   },
   "source": [
    "## Data Description\n",
    "### There are 2 datasets\n",
    "\n",
    " * searches.tsv - Contains a row for each set of searches that a user does for Dublin\n",
    "* contacts.tsv - Contains a row for every time that an assigned visitor makes an inquiry for a stay in a listing in Dublin\n",
    "searches dataset contains the following columns:\n",
    "\n",
    "-ds - Date of the search\n",
    "- id_user - Alphanumeric user_id\n",
    "- ds_checkin - Date stamp of the check-in date of the search\n",
    "- ds_checkout - Date stamp of the check-out date of the search\n",
    "- n_searches - Number of searches in the search set\n",
    "- n_nights - The number of nights the search was for\n",
    "- n_guests_min - The minimum number of guests selected in a search set\n",
    "- n_guests_max - The maximum number of guests selected in a search set\n",
    "- origin_country - The country the search was from\n",
    "- filter_price_min - The value of the lower bound of the price filter, if the\n",
    "  user used it\n",
    "- filter_price_max - The value of the upper bound of the price filter, if the\n",
    "   user used it\n",
    "- filter_room_types - The room types that the user filtered by, if the user\n",
    "  used the room_types filter\n",
    "- filter_neighborhoods - The neighborhoods types that the user filtered by, if\n",
    "     the user used the neighborhoods filter\n",
    "- contacts dataset contains the following columns:\n",
    "\n",
    "\n",
    "- id_guest - Alphanumeric user_id of the guest making the inquiry\n",
    "- id_host - Alphanumeric user_id of the host of the listing to which the inquiry is made\n",
    "- id_listing - Alphanumeric identifier for the listing to which the inquiry is made\n",
    "- ts_contact_at - UTC timestamp of the moment the inquiry is made.\n",
    "- ts_reply_at - UTC timestamp of the moment the host replies to the inquiry, if so\n",
    "- ts_accepted_at - UTC timestamp of the moment the host accepts the inquiry, if so\n",
    "- ts_booking_at - UTC timestamp of the moment the booking is made, if so\n",
    "- ds_checkin - Date stamp of the check-in date of the inquiry\n",
    "- ds_checkout - Date stamp of the check-out date of the inquiry\n",
    "- n_guests - The number of guests the inquiry is for\n",
    "- n_messages - The total number of messages that were sent around this inquiry"
   ]
  },
  {
   "cell_type": "markdown",
   "metadata": {
    "id": "QyLhfiDv2EHA"
   },
   "source": [
    "## Practicalities\n",
    "Analyze the provided data and answer the questions to the best of your abilities. Include the relevant tables/graphs/visualization to explain what you have learnt about the market. Make sure that the solution reflects your entire thought process including the preparation of data - it is more important how the code is structured rather than just the final result or plot. You are expected to spend no more than 3-6 hours on this project.\n",
    "\n",
    "#### To download the dataset <a href=\"https://drive.google.com/drive/folders/1WPZZB7WlOZE_lwVWJoR_V5AAR888uT9P?usp=sharing\"> Click here </a>"
   ]
  },
  {
   "cell_type": "code",
   "execution_count": 1,
   "metadata": {},
   "outputs": [],
   "source": [
    "#importing Libraries :\n",
    "\n",
    "import pandas as pd"
   ]
  },
  {
   "cell_type": "code",
   "execution_count": 2,
   "metadata": {},
   "outputs": [],
   "source": [
    "import numpy as np"
   ]
  },
  {
   "cell_type": "code",
   "execution_count": 3,
   "metadata": {},
   "outputs": [
    {
     "name": "stdout",
     "output_type": "stream",
     "text": [
      "Requirement already satisfied: matplotlib in c:\\users\\hp\\appdata\\local\\programs\\python\\python312\\lib\\site-packages (3.9.0)\n",
      "Requirement already satisfied: contourpy>=1.0.1 in c:\\users\\hp\\appdata\\local\\programs\\python\\python312\\lib\\site-packages (from matplotlib) (1.2.1)\n",
      "Requirement already satisfied: cycler>=0.10 in c:\\users\\hp\\appdata\\local\\programs\\python\\python312\\lib\\site-packages (from matplotlib) (0.12.1)\n",
      "Requirement already satisfied: fonttools>=4.22.0 in c:\\users\\hp\\appdata\\local\\programs\\python\\python312\\lib\\site-packages (from matplotlib) (4.53.0)\n",
      "Requirement already satisfied: kiwisolver>=1.3.1 in c:\\users\\hp\\appdata\\local\\programs\\python\\python312\\lib\\site-packages (from matplotlib) (1.4.5)\n",
      "Requirement already satisfied: numpy>=1.23 in c:\\users\\hp\\appdata\\local\\programs\\python\\python312\\lib\\site-packages (from matplotlib) (1.26.4)\n",
      "Requirement already satisfied: packaging>=20.0 in c:\\users\\hp\\appdata\\local\\programs\\python\\python312\\lib\\site-packages (from matplotlib) (24.0)\n",
      "Requirement already satisfied: pillow>=8 in c:\\users\\hp\\appdata\\local\\programs\\python\\python312\\lib\\site-packages (from matplotlib) (10.3.0)\n",
      "Requirement already satisfied: pyparsing>=2.3.1 in c:\\users\\hp\\appdata\\local\\programs\\python\\python312\\lib\\site-packages (from matplotlib) (3.1.2)\n",
      "Requirement already satisfied: python-dateutil>=2.7 in c:\\users\\hp\\appdata\\local\\programs\\python\\python312\\lib\\site-packages (from matplotlib) (2.9.0.post0)\n",
      "Requirement already satisfied: six>=1.5 in c:\\users\\hp\\appdata\\local\\programs\\python\\python312\\lib\\site-packages (from python-dateutil>=2.7->matplotlib) (1.16.0)\n"
     ]
    }
   ],
   "source": [
    "!pip install matplotlib\n",
    "import matplotlib.pyplot as plt"
   ]
  },
  {
   "cell_type": "code",
   "execution_count": 4,
   "metadata": {},
   "outputs": [
    {
     "name": "stdout",
     "output_type": "stream",
     "text": [
      "Requirement already satisfied: seaborn in c:\\users\\hp\\appdata\\local\\programs\\python\\python312\\lib\\site-packages (0.13.2)\n",
      "Requirement already satisfied: numpy!=1.24.0,>=1.20 in c:\\users\\hp\\appdata\\local\\programs\\python\\python312\\lib\\site-packages (from seaborn) (1.26.4)\n",
      "Requirement already satisfied: pandas>=1.2 in c:\\users\\hp\\appdata\\local\\programs\\python\\python312\\lib\\site-packages (from seaborn) (2.2.2)\n",
      "Requirement already satisfied: matplotlib!=3.6.1,>=3.4 in c:\\users\\hp\\appdata\\local\\programs\\python\\python312\\lib\\site-packages (from seaborn) (3.9.0)\n",
      "Requirement already satisfied: contourpy>=1.0.1 in c:\\users\\hp\\appdata\\local\\programs\\python\\python312\\lib\\site-packages (from matplotlib!=3.6.1,>=3.4->seaborn) (1.2.1)\n",
      "Requirement already satisfied: cycler>=0.10 in c:\\users\\hp\\appdata\\local\\programs\\python\\python312\\lib\\site-packages (from matplotlib!=3.6.1,>=3.4->seaborn) (0.12.1)\n",
      "Requirement already satisfied: fonttools>=4.22.0 in c:\\users\\hp\\appdata\\local\\programs\\python\\python312\\lib\\site-packages (from matplotlib!=3.6.1,>=3.4->seaborn) (4.53.0)\n",
      "Requirement already satisfied: kiwisolver>=1.3.1 in c:\\users\\hp\\appdata\\local\\programs\\python\\python312\\lib\\site-packages (from matplotlib!=3.6.1,>=3.4->seaborn) (1.4.5)\n",
      "Requirement already satisfied: packaging>=20.0 in c:\\users\\hp\\appdata\\local\\programs\\python\\python312\\lib\\site-packages (from matplotlib!=3.6.1,>=3.4->seaborn) (24.0)\n",
      "Requirement already satisfied: pillow>=8 in c:\\users\\hp\\appdata\\local\\programs\\python\\python312\\lib\\site-packages (from matplotlib!=3.6.1,>=3.4->seaborn) (10.3.0)\n",
      "Requirement already satisfied: pyparsing>=2.3.1 in c:\\users\\hp\\appdata\\local\\programs\\python\\python312\\lib\\site-packages (from matplotlib!=3.6.1,>=3.4->seaborn) (3.1.2)\n",
      "Requirement already satisfied: python-dateutil>=2.7 in c:\\users\\hp\\appdata\\local\\programs\\python\\python312\\lib\\site-packages (from matplotlib!=3.6.1,>=3.4->seaborn) (2.9.0.post0)\n",
      "Requirement already satisfied: pytz>=2020.1 in c:\\users\\hp\\appdata\\local\\programs\\python\\python312\\lib\\site-packages (from pandas>=1.2->seaborn) (2024.1)\n",
      "Requirement already satisfied: tzdata>=2022.7 in c:\\users\\hp\\appdata\\local\\programs\\python\\python312\\lib\\site-packages (from pandas>=1.2->seaborn) (2024.1)\n",
      "Requirement already satisfied: six>=1.5 in c:\\users\\hp\\appdata\\local\\programs\\python\\python312\\lib\\site-packages (from python-dateutil>=2.7->matplotlib!=3.6.1,>=3.4->seaborn) (1.16.0)\n"
     ]
    }
   ],
   "source": [
    "!pip install seaborn\n",
    "import seaborn as sns"
   ]
  },
  {
   "cell_type": "code",
   "execution_count": 5,
   "metadata": {},
   "outputs": [],
   "source": [
    "#Loading Dataset:\n",
    "dataset_1 = pd.read_csv( 'contacts.tsv' ,sep = '/t' , engine='python')"
   ]
  },
  {
   "cell_type": "code",
   "execution_count": 6,
   "metadata": {},
   "outputs": [
    {
     "data": {
      "text/html": [
       "<div>\n",
       "<style scoped>\n",
       "    .dataframe tbody tr th:only-of-type {\n",
       "        vertical-align: middle;\n",
       "    }\n",
       "\n",
       "    .dataframe tbody tr th {\n",
       "        vertical-align: top;\n",
       "    }\n",
       "\n",
       "    .dataframe thead th {\n",
       "        text-align: right;\n",
       "    }\n",
       "</style>\n",
       "<table border=\"1\" class=\"dataframe\">\n",
       "  <thead>\n",
       "    <tr style=\"text-align: right;\">\n",
       "      <th></th>\n",
       "      <th>id_guest\\tid_host\\tid_listing\\tts_contact_at\\tts_reply_at\\tts_accepted_at\\tts_booking_at\\tds_checkin\\tds_checkout\\tn_guests\\tn_messages</th>\n",
       "    </tr>\n",
       "  </thead>\n",
       "  <tbody>\n",
       "    <tr>\n",
       "      <th>0</th>\n",
       "      <td>000dfad9-459b-4f0b-8310-3d6ab34e4f57\\t13bb24b8...</td>\n",
       "    </tr>\n",
       "    <tr>\n",
       "      <th>1</th>\n",
       "      <td>00197051-c6cb-4c3a-99e9-86615b819874\\t46aa3897...</td>\n",
       "    </tr>\n",
       "    <tr>\n",
       "      <th>2</th>\n",
       "      <td>0027538e-aa9e-4a02-8979-b8397e5d4cba\\t6bbb88ca...</td>\n",
       "    </tr>\n",
       "    <tr>\n",
       "      <th>3</th>\n",
       "      <td>0027538e-aa9e-4a02-8979-b8397e5d4cba\\t8772bc85...</td>\n",
       "    </tr>\n",
       "    <tr>\n",
       "      <th>4</th>\n",
       "      <td>0027538e-aa9e-4a02-8979-b8397e5d4cba\\tac162061...</td>\n",
       "    </tr>\n",
       "  </tbody>\n",
       "</table>\n",
       "</div>"
      ],
      "text/plain": [
       "  id_guest\\tid_host\\tid_listing\\tts_contact_at\\tts_reply_at\\tts_accepted_at\\tts_booking_at\\tds_checkin\\tds_checkout\\tn_guests\\tn_messages\n",
       "0  000dfad9-459b-4f0b-8310-3d6ab34e4f57\\t13bb24b8...                                                                                     \n",
       "1  00197051-c6cb-4c3a-99e9-86615b819874\\t46aa3897...                                                                                     \n",
       "2  0027538e-aa9e-4a02-8979-b8397e5d4cba\\t6bbb88ca...                                                                                     \n",
       "3  0027538e-aa9e-4a02-8979-b8397e5d4cba\\t8772bc85...                                                                                     \n",
       "4  0027538e-aa9e-4a02-8979-b8397e5d4cba\\tac162061...                                                                                     "
      ]
     },
     "execution_count": 6,
     "metadata": {},
     "output_type": "execute_result"
    }
   ],
   "source": [
    "dataset_1.head()\n"
   ]
  },
  {
   "cell_type": "code",
   "execution_count": 7,
   "metadata": {},
   "outputs": [
    {
     "data": {
      "text/plain": [
       "(7823, 1)"
      ]
     },
     "execution_count": 7,
     "metadata": {},
     "output_type": "execute_result"
    }
   ],
   "source": [
    "dataset_1.shape"
   ]
  },
  {
   "cell_type": "code",
   "execution_count": 8,
   "metadata": {},
   "outputs": [],
   "source": [
    "dataset_2 = pd.read_csv( 'searches.tsv' ,sep = '/t' , engine='python')"
   ]
  },
  {
   "cell_type": "code",
   "execution_count": 9,
   "metadata": {},
   "outputs": [
    {
     "data": {
      "text/plain": [
       "(35737, 1)"
      ]
     },
     "execution_count": 9,
     "metadata": {},
     "output_type": "execute_result"
    }
   ],
   "source": [
    "dataset_2.shape"
   ]
  },
  {
   "cell_type": "code",
   "execution_count": 10,
   "metadata": {},
   "outputs": [
    {
     "data": {
      "text/html": [
       "<div>\n",
       "<style scoped>\n",
       "    .dataframe tbody tr th:only-of-type {\n",
       "        vertical-align: middle;\n",
       "    }\n",
       "\n",
       "    .dataframe tbody tr th {\n",
       "        vertical-align: top;\n",
       "    }\n",
       "\n",
       "    .dataframe thead th {\n",
       "        text-align: right;\n",
       "    }\n",
       "</style>\n",
       "<table border=\"1\" class=\"dataframe\">\n",
       "  <thead>\n",
       "    <tr style=\"text-align: right;\">\n",
       "      <th></th>\n",
       "      <th>ds\\tid_user\\tds_checkin\\tds_checkout\\tn_searches\\tn_nights\\tn_guests_min\\tn_guests_max\\torigin_country\\tfilter_price_min\\tfilter_price_max\\tfilter_room_types\\tfilter_neighborhoods</th>\n",
       "    </tr>\n",
       "  </thead>\n",
       "  <tbody>\n",
       "    <tr>\n",
       "      <th>0</th>\n",
       "      <td>2014-10-01\\t0000af0a-6f26-4233-9832-27efbfb361...</td>\n",
       "    </tr>\n",
       "    <tr>\n",
       "      <th>1</th>\n",
       "      <td>2014-10-01\\t0000af0a-6f26-4233-9832-27efbfb361...</td>\n",
       "    </tr>\n",
       "    <tr>\n",
       "      <th>2</th>\n",
       "      <td>2014-10-01\\t000cd9d3-e05b-4016-9e09-34a6f8ba2f...</td>\n",
       "    </tr>\n",
       "    <tr>\n",
       "      <th>3</th>\n",
       "      <td>2014-10-01\\t000cd9d3-e05b-4016-9e09-34a6f8ba2f...</td>\n",
       "    </tr>\n",
       "    <tr>\n",
       "      <th>4</th>\n",
       "      <td>2014-10-01\\t001c04f0-5a94-4ee0-bf5d-3591265256...</td>\n",
       "    </tr>\n",
       "  </tbody>\n",
       "</table>\n",
       "</div>"
      ],
      "text/plain": [
       "  ds\\tid_user\\tds_checkin\\tds_checkout\\tn_searches\\tn_nights\\tn_guests_min\\tn_guests_max\\torigin_country\\tfilter_price_min\\tfilter_price_max\\tfilter_room_types\\tfilter_neighborhoods\n",
       "0  2014-10-01\\t0000af0a-6f26-4233-9832-27efbfb361...                                                                                                                                 \n",
       "1  2014-10-01\\t0000af0a-6f26-4233-9832-27efbfb361...                                                                                                                                 \n",
       "2  2014-10-01\\t000cd9d3-e05b-4016-9e09-34a6f8ba2f...                                                                                                                                 \n",
       "3  2014-10-01\\t000cd9d3-e05b-4016-9e09-34a6f8ba2f...                                                                                                                                 \n",
       "4  2014-10-01\\t001c04f0-5a94-4ee0-bf5d-3591265256...                                                                                                                                 "
      ]
     },
     "execution_count": 10,
     "metadata": {},
     "output_type": "execute_result"
    }
   ],
   "source": [
    "dataset_2.head()"
   ]
  },
  {
   "cell_type": "code",
   "execution_count": 11,
   "metadata": {},
   "outputs": [],
   "source": [
    "#Preprocessing"
   ]
  },
  {
   "cell_type": "code",
   "execution_count": 12,
   "metadata": {},
   "outputs": [
    {
     "data": {
      "text/plain": [
       "Index(['id_guest\\tid_host\\tid_listing\\tts_contact_at\\tts_reply_at\\tts_accepted_at\\tts_booking_at\\tds_checkin\\tds_checkout\\tn_guests\\tn_messages'], dtype='object')"
      ]
     },
     "execution_count": 12,
     "metadata": {},
     "output_type": "execute_result"
    }
   ],
   "source": [
    "dataset_1.columns"
   ]
  },
  {
   "cell_type": "raw",
   "metadata": {},
   "source": [
    "CONCLUSION : It seems we have these columns \n",
    "id_guest , tid_listing , tts_reply_at , tts_booking_at , tds_checkout , tn_messages\n",
    "tid_host , tts_contact_at , tts_accepted_at , tds_checkin .tn_guests"
   ]
  },
  {
   "cell_type": "code",
   "execution_count": 13,
   "metadata": {},
   "outputs": [
    {
     "data": {
      "text/plain": [
       "Index(['ds\\tid_user\\tds_checkin\\tds_checkout\\tn_searches\\tn_nights\\tn_guests_min\\tn_guests_max\\torigin_country\\tfilter_price_min\\tfilter_price_max\\tfilter_room_types\\tfilter_neighborhoods'], dtype='object')"
      ]
     },
     "execution_count": 13,
     "metadata": {},
     "output_type": "execute_result"
    }
   ],
   "source": [
    "dataset_2.columns\n"
   ]
  },
  {
   "cell_type": "raw",
   "metadata": {},
   "source": [
    "CONCLUSION: If we see the data tab is a delimiter here . So we will seprate it on the basis of that"
   ]
  },
  {
   "cell_type": "code",
   "execution_count": 14,
   "metadata": {},
   "outputs": [],
   "source": [
    "dataset_1[['id_guest', 'tid_host', 'tid_listing', 'tts_contact_at', 'tts_reply_at', 'tts_accepted_at', 'tts_booking_at', 'tds_checkin', 'tds_checkout', 'tn_guests', 'tn_messages']] = dataset_1['id_guest\\tid_host\\tid_listing\\tts_contact_at\\tts_reply_at\\tts_accepted_at\\tts_booking_at\\tds_checkin\\tds_checkout\\tn_guests\\tn_messages'].str.split('\\t', expand=True)\n"
   ]
  },
  {
   "cell_type": "code",
   "execution_count": 15,
   "metadata": {},
   "outputs": [
    {
     "data": {
      "text/html": [
       "<div>\n",
       "<style scoped>\n",
       "    .dataframe tbody tr th:only-of-type {\n",
       "        vertical-align: middle;\n",
       "    }\n",
       "\n",
       "    .dataframe tbody tr th {\n",
       "        vertical-align: top;\n",
       "    }\n",
       "\n",
       "    .dataframe thead th {\n",
       "        text-align: right;\n",
       "    }\n",
       "</style>\n",
       "<table border=\"1\" class=\"dataframe\">\n",
       "  <thead>\n",
       "    <tr style=\"text-align: right;\">\n",
       "      <th></th>\n",
       "      <th>id_guest\\tid_host\\tid_listing\\tts_contact_at\\tts_reply_at\\tts_accepted_at\\tts_booking_at\\tds_checkin\\tds_checkout\\tn_guests\\tn_messages</th>\n",
       "      <th>id_guest</th>\n",
       "      <th>tid_host</th>\n",
       "      <th>tid_listing</th>\n",
       "      <th>tts_contact_at</th>\n",
       "      <th>tts_reply_at</th>\n",
       "      <th>tts_accepted_at</th>\n",
       "      <th>tts_booking_at</th>\n",
       "      <th>tds_checkin</th>\n",
       "      <th>tds_checkout</th>\n",
       "      <th>tn_guests</th>\n",
       "      <th>tn_messages</th>\n",
       "    </tr>\n",
       "  </thead>\n",
       "  <tbody>\n",
       "    <tr>\n",
       "      <th>0</th>\n",
       "      <td>000dfad9-459b-4f0b-8310-3d6ab34e4f57\\t13bb24b8...</td>\n",
       "      <td>000dfad9-459b-4f0b-8310-3d6ab34e4f57</td>\n",
       "      <td>13bb24b8-d432-43a2-9755-5ea11b43bb69</td>\n",
       "      <td>21d2b1a2-fdc3-4b4c-a1f0-0eaf0cc02370</td>\n",
       "      <td>2014-10-04 16:26:28.0</td>\n",
       "      <td>2014-10-04 16:26:28.0</td>\n",
       "      <td>2014-10-04 16:26:28.0</td>\n",
       "      <td>2014-10-04 16:26:28.0</td>\n",
       "      <td>2014-10-13</td>\n",
       "      <td>2014-10-15</td>\n",
       "      <td>2</td>\n",
       "      <td>13</td>\n",
       "    </tr>\n",
       "    <tr>\n",
       "      <th>1</th>\n",
       "      <td>00197051-c6cb-4c3a-99e9-86615b819874\\t46aa3897...</td>\n",
       "      <td>00197051-c6cb-4c3a-99e9-86615b819874</td>\n",
       "      <td>46aa3897-9c00-4d76-ac66-a307593d0675</td>\n",
       "      <td>fb5ed09a-9848-4f2c-b2ef-34deb62164fb</td>\n",
       "      <td>2014-11-04 09:10:03.0</td>\n",
       "      <td>2014-11-04 09:45:50.0</td>\n",
       "      <td>2014-11-04 09:45:50.0</td>\n",
       "      <td>2014-11-04 12:20:46.0</td>\n",
       "      <td>2014-11-27</td>\n",
       "      <td>2014-11-30</td>\n",
       "      <td>1</td>\n",
       "      <td>10</td>\n",
       "    </tr>\n",
       "  </tbody>\n",
       "</table>\n",
       "</div>"
      ],
      "text/plain": [
       "  id_guest\\tid_host\\tid_listing\\tts_contact_at\\tts_reply_at\\tts_accepted_at\\tts_booking_at\\tds_checkin\\tds_checkout\\tn_guests\\tn_messages  \\\n",
       "0  000dfad9-459b-4f0b-8310-3d6ab34e4f57\\t13bb24b8...                                                                                        \n",
       "1  00197051-c6cb-4c3a-99e9-86615b819874\\t46aa3897...                                                                                        \n",
       "\n",
       "                               id_guest                              tid_host  \\\n",
       "0  000dfad9-459b-4f0b-8310-3d6ab34e4f57  13bb24b8-d432-43a2-9755-5ea11b43bb69   \n",
       "1  00197051-c6cb-4c3a-99e9-86615b819874  46aa3897-9c00-4d76-ac66-a307593d0675   \n",
       "\n",
       "                            tid_listing         tts_contact_at  \\\n",
       "0  21d2b1a2-fdc3-4b4c-a1f0-0eaf0cc02370  2014-10-04 16:26:28.0   \n",
       "1  fb5ed09a-9848-4f2c-b2ef-34deb62164fb  2014-11-04 09:10:03.0   \n",
       "\n",
       "            tts_reply_at        tts_accepted_at         tts_booking_at  \\\n",
       "0  2014-10-04 16:26:28.0  2014-10-04 16:26:28.0  2014-10-04 16:26:28.0   \n",
       "1  2014-11-04 09:45:50.0  2014-11-04 09:45:50.0  2014-11-04 12:20:46.0   \n",
       "\n",
       "  tds_checkin tds_checkout tn_guests tn_messages  \n",
       "0  2014-10-13   2014-10-15         2          13  \n",
       "1  2014-11-27   2014-11-30         1          10  "
      ]
     },
     "execution_count": 15,
     "metadata": {},
     "output_type": "execute_result"
    }
   ],
   "source": [
    "dataset_1.head(2)"
   ]
  },
  {
   "cell_type": "code",
   "execution_count": null,
   "metadata": {},
   "outputs": [],
   "source": []
  },
  {
   "cell_type": "code",
   "execution_count": 16,
   "metadata": {},
   "outputs": [],
   "source": [
    "dataset_2[['ds', 'tid_user', 'tds_checkin', 'tds_checkout', 'tn_searches', 'tn_nights', 'tn_guests_min', 'tn_guests_max', 'torigin_country', 'tfilter_price_min', 'tfilter_price_max' , 'tfilter_room_types' , 'tfilter_neighbourhoods']] = dataset_2['ds\\tid_user\\tds_checkin\\tds_checkout\\tn_searches\\tn_nights\\tn_guests_min\\tn_guests_max\\torigin_country\\tfilter_price_min\\tfilter_price_max\\tfilter_room_types\\tfilter_neighborhoods'].str.split('\\t', expand=True)\n"
   ]
  },
  {
   "cell_type": "code",
   "execution_count": 17,
   "metadata": {},
   "outputs": [
    {
     "data": {
      "text/html": [
       "<div>\n",
       "<style scoped>\n",
       "    .dataframe tbody tr th:only-of-type {\n",
       "        vertical-align: middle;\n",
       "    }\n",
       "\n",
       "    .dataframe tbody tr th {\n",
       "        vertical-align: top;\n",
       "    }\n",
       "\n",
       "    .dataframe thead th {\n",
       "        text-align: right;\n",
       "    }\n",
       "</style>\n",
       "<table border=\"1\" class=\"dataframe\">\n",
       "  <thead>\n",
       "    <tr style=\"text-align: right;\">\n",
       "      <th></th>\n",
       "      <th>ds\\tid_user\\tds_checkin\\tds_checkout\\tn_searches\\tn_nights\\tn_guests_min\\tn_guests_max\\torigin_country\\tfilter_price_min\\tfilter_price_max\\tfilter_room_types\\tfilter_neighborhoods</th>\n",
       "      <th>ds</th>\n",
       "      <th>tid_user</th>\n",
       "      <th>tds_checkin</th>\n",
       "      <th>tds_checkout</th>\n",
       "      <th>tn_searches</th>\n",
       "      <th>tn_nights</th>\n",
       "      <th>tn_guests_min</th>\n",
       "      <th>tn_guests_max</th>\n",
       "      <th>torigin_country</th>\n",
       "      <th>tfilter_price_min</th>\n",
       "      <th>tfilter_price_max</th>\n",
       "      <th>tfilter_room_types</th>\n",
       "      <th>tfilter_neighbourhoods</th>\n",
       "    </tr>\n",
       "  </thead>\n",
       "  <tbody>\n",
       "    <tr>\n",
       "      <th>0</th>\n",
       "      <td>2014-10-01\\t0000af0a-6f26-4233-9832-27efbfb361...</td>\n",
       "      <td>2014-10-01</td>\n",
       "      <td>0000af0a-6f26-4233-9832-27efbfb36148</td>\n",
       "      <td>2014-10-09</td>\n",
       "      <td>2014-10-12</td>\n",
       "      <td>16</td>\n",
       "      <td>3</td>\n",
       "      <td>2</td>\n",
       "      <td>2</td>\n",
       "      <td>IE</td>\n",
       "      <td>0</td>\n",
       "      <td>67</td>\n",
       "      <td>,Entire home/apt,Entire home/apt,Private room,...</td>\n",
       "      <td>None</td>\n",
       "    </tr>\n",
       "    <tr>\n",
       "      <th>1</th>\n",
       "      <td>2014-10-01\\t0000af0a-6f26-4233-9832-27efbfb361...</td>\n",
       "      <td>2014-10-01</td>\n",
       "      <td>0000af0a-6f26-4233-9832-27efbfb36148</td>\n",
       "      <td>2014-10-09</td>\n",
       "      <td>2014-10-19</td>\n",
       "      <td>3</td>\n",
       "      <td>10</td>\n",
       "      <td>1</td>\n",
       "      <td>2</td>\n",
       "      <td>IE</td>\n",
       "      <td>0</td>\n",
       "      <td>67</td>\n",
       "      <td>None</td>\n",
       "      <td>None</td>\n",
       "    </tr>\n",
       "  </tbody>\n",
       "</table>\n",
       "</div>"
      ],
      "text/plain": [
       "  ds\\tid_user\\tds_checkin\\tds_checkout\\tn_searches\\tn_nights\\tn_guests_min\\tn_guests_max\\torigin_country\\tfilter_price_min\\tfilter_price_max\\tfilter_room_types\\tfilter_neighborhoods  \\\n",
       "0  2014-10-01\\t0000af0a-6f26-4233-9832-27efbfb361...                                                                                                                                    \n",
       "1  2014-10-01\\t0000af0a-6f26-4233-9832-27efbfb361...                                                                                                                                    \n",
       "\n",
       "           ds                              tid_user tds_checkin tds_checkout  \\\n",
       "0  2014-10-01  0000af0a-6f26-4233-9832-27efbfb36148  2014-10-09   2014-10-12   \n",
       "1  2014-10-01  0000af0a-6f26-4233-9832-27efbfb36148  2014-10-09   2014-10-19   \n",
       "\n",
       "  tn_searches tn_nights tn_guests_min tn_guests_max torigin_country  \\\n",
       "0          16         3             2             2              IE   \n",
       "1           3        10             1             2              IE   \n",
       "\n",
       "  tfilter_price_min tfilter_price_max  \\\n",
       "0                 0                67   \n",
       "1                 0                67   \n",
       "\n",
       "                                  tfilter_room_types tfilter_neighbourhoods  \n",
       "0  ,Entire home/apt,Entire home/apt,Private room,...                   None  \n",
       "1                                               None                   None  "
      ]
     },
     "execution_count": 17,
     "metadata": {},
     "output_type": "execute_result"
    }
   ],
   "source": [
    "dataset_2.head(2)"
   ]
  },
  {
   "cell_type": "code",
   "execution_count": 18,
   "metadata": {},
   "outputs": [
    {
     "name": "stdout",
     "output_type": "stream",
     "text": [
      "<class 'pandas.core.frame.DataFrame'>\n",
      "RangeIndex: 35737 entries, 0 to 35736\n",
      "Data columns (total 14 columns):\n",
      " #   Column                                                                                                                                                                   Non-Null Count  Dtype \n",
      "---  ------                                                                                                                                                                   --------------  ----- \n",
      " 0   ds\tid_user\tds_checkin\tds_checkout\tn_searches\tn_nights\tn_guests_min\tn_guests_max\torigin_country\tfilter_price_min\tfilter_price_max\tfilter_room_types\tfilter_neighborhoods  35737 non-null  object\n",
      " 1   ds                                                                                                                                                                       35737 non-null  object\n",
      " 2   tid_user                                                                                                                                                                 35737 non-null  object\n",
      " 3   tds_checkin                                                                                                                                                              35737 non-null  object\n",
      " 4   tds_checkout                                                                                                                                                             35737 non-null  object\n",
      " 5   tn_searches                                                                                                                                                              35737 non-null  object\n",
      " 6   tn_nights                                                                                                                                                                35737 non-null  object\n",
      " 7   tn_guests_min                                                                                                                                                            35737 non-null  object\n",
      " 8   tn_guests_max                                                                                                                                                            35737 non-null  object\n",
      " 9   torigin_country                                                                                                                                                          35737 non-null  object\n",
      " 10  tfilter_price_min                                                                                                                                                        35737 non-null  object\n",
      " 11  tfilter_price_max                                                                                                                                                        35737 non-null  object\n",
      " 12  tfilter_room_types                                                                                                                                                       16528 non-null  object\n",
      " 13  tfilter_neighbourhoods                                                                                                                                                   1346 non-null   object\n",
      "dtypes: object(14)\n",
      "memory usage: 3.8+ MB\n"
     ]
    }
   ],
   "source": [
    "dataset_2.info()\n"
   ]
  },
  {
   "cell_type": "markdown",
   "metadata": {},
   "source": [
    "Because we have to use both dataset together for analysis let's concat them :"
   ]
  },
  {
   "cell_type": "code",
   "execution_count": 19,
   "metadata": {},
   "outputs": [],
   "source": [
    "new_df = pd.merge(dataset_1 , dataset_2)"
   ]
  },
  {
   "cell_type": "code",
   "execution_count": 20,
   "metadata": {},
   "outputs": [
    {
     "data": {
      "text/html": [
       "<div>\n",
       "<style scoped>\n",
       "    .dataframe tbody tr th:only-of-type {\n",
       "        vertical-align: middle;\n",
       "    }\n",
       "\n",
       "    .dataframe tbody tr th {\n",
       "        vertical-align: top;\n",
       "    }\n",
       "\n",
       "    .dataframe thead th {\n",
       "        text-align: right;\n",
       "    }\n",
       "</style>\n",
       "<table border=\"1\" class=\"dataframe\">\n",
       "  <thead>\n",
       "    <tr style=\"text-align: right;\">\n",
       "      <th></th>\n",
       "      <th>id_guest\\tid_host\\tid_listing\\tts_contact_at\\tts_reply_at\\tts_accepted_at\\tts_booking_at\\tds_checkin\\tds_checkout\\tn_guests\\tn_messages</th>\n",
       "      <th>id_guest</th>\n",
       "      <th>tid_host</th>\n",
       "      <th>tid_listing</th>\n",
       "      <th>tts_contact_at</th>\n",
       "      <th>tts_reply_at</th>\n",
       "      <th>tts_accepted_at</th>\n",
       "      <th>tts_booking_at</th>\n",
       "      <th>tds_checkin</th>\n",
       "      <th>tds_checkout</th>\n",
       "      <th>...</th>\n",
       "      <th>tid_user</th>\n",
       "      <th>tn_searches</th>\n",
       "      <th>tn_nights</th>\n",
       "      <th>tn_guests_min</th>\n",
       "      <th>tn_guests_max</th>\n",
       "      <th>torigin_country</th>\n",
       "      <th>tfilter_price_min</th>\n",
       "      <th>tfilter_price_max</th>\n",
       "      <th>tfilter_room_types</th>\n",
       "      <th>tfilter_neighbourhoods</th>\n",
       "    </tr>\n",
       "  </thead>\n",
       "  <tbody>\n",
       "    <tr>\n",
       "      <th>0</th>\n",
       "      <td>000dfad9-459b-4f0b-8310-3d6ab34e4f57\\t13bb24b8...</td>\n",
       "      <td>000dfad9-459b-4f0b-8310-3d6ab34e4f57</td>\n",
       "      <td>13bb24b8-d432-43a2-9755-5ea11b43bb69</td>\n",
       "      <td>21d2b1a2-fdc3-4b4c-a1f0-0eaf0cc02370</td>\n",
       "      <td>2014-10-04 16:26:28.0</td>\n",
       "      <td>2014-10-04 16:26:28.0</td>\n",
       "      <td>2014-10-04 16:26:28.0</td>\n",
       "      <td>2014-10-04 16:26:28.0</td>\n",
       "      <td>2014-10-13</td>\n",
       "      <td>2014-10-15</td>\n",
       "      <td>...</td>\n",
       "      <td>111aff61-7560-4281-8529-f64859308bb0</td>\n",
       "      <td>4</td>\n",
       "      <td>2</td>\n",
       "      <td>2</td>\n",
       "      <td>2</td>\n",
       "      <td>DE</td>\n",
       "      <td>NULL</td>\n",
       "      <td>NULL</td>\n",
       "      <td>None</td>\n",
       "      <td>None</td>\n",
       "    </tr>\n",
       "    <tr>\n",
       "      <th>1</th>\n",
       "      <td>000dfad9-459b-4f0b-8310-3d6ab34e4f57\\t13bb24b8...</td>\n",
       "      <td>000dfad9-459b-4f0b-8310-3d6ab34e4f57</td>\n",
       "      <td>13bb24b8-d432-43a2-9755-5ea11b43bb69</td>\n",
       "      <td>21d2b1a2-fdc3-4b4c-a1f0-0eaf0cc02370</td>\n",
       "      <td>2014-10-04 16:26:28.0</td>\n",
       "      <td>2014-10-04 16:26:28.0</td>\n",
       "      <td>2014-10-04 16:26:28.0</td>\n",
       "      <td>2014-10-04 16:26:28.0</td>\n",
       "      <td>2014-10-13</td>\n",
       "      <td>2014-10-15</td>\n",
       "      <td>...</td>\n",
       "      <td>40984cb3-fd3b-40d8-ab2b-14151bac010d</td>\n",
       "      <td>8</td>\n",
       "      <td>2</td>\n",
       "      <td>5</td>\n",
       "      <td>5</td>\n",
       "      <td>GB</td>\n",
       "      <td>NULL</td>\n",
       "      <td>NULL</td>\n",
       "      <td>None</td>\n",
       "      <td>None</td>\n",
       "    </tr>\n",
       "    <tr>\n",
       "      <th>2</th>\n",
       "      <td>000dfad9-459b-4f0b-8310-3d6ab34e4f57\\t13bb24b8...</td>\n",
       "      <td>000dfad9-459b-4f0b-8310-3d6ab34e4f57</td>\n",
       "      <td>13bb24b8-d432-43a2-9755-5ea11b43bb69</td>\n",
       "      <td>21d2b1a2-fdc3-4b4c-a1f0-0eaf0cc02370</td>\n",
       "      <td>2014-10-04 16:26:28.0</td>\n",
       "      <td>2014-10-04 16:26:28.0</td>\n",
       "      <td>2014-10-04 16:26:28.0</td>\n",
       "      <td>2014-10-04 16:26:28.0</td>\n",
       "      <td>2014-10-13</td>\n",
       "      <td>2014-10-15</td>\n",
       "      <td>...</td>\n",
       "      <td>5bd43bd9-3be5-443b-b059-6c6a9b7da553</td>\n",
       "      <td>6</td>\n",
       "      <td>2</td>\n",
       "      <td>1</td>\n",
       "      <td>2</td>\n",
       "      <td>IE</td>\n",
       "      <td>0</td>\n",
       "      <td>130</td>\n",
       "      <td>Private room</td>\n",
       "      <td>,City Centre</td>\n",
       "    </tr>\n",
       "    <tr>\n",
       "      <th>3</th>\n",
       "      <td>000dfad9-459b-4f0b-8310-3d6ab34e4f57\\t13bb24b8...</td>\n",
       "      <td>000dfad9-459b-4f0b-8310-3d6ab34e4f57</td>\n",
       "      <td>13bb24b8-d432-43a2-9755-5ea11b43bb69</td>\n",
       "      <td>21d2b1a2-fdc3-4b4c-a1f0-0eaf0cc02370</td>\n",
       "      <td>2014-10-04 16:26:28.0</td>\n",
       "      <td>2014-10-04 16:26:28.0</td>\n",
       "      <td>2014-10-04 16:26:28.0</td>\n",
       "      <td>2014-10-04 16:26:28.0</td>\n",
       "      <td>2014-10-13</td>\n",
       "      <td>2014-10-15</td>\n",
       "      <td>...</td>\n",
       "      <td>9248e8de-75b8-41d6-b077-02a246cdb2ca</td>\n",
       "      <td>6</td>\n",
       "      <td>2</td>\n",
       "      <td>1</td>\n",
       "      <td>2</td>\n",
       "      <td>ES</td>\n",
       "      <td>NULL</td>\n",
       "      <td>NULL</td>\n",
       "      <td>Entire home/apt</td>\n",
       "      <td>None</td>\n",
       "    </tr>\n",
       "    <tr>\n",
       "      <th>4</th>\n",
       "      <td>000dfad9-459b-4f0b-8310-3d6ab34e4f57\\t13bb24b8...</td>\n",
       "      <td>000dfad9-459b-4f0b-8310-3d6ab34e4f57</td>\n",
       "      <td>13bb24b8-d432-43a2-9755-5ea11b43bb69</td>\n",
       "      <td>21d2b1a2-fdc3-4b4c-a1f0-0eaf0cc02370</td>\n",
       "      <td>2014-10-04 16:26:28.0</td>\n",
       "      <td>2014-10-04 16:26:28.0</td>\n",
       "      <td>2014-10-04 16:26:28.0</td>\n",
       "      <td>2014-10-04 16:26:28.0</td>\n",
       "      <td>2014-10-13</td>\n",
       "      <td>2014-10-15</td>\n",
       "      <td>...</td>\n",
       "      <td>990ea921-07b4-48f3-824f-a677c8b08f96</td>\n",
       "      <td>12</td>\n",
       "      <td>2</td>\n",
       "      <td>2</td>\n",
       "      <td>2</td>\n",
       "      <td>BE</td>\n",
       "      <td>0</td>\n",
       "      <td>143</td>\n",
       "      <td>,Entire home/apt</td>\n",
       "      <td>None</td>\n",
       "    </tr>\n",
       "    <tr>\n",
       "      <th>...</th>\n",
       "      <td>...</td>\n",
       "      <td>...</td>\n",
       "      <td>...</td>\n",
       "      <td>...</td>\n",
       "      <td>...</td>\n",
       "      <td>...</td>\n",
       "      <td>...</td>\n",
       "      <td>...</td>\n",
       "      <td>...</td>\n",
       "      <td>...</td>\n",
       "      <td>...</td>\n",
       "      <td>...</td>\n",
       "      <td>...</td>\n",
       "      <td>...</td>\n",
       "      <td>...</td>\n",
       "      <td>...</td>\n",
       "      <td>...</td>\n",
       "      <td>...</td>\n",
       "      <td>...</td>\n",
       "      <td>...</td>\n",
       "      <td>...</td>\n",
       "    </tr>\n",
       "    <tr>\n",
       "      <th>677440</th>\n",
       "      <td>fffea166-9432-43a7-8b1b-09d6f30c1c07\\t6d656267...</td>\n",
       "      <td>fffea166-9432-43a7-8b1b-09d6f30c1c07</td>\n",
       "      <td>6d656267-642e-4972-bdec-a35d82b84ebb</td>\n",
       "      <td>90dddef6-23ef-4df3-b454-8fd3d0e8cade</td>\n",
       "      <td>2014-10-08 00:05:05.0</td>\n",
       "      <td>2014-10-12 20:58:12.0</td>\n",
       "      <td>NULL</td>\n",
       "      <td>NULL</td>\n",
       "      <td>2014-11-11</td>\n",
       "      <td>2014-11-18</td>\n",
       "      <td>...</td>\n",
       "      <td>e9606794-85f6-4478-ab6e-1d4f78be6237</td>\n",
       "      <td>2</td>\n",
       "      <td>7</td>\n",
       "      <td>2</td>\n",
       "      <td>4</td>\n",
       "      <td>IT</td>\n",
       "      <td>0</td>\n",
       "      <td>85</td>\n",
       "      <td>None</td>\n",
       "      <td>None</td>\n",
       "    </tr>\n",
       "    <tr>\n",
       "      <th>677441</th>\n",
       "      <td>fffea166-9432-43a7-8b1b-09d6f30c1c07\\t6d656267...</td>\n",
       "      <td>fffea166-9432-43a7-8b1b-09d6f30c1c07</td>\n",
       "      <td>6d656267-642e-4972-bdec-a35d82b84ebb</td>\n",
       "      <td>90dddef6-23ef-4df3-b454-8fd3d0e8cade</td>\n",
       "      <td>2014-10-08 00:05:05.0</td>\n",
       "      <td>2014-10-12 20:58:12.0</td>\n",
       "      <td>NULL</td>\n",
       "      <td>NULL</td>\n",
       "      <td>2014-11-11</td>\n",
       "      <td>2014-11-18</td>\n",
       "      <td>...</td>\n",
       "      <td>928b9319-542a-4cc2-af04-c63df3d5fb0f</td>\n",
       "      <td>7</td>\n",
       "      <td>7</td>\n",
       "      <td>1</td>\n",
       "      <td>1</td>\n",
       "      <td>US</td>\n",
       "      <td>0</td>\n",
       "      <td>55</td>\n",
       "      <td>None</td>\n",
       "      <td>None</td>\n",
       "    </tr>\n",
       "    <tr>\n",
       "      <th>677442</th>\n",
       "      <td>fffea166-9432-43a7-8b1b-09d6f30c1c07\\t6d656267...</td>\n",
       "      <td>fffea166-9432-43a7-8b1b-09d6f30c1c07</td>\n",
       "      <td>6d656267-642e-4972-bdec-a35d82b84ebb</td>\n",
       "      <td>90dddef6-23ef-4df3-b454-8fd3d0e8cade</td>\n",
       "      <td>2014-10-08 00:05:05.0</td>\n",
       "      <td>2014-10-12 20:58:12.0</td>\n",
       "      <td>NULL</td>\n",
       "      <td>NULL</td>\n",
       "      <td>2014-11-11</td>\n",
       "      <td>2014-11-18</td>\n",
       "      <td>...</td>\n",
       "      <td>b964af02-2301-4131-936c-5224b681069b</td>\n",
       "      <td>34</td>\n",
       "      <td>7</td>\n",
       "      <td>1</td>\n",
       "      <td>1</td>\n",
       "      <td>IT</td>\n",
       "      <td>0</td>\n",
       "      <td>850</td>\n",
       "      <td>,Entire home/apt</td>\n",
       "      <td>None</td>\n",
       "    </tr>\n",
       "    <tr>\n",
       "      <th>677443</th>\n",
       "      <td>fffea166-9432-43a7-8b1b-09d6f30c1c07\\t6d656267...</td>\n",
       "      <td>fffea166-9432-43a7-8b1b-09d6f30c1c07</td>\n",
       "      <td>6d656267-642e-4972-bdec-a35d82b84ebb</td>\n",
       "      <td>90dddef6-23ef-4df3-b454-8fd3d0e8cade</td>\n",
       "      <td>2014-10-08 00:05:05.0</td>\n",
       "      <td>2014-10-12 20:58:12.0</td>\n",
       "      <td>NULL</td>\n",
       "      <td>NULL</td>\n",
       "      <td>2014-11-11</td>\n",
       "      <td>2014-11-18</td>\n",
       "      <td>...</td>\n",
       "      <td>fffea166-9432-43a7-8b1b-09d6f30c1c07</td>\n",
       "      <td>3</td>\n",
       "      <td>7</td>\n",
       "      <td>2</td>\n",
       "      <td>2</td>\n",
       "      <td>AR</td>\n",
       "      <td>0</td>\n",
       "      <td>34</td>\n",
       "      <td>None</td>\n",
       "      <td>None</td>\n",
       "    </tr>\n",
       "    <tr>\n",
       "      <th>677444</th>\n",
       "      <td>fffea166-9432-43a7-8b1b-09d6f30c1c07\\t6d656267...</td>\n",
       "      <td>fffea166-9432-43a7-8b1b-09d6f30c1c07</td>\n",
       "      <td>6d656267-642e-4972-bdec-a35d82b84ebb</td>\n",
       "      <td>90dddef6-23ef-4df3-b454-8fd3d0e8cade</td>\n",
       "      <td>2014-10-08 00:05:05.0</td>\n",
       "      <td>2014-10-12 20:58:12.0</td>\n",
       "      <td>NULL</td>\n",
       "      <td>NULL</td>\n",
       "      <td>2014-11-11</td>\n",
       "      <td>2014-11-18</td>\n",
       "      <td>...</td>\n",
       "      <td>013e869d-f852-4641-bc41-7aff072256ac</td>\n",
       "      <td>1</td>\n",
       "      <td>7</td>\n",
       "      <td>2</td>\n",
       "      <td>2</td>\n",
       "      <td>AU</td>\n",
       "      <td>NULL</td>\n",
       "      <td>NULL</td>\n",
       "      <td>None</td>\n",
       "      <td>None</td>\n",
       "    </tr>\n",
       "  </tbody>\n",
       "</table>\n",
       "<p>677445 rows × 24 columns</p>\n",
       "</div>"
      ],
      "text/plain": [
       "       id_guest\\tid_host\\tid_listing\\tts_contact_at\\tts_reply_at\\tts_accepted_at\\tts_booking_at\\tds_checkin\\tds_checkout\\tn_guests\\tn_messages  \\\n",
       "0       000dfad9-459b-4f0b-8310-3d6ab34e4f57\\t13bb24b8...                                                                                        \n",
       "1       000dfad9-459b-4f0b-8310-3d6ab34e4f57\\t13bb24b8...                                                                                        \n",
       "2       000dfad9-459b-4f0b-8310-3d6ab34e4f57\\t13bb24b8...                                                                                        \n",
       "3       000dfad9-459b-4f0b-8310-3d6ab34e4f57\\t13bb24b8...                                                                                        \n",
       "4       000dfad9-459b-4f0b-8310-3d6ab34e4f57\\t13bb24b8...                                                                                        \n",
       "...                                                   ...                                                                                        \n",
       "677440  fffea166-9432-43a7-8b1b-09d6f30c1c07\\t6d656267...                                                                                        \n",
       "677441  fffea166-9432-43a7-8b1b-09d6f30c1c07\\t6d656267...                                                                                        \n",
       "677442  fffea166-9432-43a7-8b1b-09d6f30c1c07\\t6d656267...                                                                                        \n",
       "677443  fffea166-9432-43a7-8b1b-09d6f30c1c07\\t6d656267...                                                                                        \n",
       "677444  fffea166-9432-43a7-8b1b-09d6f30c1c07\\t6d656267...                                                                                        \n",
       "\n",
       "                                    id_guest  \\\n",
       "0       000dfad9-459b-4f0b-8310-3d6ab34e4f57   \n",
       "1       000dfad9-459b-4f0b-8310-3d6ab34e4f57   \n",
       "2       000dfad9-459b-4f0b-8310-3d6ab34e4f57   \n",
       "3       000dfad9-459b-4f0b-8310-3d6ab34e4f57   \n",
       "4       000dfad9-459b-4f0b-8310-3d6ab34e4f57   \n",
       "...                                      ...   \n",
       "677440  fffea166-9432-43a7-8b1b-09d6f30c1c07   \n",
       "677441  fffea166-9432-43a7-8b1b-09d6f30c1c07   \n",
       "677442  fffea166-9432-43a7-8b1b-09d6f30c1c07   \n",
       "677443  fffea166-9432-43a7-8b1b-09d6f30c1c07   \n",
       "677444  fffea166-9432-43a7-8b1b-09d6f30c1c07   \n",
       "\n",
       "                                    tid_host  \\\n",
       "0       13bb24b8-d432-43a2-9755-5ea11b43bb69   \n",
       "1       13bb24b8-d432-43a2-9755-5ea11b43bb69   \n",
       "2       13bb24b8-d432-43a2-9755-5ea11b43bb69   \n",
       "3       13bb24b8-d432-43a2-9755-5ea11b43bb69   \n",
       "4       13bb24b8-d432-43a2-9755-5ea11b43bb69   \n",
       "...                                      ...   \n",
       "677440  6d656267-642e-4972-bdec-a35d82b84ebb   \n",
       "677441  6d656267-642e-4972-bdec-a35d82b84ebb   \n",
       "677442  6d656267-642e-4972-bdec-a35d82b84ebb   \n",
       "677443  6d656267-642e-4972-bdec-a35d82b84ebb   \n",
       "677444  6d656267-642e-4972-bdec-a35d82b84ebb   \n",
       "\n",
       "                                 tid_listing         tts_contact_at  \\\n",
       "0       21d2b1a2-fdc3-4b4c-a1f0-0eaf0cc02370  2014-10-04 16:26:28.0   \n",
       "1       21d2b1a2-fdc3-4b4c-a1f0-0eaf0cc02370  2014-10-04 16:26:28.0   \n",
       "2       21d2b1a2-fdc3-4b4c-a1f0-0eaf0cc02370  2014-10-04 16:26:28.0   \n",
       "3       21d2b1a2-fdc3-4b4c-a1f0-0eaf0cc02370  2014-10-04 16:26:28.0   \n",
       "4       21d2b1a2-fdc3-4b4c-a1f0-0eaf0cc02370  2014-10-04 16:26:28.0   \n",
       "...                                      ...                    ...   \n",
       "677440  90dddef6-23ef-4df3-b454-8fd3d0e8cade  2014-10-08 00:05:05.0   \n",
       "677441  90dddef6-23ef-4df3-b454-8fd3d0e8cade  2014-10-08 00:05:05.0   \n",
       "677442  90dddef6-23ef-4df3-b454-8fd3d0e8cade  2014-10-08 00:05:05.0   \n",
       "677443  90dddef6-23ef-4df3-b454-8fd3d0e8cade  2014-10-08 00:05:05.0   \n",
       "677444  90dddef6-23ef-4df3-b454-8fd3d0e8cade  2014-10-08 00:05:05.0   \n",
       "\n",
       "                 tts_reply_at        tts_accepted_at         tts_booking_at  \\\n",
       "0       2014-10-04 16:26:28.0  2014-10-04 16:26:28.0  2014-10-04 16:26:28.0   \n",
       "1       2014-10-04 16:26:28.0  2014-10-04 16:26:28.0  2014-10-04 16:26:28.0   \n",
       "2       2014-10-04 16:26:28.0  2014-10-04 16:26:28.0  2014-10-04 16:26:28.0   \n",
       "3       2014-10-04 16:26:28.0  2014-10-04 16:26:28.0  2014-10-04 16:26:28.0   \n",
       "4       2014-10-04 16:26:28.0  2014-10-04 16:26:28.0  2014-10-04 16:26:28.0   \n",
       "...                       ...                    ...                    ...   \n",
       "677440  2014-10-12 20:58:12.0                   NULL                   NULL   \n",
       "677441  2014-10-12 20:58:12.0                   NULL                   NULL   \n",
       "677442  2014-10-12 20:58:12.0                   NULL                   NULL   \n",
       "677443  2014-10-12 20:58:12.0                   NULL                   NULL   \n",
       "677444  2014-10-12 20:58:12.0                   NULL                   NULL   \n",
       "\n",
       "       tds_checkin tds_checkout  ...                              tid_user  \\\n",
       "0       2014-10-13   2014-10-15  ...  111aff61-7560-4281-8529-f64859308bb0   \n",
       "1       2014-10-13   2014-10-15  ...  40984cb3-fd3b-40d8-ab2b-14151bac010d   \n",
       "2       2014-10-13   2014-10-15  ...  5bd43bd9-3be5-443b-b059-6c6a9b7da553   \n",
       "3       2014-10-13   2014-10-15  ...  9248e8de-75b8-41d6-b077-02a246cdb2ca   \n",
       "4       2014-10-13   2014-10-15  ...  990ea921-07b4-48f3-824f-a677c8b08f96   \n",
       "...            ...          ...  ...                                   ...   \n",
       "677440  2014-11-11   2014-11-18  ...  e9606794-85f6-4478-ab6e-1d4f78be6237   \n",
       "677441  2014-11-11   2014-11-18  ...  928b9319-542a-4cc2-af04-c63df3d5fb0f   \n",
       "677442  2014-11-11   2014-11-18  ...  b964af02-2301-4131-936c-5224b681069b   \n",
       "677443  2014-11-11   2014-11-18  ...  fffea166-9432-43a7-8b1b-09d6f30c1c07   \n",
       "677444  2014-11-11   2014-11-18  ...  013e869d-f852-4641-bc41-7aff072256ac   \n",
       "\n",
       "       tn_searches tn_nights tn_guests_min tn_guests_max torigin_country  \\\n",
       "0                4         2             2             2              DE   \n",
       "1                8         2             5             5              GB   \n",
       "2                6         2             1             2              IE   \n",
       "3                6         2             1             2              ES   \n",
       "4               12         2             2             2              BE   \n",
       "...            ...       ...           ...           ...             ...   \n",
       "677440           2         7             2             4              IT   \n",
       "677441           7         7             1             1              US   \n",
       "677442          34         7             1             1              IT   \n",
       "677443           3         7             2             2              AR   \n",
       "677444           1         7             2             2              AU   \n",
       "\n",
       "       tfilter_price_min tfilter_price_max tfilter_room_types  \\\n",
       "0                   NULL              NULL               None   \n",
       "1                   NULL              NULL               None   \n",
       "2                      0               130       Private room   \n",
       "3                   NULL              NULL    Entire home/apt   \n",
       "4                      0               143   ,Entire home/apt   \n",
       "...                  ...               ...                ...   \n",
       "677440                 0                85               None   \n",
       "677441                 0                55               None   \n",
       "677442                 0               850   ,Entire home/apt   \n",
       "677443                 0                34               None   \n",
       "677444              NULL              NULL               None   \n",
       "\n",
       "       tfilter_neighbourhoods  \n",
       "0                        None  \n",
       "1                        None  \n",
       "2                ,City Centre  \n",
       "3                        None  \n",
       "4                        None  \n",
       "...                       ...  \n",
       "677440                   None  \n",
       "677441                   None  \n",
       "677442                   None  \n",
       "677443                   None  \n",
       "677444                   None  \n",
       "\n",
       "[677445 rows x 24 columns]"
      ]
     },
     "execution_count": 20,
     "metadata": {},
     "output_type": "execute_result"
    }
   ],
   "source": [
    "new_df"
   ]
  },
  {
   "cell_type": "code",
   "execution_count": 21,
   "metadata": {},
   "outputs": [],
   "source": [
    "new_df = new_df.drop('id_guest\\tid_host\\tid_listing\\tts_contact_at\\tts_reply_at\\tts_accepted_at\\tts_booking_at\\tds_checkin\\tds_checkout\\tn_guests\\tn_messages',axis=1)"
   ]
  },
  {
   "cell_type": "code",
   "execution_count": 22,
   "metadata": {},
   "outputs": [],
   "source": [
    "new_df = new_df.drop('ds\\tid_user\\tds_checkin\\tds_checkout\\tn_searches\\tn_nights\\tn_guests_min\\tn_guests_max\\torigin_country\\tfilter_price_min\\tfilter_price_max\\tfilter_room_types\\tfilter_neighborhoods',axis=1)"
   ]
  },
  {
   "cell_type": "code",
   "execution_count": 23,
   "metadata": {},
   "outputs": [
    {
     "data": {
      "text/plain": [
       "(677445, 22)"
      ]
     },
     "execution_count": 23,
     "metadata": {},
     "output_type": "execute_result"
    }
   ],
   "source": [
    "new_df.shape"
   ]
  },
  {
   "cell_type": "code",
   "execution_count": 24,
   "metadata": {},
   "outputs": [
    {
     "data": {
      "text/html": [
       "<div>\n",
       "<style scoped>\n",
       "    .dataframe tbody tr th:only-of-type {\n",
       "        vertical-align: middle;\n",
       "    }\n",
       "\n",
       "    .dataframe tbody tr th {\n",
       "        vertical-align: top;\n",
       "    }\n",
       "\n",
       "    .dataframe thead th {\n",
       "        text-align: right;\n",
       "    }\n",
       "</style>\n",
       "<table border=\"1\" class=\"dataframe\">\n",
       "  <thead>\n",
       "    <tr style=\"text-align: right;\">\n",
       "      <th></th>\n",
       "      <th>id_guest</th>\n",
       "      <th>tid_host</th>\n",
       "      <th>tid_listing</th>\n",
       "      <th>tts_contact_at</th>\n",
       "      <th>tts_reply_at</th>\n",
       "      <th>tts_accepted_at</th>\n",
       "      <th>tts_booking_at</th>\n",
       "      <th>tds_checkin</th>\n",
       "      <th>tds_checkout</th>\n",
       "      <th>tn_guests</th>\n",
       "      <th>...</th>\n",
       "      <th>tid_user</th>\n",
       "      <th>tn_searches</th>\n",
       "      <th>tn_nights</th>\n",
       "      <th>tn_guests_min</th>\n",
       "      <th>tn_guests_max</th>\n",
       "      <th>torigin_country</th>\n",
       "      <th>tfilter_price_min</th>\n",
       "      <th>tfilter_price_max</th>\n",
       "      <th>tfilter_room_types</th>\n",
       "      <th>tfilter_neighbourhoods</th>\n",
       "    </tr>\n",
       "  </thead>\n",
       "  <tbody>\n",
       "    <tr>\n",
       "      <th>0</th>\n",
       "      <td>000dfad9-459b-4f0b-8310-3d6ab34e4f57</td>\n",
       "      <td>13bb24b8-d432-43a2-9755-5ea11b43bb69</td>\n",
       "      <td>21d2b1a2-fdc3-4b4c-a1f0-0eaf0cc02370</td>\n",
       "      <td>2014-10-04 16:26:28.0</td>\n",
       "      <td>2014-10-04 16:26:28.0</td>\n",
       "      <td>2014-10-04 16:26:28.0</td>\n",
       "      <td>2014-10-04 16:26:28.0</td>\n",
       "      <td>2014-10-13</td>\n",
       "      <td>2014-10-15</td>\n",
       "      <td>2</td>\n",
       "      <td>...</td>\n",
       "      <td>111aff61-7560-4281-8529-f64859308bb0</td>\n",
       "      <td>4</td>\n",
       "      <td>2</td>\n",
       "      <td>2</td>\n",
       "      <td>2</td>\n",
       "      <td>DE</td>\n",
       "      <td>NULL</td>\n",
       "      <td>NULL</td>\n",
       "      <td>None</td>\n",
       "      <td>None</td>\n",
       "    </tr>\n",
       "    <tr>\n",
       "      <th>1</th>\n",
       "      <td>000dfad9-459b-4f0b-8310-3d6ab34e4f57</td>\n",
       "      <td>13bb24b8-d432-43a2-9755-5ea11b43bb69</td>\n",
       "      <td>21d2b1a2-fdc3-4b4c-a1f0-0eaf0cc02370</td>\n",
       "      <td>2014-10-04 16:26:28.0</td>\n",
       "      <td>2014-10-04 16:26:28.0</td>\n",
       "      <td>2014-10-04 16:26:28.0</td>\n",
       "      <td>2014-10-04 16:26:28.0</td>\n",
       "      <td>2014-10-13</td>\n",
       "      <td>2014-10-15</td>\n",
       "      <td>2</td>\n",
       "      <td>...</td>\n",
       "      <td>40984cb3-fd3b-40d8-ab2b-14151bac010d</td>\n",
       "      <td>8</td>\n",
       "      <td>2</td>\n",
       "      <td>5</td>\n",
       "      <td>5</td>\n",
       "      <td>GB</td>\n",
       "      <td>NULL</td>\n",
       "      <td>NULL</td>\n",
       "      <td>None</td>\n",
       "      <td>None</td>\n",
       "    </tr>\n",
       "  </tbody>\n",
       "</table>\n",
       "<p>2 rows × 22 columns</p>\n",
       "</div>"
      ],
      "text/plain": [
       "                               id_guest                              tid_host  \\\n",
       "0  000dfad9-459b-4f0b-8310-3d6ab34e4f57  13bb24b8-d432-43a2-9755-5ea11b43bb69   \n",
       "1  000dfad9-459b-4f0b-8310-3d6ab34e4f57  13bb24b8-d432-43a2-9755-5ea11b43bb69   \n",
       "\n",
       "                            tid_listing         tts_contact_at  \\\n",
       "0  21d2b1a2-fdc3-4b4c-a1f0-0eaf0cc02370  2014-10-04 16:26:28.0   \n",
       "1  21d2b1a2-fdc3-4b4c-a1f0-0eaf0cc02370  2014-10-04 16:26:28.0   \n",
       "\n",
       "            tts_reply_at        tts_accepted_at         tts_booking_at  \\\n",
       "0  2014-10-04 16:26:28.0  2014-10-04 16:26:28.0  2014-10-04 16:26:28.0   \n",
       "1  2014-10-04 16:26:28.0  2014-10-04 16:26:28.0  2014-10-04 16:26:28.0   \n",
       "\n",
       "  tds_checkin tds_checkout tn_guests  ...  \\\n",
       "0  2014-10-13   2014-10-15         2  ...   \n",
       "1  2014-10-13   2014-10-15         2  ...   \n",
       "\n",
       "                               tid_user tn_searches tn_nights tn_guests_min  \\\n",
       "0  111aff61-7560-4281-8529-f64859308bb0           4         2             2   \n",
       "1  40984cb3-fd3b-40d8-ab2b-14151bac010d           8         2             5   \n",
       "\n",
       "  tn_guests_max torigin_country tfilter_price_min tfilter_price_max  \\\n",
       "0             2              DE              NULL              NULL   \n",
       "1             5              GB              NULL              NULL   \n",
       "\n",
       "  tfilter_room_types tfilter_neighbourhoods  \n",
       "0               None                   None  \n",
       "1               None                   None  \n",
       "\n",
       "[2 rows x 22 columns]"
      ]
     },
     "execution_count": 24,
     "metadata": {},
     "output_type": "execute_result"
    }
   ],
   "source": [
    "new_df.head(2)"
   ]
  },
  {
   "cell_type": "code",
   "execution_count": 25,
   "metadata": {},
   "outputs": [
    {
     "data": {
      "text/plain": [
       "id_guest                       0\n",
       "tid_host                       0\n",
       "tid_listing                    0\n",
       "tts_contact_at                 0\n",
       "tts_reply_at                   0\n",
       "tts_accepted_at                0\n",
       "tts_booking_at                 0\n",
       "tds_checkin                    0\n",
       "tds_checkout                   0\n",
       "tn_guests                      0\n",
       "tn_messages                    0\n",
       "ds                             0\n",
       "tid_user                       0\n",
       "tn_searches                    0\n",
       "tn_nights                      0\n",
       "tn_guests_min                  0\n",
       "tn_guests_max                  0\n",
       "torigin_country                0\n",
       "tfilter_price_min              0\n",
       "tfilter_price_max              0\n",
       "tfilter_room_types        295160\n",
       "tfilter_neighbourhoods    641201\n",
       "dtype: int64"
      ]
     },
     "execution_count": 25,
     "metadata": {},
     "output_type": "execute_result"
    }
   ],
   "source": [
    "new_df.isnull().sum()"
   ]
  },
  {
   "cell_type": "code",
   "execution_count": 26,
   "metadata": {},
   "outputs": [
    {
     "name": "stdout",
     "output_type": "stream",
     "text": [
      "<class 'pandas.core.series.Series'>\n",
      "RangeIndex: 677445 entries, 0 to 677444\n",
      "Series name: tfilter_room_types\n",
      "Non-Null Count   Dtype \n",
      "--------------   ----- \n",
      "382285 non-null  object\n",
      "dtypes: object(1)\n",
      "memory usage: 5.2+ MB\n"
     ]
    }
   ],
   "source": [
    "#We have null in last columns let's handle them first\n",
    "new_df['tfilter_room_types'].info()"
   ]
  },
  {
   "cell_type": "code",
   "execution_count": 27,
   "metadata": {},
   "outputs": [
    {
     "data": {
      "text/plain": [
       "array([None, 'Private room', 'Entire home/apt', ',Entire home/apt',\n",
       "       ',Private room', ',Entire home/apt,Private room,Private room',\n",
       "       'Entire home/apt,Private room', ',Entire home/apt,Private room',\n",
       "       '', ',Entire home/apt,Entire home/apt,Private room',\n",
       "       ',Entire home/apt,Private room,Private room,Shared room,Shared room',\n",
       "       'Entire home/apt,Shared room,Entire home/apt',\n",
       "       'Entire home/apt,Entire home/apt,Private room',\n",
       "       ',Entire home/apt,Private room,Private room,Private room,Shared room',\n",
       "       ',Entire home/apt,Entire home/apt,Private room,Private room',\n",
       "       ',Private room,Private room,Shared room',\n",
       "       ',Private room,Shared room',\n",
       "       ',Entire home/apt,Entire home/apt,Shared room',\n",
       "       'Private room,Shared room',\n",
       "       ',Entire home/apt,Private room,Entire home/apt',\n",
       "       ',Entire home/apt,Private room,Shared room,Shared room,Private room',\n",
       "       'Entire home/apt,Private room,Entire home/apt',\n",
       "       ',Entire home/apt,Private room,Shared room,Private room,Private room,Shared room',\n",
       "       ',Shared room',\n",
       "       'Entire home/apt,Entire home/apt,Private room,Private room',\n",
       "       ',Entire home/apt,Private room,Shared room',\n",
       "       ',Private room,Shared room,Shared room',\n",
       "       ',Entire home/apt,Entire home/apt,Private room,Private room,Private room,Shared room',\n",
       "       'Entire home/apt,Shared room,Private room,Entire home/apt',\n",
       "       'Shared room', ',Entire home/apt,Shared room',\n",
       "       'Entire home/apt,Private room,Shared room',\n",
       "       ',Entire home/apt,Entire home/apt,Private room,Shared room,Entire home/apt,Shared room,Private room,Shared room,Shared room',\n",
       "       ',Entire home/apt,Private room,Private room,Entire home/apt',\n",
       "       ',Private room,Private room,Shared room,Shared room',\n",
       "       ',Private room,Entire home/apt',\n",
       "       ',Entire home/apt,Entire home/apt,Private room,Entire home/apt,Private room,Shared room',\n",
       "       'Shared room,Shared room,Private room,Shared room,Private room,Entire home/apt',\n",
       "       'Private room,Entire home/apt',\n",
       "       ',Entire home/apt,Private room,Private room,Private room,Entire home/apt',\n",
       "       ',Private room,Shared room,Entire home/apt',\n",
       "       ',Entire home/apt,Entire home/apt,Private room,Private room,Entire home/apt',\n",
       "       'Shared room,Entire home/apt',\n",
       "       'Private room,Shared room,Entire home/apt',\n",
       "       'Entire home/apt,Private room,Private room,Entire home/apt',\n",
       "       ',Entire home/apt,Entire home/apt,Private room,Entire home/apt,Private room,Shared room,Entire home/apt,Shared room,Private room,Private room,Shared room,Shared room',\n",
       "       'Shared room,Private room,Entire home/apt',\n",
       "       ',Shared room,Private room',\n",
       "       ',Entire home/apt,Shared room,Shared room,Entire home/apt',\n",
       "       'Entire home/apt,Private room,Private room',\n",
       "       'Entire home/apt,Entire home/apt,Shared room',\n",
       "       ',Entire home/apt,Shared room,Private room',\n",
       "       ',Entire home/apt,Private room,Shared room,Shared room,Entire home/apt',\n",
       "       'Shared room,Private room',\n",
       "       'Private room,Private room,Shared room',\n",
       "       ',Entire home/apt,Entire home/apt,Private room,Entire home/apt,Private room,Shared room,Entire home/apt,Shared room,Private room',\n",
       "       'Entire home/apt,Entire home/apt,Private room,Entire home/apt,Private room,Shared room,Entire home/apt,Shared room',\n",
       "       ',Shared room,Private room,Entire home/apt',\n",
       "       ',Shared room,Private room,Shared room,Private room,Entire home/apt',\n",
       "       'Private room,Private room,Entire home/apt',\n",
       "       'Entire home/apt,Private room,Private room,Shared room,Entire home/apt',\n",
       "       'Entire home/apt,Private room,Shared room,Private room,Shared room',\n",
       "       ',Entire home/apt,Entire home/apt,Private room,Entire home/apt,Private room,Shared room,Private room,Private room,Shared room',\n",
       "       ',Entire home/apt,Entire home/apt,Private room,Entire home/apt,Private room,Shared room,Entire home/apt,Shared room',\n",
       "       ',Entire home/apt,Private room,Entire home/apt,Private room,Shared room,Entire home/apt,Shared room,Private room,Shared room',\n",
       "       ',Entire home/apt,Private room,Private room,Shared room',\n",
       "       ',Entire home/apt,Shared room,Shared room',\n",
       "       ',Entire home/apt,Private room,Entire home/apt,Private room,Shared room,Private room',\n",
       "       ',Entire home/apt,Entire home/apt,Private room,Entire home/apt,Private room,Shared room,Private room,Shared room,Shared room',\n",
       "       ',Entire home/apt,Entire home/apt,Private room,Entire home/apt,Private room,Shared room,Entire home/apt,Shared room,Private room,Private room,Shared room',\n",
       "       ',Private room,Private room,Entire home/apt',\n",
       "       ',Entire home/apt,Entire home/apt,Private room,Entire home/apt,Shared room,Private room,Shared room,Shared room',\n",
       "       ',Entire home/apt,Entire home/apt,Private room,Shared room,Private room,Private room,Shared room',\n",
       "       'Entire home/apt,Private room,Shared room,Entire home/apt,Shared room',\n",
       "       'Entire home/apt,Entire home/apt,Private room,Shared room',\n",
       "       'Entire home/apt,Private room,Shared room,Shared room',\n",
       "       'Entire home/apt,Private room,Private room,Entire home/apt,Private room,Shared room',\n",
       "       ',Entire home/apt,Private room,Shared room,Private room,Shared room,Shared room',\n",
       "       ',Entire home/apt,Entire home/apt,Private room,Private room,Private room,Shared room,Shared room',\n",
       "       ',Entire home/apt,Entire home/apt,Private room,Entire home/apt,Shared room',\n",
       "       ',Entire home/apt,Entire home/apt,Private room,Shared room',\n",
       "       ',Entire home/apt,Shared room,Private room,Entire home/apt',\n",
       "       'Entire home/apt,Private room,Entire home/apt,Shared room,Private room,Entire home/apt',\n",
       "       'Entire home/apt,Private room,Shared room,Entire home/apt',\n",
       "       ',Entire home/apt,Private room,Shared room,Private room,Private room,Shared room,Shared room',\n",
       "       'Entire home/apt,Private room,Entire home/apt,Private room,Shared room',\n",
       "       ',Entire home/apt,Entire home/apt,Private room,Shared room,Entire home/apt,Shared room,Private room,Private room,Shared room',\n",
       "       ',Entire home/apt,Entire home/apt,Private room,Entire home/apt,Shared room,Private room,Shared room',\n",
       "       ',Entire home/apt,Entire home/apt,Private room,Shared room,Private room',\n",
       "       ',Entire home/apt,Entire home/apt,Private room,Entire home/apt,Shared room,Private room',\n",
       "       ',Entire home/apt,Entire home/apt,Private room,Entire home/apt,Private room,Shared room,Private room',\n",
       "       'Entire home/apt,Shared room',\n",
       "       'Entire home/apt,Private room,Entire home/apt,Shared room,Entire home/apt',\n",
       "       ',Entire home/apt,Entire home/apt,Private room,Private room,Shared room',\n",
       "       ',Entire home/apt,Entire home/apt,Private room,Entire home/apt,Shared room,Private room,Entire home/apt,Shared room',\n",
       "       'Entire home/apt,Entire home/apt,Private room,Entire home/apt,Private room,Shared room,Entire home/apt,Shared room,Private room',\n",
       "       ',Private room,Entire home/apt,Private room,Shared room,Shared room',\n",
       "       ',Entire home/apt,Entire home/apt,Private room,Private room,Private room,Entire home/apt',\n",
       "       'Private room,Entire home/apt,Shared room',\n",
       "       'Private room,Private room,Shared room,Shared room',\n",
       "       ',Entire home/apt,Shared room,Private room,Private room,Shared room,Shared room',\n",
       "       ',Entire home/apt,Private room,Shared room,Entire home/apt,Shared room',\n",
       "       ',Entire home/apt,Entire home/apt,Private room,Entire home/apt,Shared room,Shared room',\n",
       "       ',Entire home/apt,Entire home/apt,Shared room,Shared room',\n",
       "       ',Entire home/apt,Entire home/apt,Private room,Shared room,Entire home/apt,Shared room',\n",
       "       ',Entire home/apt,Entire home/apt,Shared room,Private room,Shared room,Shared room',\n",
       "       'Entire home/apt,Shared room,Private room',\n",
       "       'Entire home/apt,Private room,Entire home/apt,Shared room',\n",
       "       ',Entire home/apt,Entire home/apt,Private room,Entire home/apt,Private room,Shared room,Entire home/apt,Shared room,Shared room',\n",
       "       ',Entire home/apt,Private room,Private room,Entire home/apt,Shared room',\n",
       "       ',Entire home/apt,Private room,Shared room,Private room',\n",
       "       ',Entire home/apt,Entire home/apt,Private room,Shared room,Private room,Private room,Shared room,Shared room',\n",
       "       'Entire home/apt,Private room,Shared room,Private room,Private room,Shared room',\n",
       "       ',Entire home/apt,Private room,Entire home/apt,Private room,Shared room,Private room,Private room,Shared room',\n",
       "       ',Entire home/apt,Private room,Private room,Shared room,Private room',\n",
       "       ',Entire home/apt,Entire home/apt,Private room,Private room,Shared room,Entire home/apt',\n",
       "       'Private room,Entire home/apt,Shared room,Entire home/apt',\n",
       "       ',Private room,Shared room,Shared room,Entire home/apt',\n",
       "       'Private room,Shared room,Shared room,Private room',\n",
       "       ',Private room,Private room,Entire home/apt,Shared room,Private room',\n",
       "       ',Entire home/apt,Entire home/apt,Private room,Shared room,Entire home/apt,Shared room,Private room,Private room,Shared room,Shared room',\n",
       "       'Private room,Shared room,Shared room',\n",
       "       ',Private room,Shared room,Private room,Entire home/apt',\n",
       "       'Entire home/apt,Private room,Entire home/apt,Private room,Shared room,Entire home/apt,Shared room,Private room,Private room,Shared room',\n",
       "       'Entire home/apt,Private room,Entire home/apt,Private room,Shared room,Private room',\n",
       "       'Entire home/apt,Entire home/apt,Private room,Entire home/apt,Private room,Shared room',\n",
       "       'Entire home/apt,Entire home/apt,Private room,Entire home/apt,Shared room,Private room',\n",
       "       'Entire home/apt,Entire home/apt,Private room,Shared room,Entire home/apt,Shared room,Private room,Private room,Shared room,Shared room',\n",
       "       ',Shared room,Entire home/apt',\n",
       "       'Entire home/apt,Private room,Shared room,Private room,Shared room,Entire home/apt',\n",
       "       ',Entire home/apt,Private room,Entire home/apt,Shared room',\n",
       "       'Entire home/apt,Private room,Shared room,Private room',\n",
       "       ',Entire home/apt,Entire home/apt,Shared room,Private room,Shared room',\n",
       "       ',Entire home/apt,Shared room,Entire home/apt',\n",
       "       ',Shared room,Shared room,Private room,Entire home/apt',\n",
       "       'Entire home/apt,Entire home/apt,Private room,Entire home/apt,Private room,Shared room,Private room,Private room,Shared room,Shared room',\n",
       "       ',Entire home/apt,Private room,Entire home/apt,Shared room,Private room,Entire home/apt',\n",
       "       'Private room,Entire home/apt,Shared room,Private room,Entire home/apt',\n",
       "       ',Entire home/apt,Private room,Private room,Private room,Shared room,Shared room',\n",
       "       'Shared room,Entire home/apt,Shared room,Private room,Entire home/apt',\n",
       "       ',Entire home/apt,Private room,Entire home/apt,Private room,Shared room',\n",
       "       ',Entire home/apt,Entire home/apt,Private room,Entire home/apt,Private room,Shared room,Entire home/apt,Shared room,Private room,Shared room,Shared room',\n",
       "       ',Private room,Private room,Shared room,Shared room,Shared room,Private room',\n",
       "       ',Entire home/apt,Private room,Private room,Entire home/apt,Private room,Shared room,Shared room'],\n",
       "      dtype=object)"
      ]
     },
     "execution_count": 27,
     "metadata": {},
     "output_type": "execute_result"
    }
   ],
   "source": [
    "new_df['tfilter_room_types'].unique()"
   ]
  },
  {
   "cell_type": "code",
   "execution_count": 36,
   "metadata": {},
   "outputs": [],
   "source": [
    "# Replace None with np.nan\n",
    "new_df = new_df.replace({None: np.nan})"
   ]
  },
  {
   "cell_type": "code",
   "execution_count": 37,
   "metadata": {},
   "outputs": [
    {
     "data": {
      "text/plain": [
       "tfilter_room_types\n",
       ",Entire home/apt                                                                                                                           144006\n",
       "Entire home/apt                                                                                                                             77945\n",
       ",Private room                                                                                                                               38820\n",
       "Private room                                                                                                                                24373\n",
       ",Entire home/apt,Entire home/apt,Private room                                                                                               12736\n",
       "                                                                                                                                            ...  \n",
       "Entire home/apt,Private room,Entire home/apt,Private room,Shared room,Private room                                                              2\n",
       ",Entire home/apt,Entire home/apt,Private room,Shared room,Private room                                                                          2\n",
       "Entire home/apt,Entire home/apt,Private room,Entire home/apt,Private room,Shared room,Private room,Private room,Shared room,Shared room         2\n",
       ",Entire home/apt,Private room,Private room,Private room,Shared room,Shared room                                                                 1\n",
       ",Entire home/apt,Private room,Private room,Entire home/apt,Private room,Shared room,Shared room                                                 1\n",
       "Name: count, Length: 143, dtype: int64"
      ]
     },
     "execution_count": 37,
     "metadata": {},
     "output_type": "execute_result"
    }
   ],
   "source": [
    "new_df['tfilter_room_types'].value_counts()"
   ]
  },
  {
   "cell_type": "code",
   "execution_count": 41,
   "metadata": {},
   "outputs": [],
   "source": [
    "new_df['tfilter_room_types'].mode()[0]"
   ]
  },
  {
   "cell_type": "code",
   "execution_count": 44,
   "metadata": {},
   "outputs": [
    {
     "name": "stderr",
     "output_type": "stream",
     "text": [
      "C:\\Users\\hp\\AppData\\Local\\Temp\\ipykernel_11708\\2839725474.py:1: FutureWarning: A value is trying to be set on a copy of a DataFrame or Series through chained assignment using an inplace method.\n",
      "The behavior will change in pandas 3.0. This inplace method will never work because the intermediate object on which we are setting values always behaves as a copy.\n",
      "\n",
      "For example, when doing 'df[col].method(value, inplace=True)', try using 'df.method({col: value}, inplace=True)' or df[col] = df[col].method(value) instead, to perform the operation inplace on the original object.\n",
      "\n",
      "\n",
      "  new_df['tfilter_room_types'].fillna(new_df['tfilter_room_types'].mode()[0] , inplace=True)\n"
     ]
    }
   ],
   "source": [
    "new_df['tfilter_room_types'].fillna(new_df['tfilter_room_types'].mode()[0] , inplace=True)"
   ]
  },
  {
   "cell_type": "code",
   "execution_count": 46,
   "metadata": {},
   "outputs": [
    {
     "data": {
      "text/plain": [
       "0"
      ]
     },
     "execution_count": 46,
     "metadata": {},
     "output_type": "execute_result"
    }
   ],
   "source": [
    "new_df['tfilter_room_types'].isnull().sum()"
   ]
  },
  {
   "cell_type": "code",
   "execution_count": 47,
   "metadata": {},
   "outputs": [
    {
     "name": "stdout",
     "output_type": "stream",
     "text": [
      "<class 'pandas.core.series.Series'>\n",
      "RangeIndex: 677445 entries, 0 to 677444\n",
      "Series name: tfilter_neighbourhoods\n",
      "Non-Null Count  Dtype \n",
      "--------------  ----- \n",
      "36244 non-null  object\n",
      "dtypes: object(1)\n",
      "memory usage: 5.2+ MB\n"
     ]
    }
   ],
   "source": [
    "new_df['tfilter_neighbourhoods'].info()"
   ]
  },
  {
   "cell_type": "code",
   "execution_count": 48,
   "metadata": {},
   "outputs": [
    {
     "data": {
      "text/plain": [
       "array([nan, ',City Centre', ',City Centre,Old City,Temple Bar',\n",
       "       ',City Centre,Temple Bar', ',Temple Bar', ',City Centre,Old City',\n",
       "       'City Centre', ',Temple Bar,Temple Bar,City Centre',\n",
       "       ',City Centre,Docklands', ',City Centre,Trinity College',\n",
       "       \",City Centre,City Centre,North City Central/O'Connell Street\",\n",
       "       ',Docklands,Ringsend/Irishtown', ',Ranelagh and Rathmines',\n",
       "       \",City Centre,City Centre,Old City,North City Central/O'Connell Street\",\n",
       "       ',City Centre,Monkstown', ',City Centre,Clontarf',\n",
       "       ',City Centre,Kilmainham,Marino,Temple Bar',\n",
       "       \",City Centre,Drumcondra,North City Central/O'Connell Street,City Centre,North City Central/O'Connell Street,Drumcondra,City Centre,Temple Bar\",\n",
       "       ',Ballsbridge,Ringsend/Irishtown,Sandymount',\n",
       "       \",City Centre,City Centre,Drumcondra,Docklands,City Centre,North City Central/O'Connell Street\",\n",
       "       ',Drumcondra,Beaumont,Clontarf,Glasnevin', ',Ballymun',\n",
       "       ',City Centre,City Centre,Finglas,Finglas,Trinity College',\n",
       "       ',City Centre,Drumcondra,City Centre,Phibsborough',\n",
       "       ',City Centre,Ballsbridge,Docklands',\n",
       "       ',Ringsend/Irishtown,Ballybough,City Centre,East Wall',\n",
       "       ',City Centre,City Centre,Old City',\n",
       "       \",City Centre,North City Central/O'Connell Street,Ballsbridge,Docklands,Grafton Street/St. Stephens Green,Smithfield,Temple Bar,Trinity College\",\n",
       "       'City Centre,Docklands',\n",
       "       ',City Centre,Grafton Street/St. Stephens Green,Temple Bar,Trinity College,Drumcondra,Docklands,Addison Park,Artane,Ballinteer,Ballsbridge,Ballybough,Ballyfermot,Ballymun,Beaumont,Blackrock',\n",
       "       ',City Centre,Old City,Old City',\n",
       "       \",City Centre,North City Central/O'Connell Street\",\n",
       "       ',City Centre,City Centre,Temple Bar,Temple Bar',\n",
       "       ',City Centre,Docklands,Temple Bar',\n",
       "       ',City Centre,Docklands,City Centre,Temple Bar',\n",
       "       \",City Centre,Docklands,Ranelagh and Rathmines,City Centre,Docklands,Ranelagh and Rathmines,Addison Park,Ardilea,Artane,Ballsbridge,Ballybough,Courtlands,Donnybrook,Drumcondra,East Wall,Georgian Quarter,Glasnevin,Grafton Street/St. Stephens Green,Islandbridge,Kilmainham,North City Central/O'Connell Street,North Strand,Old City,Phibsborough,Phoenix Park and Surrounds,Portobello,Raheny,Rathgar,Rialto,Ringsend/Irishtown,Sandymount,Smithfield,Stoneybatter/Arbour Hill,Temple Bar,Trinity College,City Centre,Docklands,Ranelagh and Rathmines,Addison Park,Artane,Ballsbridge,Ballybough,Beaumont,Bonnybrook/Darndale,Cabra,Clontarf,Courtlands,Dartry,Donnybrook,Drumcondra,East Wall,Georgian Quarter,Grafton Street/St. Stephens Green,Inchicore,Islandbridge,Kilmainham,Knocklyon,North City Central/O'Connell Street,North Strand,Old City,Phibsborough,Phoenix Park and Surrounds,Portobello,Rathgar,Ringsend/Irishtown,Sandymount,Santry,Smithfield,Stoneybatter/Arbour Hill,Temple Bar,Trinity College\",\n",
       "       ',Ballsbridge,City Centre',\n",
       "       ',City Centre,City Centre,Ranelagh and Rathmines',\n",
       "       \",City Centre,North City Central/O'Connell Street,Old City\",\n",
       "       ',Ballsbridge,Blackrock,Booterstown,Donnybrook',\n",
       "       ',City Centre,Drumcondra',\n",
       "       ',City Centre,City Centre,Ballsbridge,City Centre,Docklands,Ballsbridge,Bonnybrook/Darndale',\n",
       "       ',City Centre,Drumcondra,Docklands',\n",
       "       ',City Centre,City Centre,Temple Bar', ',Ballsbridge',\n",
       "       ',City Centre,Ballsbridge,Ranelagh and Rathmines',\n",
       "       ',City Centre,City Centre,Rathfarnham,Clontarf,Ranelagh and Rathmines,Smithfield',\n",
       "       ',City Centre,Donnybrook,Old City,Ranelagh and Rathmines,Sandymount',\n",
       "       \",City Centre,City Centre,Docklands,City Centre,North City Central/O'Connell Street\",\n",
       "       ',Kilmainham', ',Dundrum',\n",
       "       ',Grafton Street/St. Stephens Green,Portobello,Rialto,Smithfield,Temple Bar,Trinity College',\n",
       "       ',Temple Bar,Trinity College',\n",
       "       \",City Centre,Docklands,Ranelagh and Rathmines,Addison Park,Ballsbridge,Blackrock,Courtlands,Donnybrook,Drumcondra,Georgian Quarter,Glasnevin,Grafton Street/St. Stephens Green,North City Central/O'Connell Street,North Strand,Old City,Phibsborough,Portobello,Smithfield,Stoneybatter/Arbour Hill,Temple Bar,Trinity College\",\n",
       "       \",City Centre,North City Central/O'Connell Street,Phibsborough,Smithfield,Temple Bar,Trinity College\",\n",
       "       ',City Centre,Temple Bar,City Centre,Temple Bar,Old City,Trinity College',\n",
       "       ',City Centre,Temple Bar,Trinity College',\n",
       "       \",North City Central/O'Connell Street\",\n",
       "       \",Ballsbridge,Portobello,Temple Bar,Trinity College,City Centre,Ballsbridge,Ballymun,Kilmainham,Phibsborough,Portobello,Temple Bar,Trinity College,Docklands,Ballsbridge,Dundrum,Kilmainham,North City Central/O'Connell Street,Portobello,Temple Bar,Trinity College\",\n",
       "       ',Monkstown',\n",
       "       ',City Centre,Artane,Clontarf,Fairview,Grafton Street/St. Stephens Green,Temple Bar,Trinity College',\n",
       "       ',Grafton Street/St. Stephens Green',\n",
       "       \",City Centre,North City Central/O'Connell Street,Temple Bar\",\n",
       "       'Portobello', 'Temple Bar',\n",
       "       ',City Centre,Ballsbridge,Grafton Street/St. Stephens Green,Temple Bar',\n",
       "       ',City Centre,Ballsbridge,Grafton Street/St. Stephens Green,Temple Bar,City Centre,Ballsbridge,Grafton Street/St. Stephens Green,Temple Bar,Trinity College',\n",
       "       ',Ballsbridge,Blackrock,Booterstown,Donnybrook,Monkstown,Ringsend/Irishtown,Sandymount,Ballsbridge,Blackrock,Donnybrook,Sandymount',\n",
       "       ',Ballsbridge,Blackrock,Donnybrook', ',Ballsbridge,Sandymount',\n",
       "       'Ballsbridge,Sandymount',\n",
       "       ',City Centre,City Centre,Old City,Docklands',\n",
       "       ',City Centre,Portobello,Temple Bar,Trinity College',\n",
       "       ',Ballsbridge,Donnybrook,Raheny', ',Old City,City Centre',\n",
       "       ',Docklands,Temple Bar', ',City Centre,Ranelagh and Rathmines',\n",
       "       ',Sandymount',\n",
       "       ',City Centre,Docklands,Old City,City Centre,Old City,Docklands',\n",
       "       ',City Centre,Docklands,Ranelagh and Rathmines',\n",
       "       \",City Centre,North City Central/O'Connell Street,Smithfield,Ballsbridge,Courtlands,Docklands,Grafton Street/St. Stephens Green,Old City,Temple Bar,Trinity College,City Centre,North City Central/O'Connell Street,Smithfield,Ballsbridge,Courtlands,Docklands,Old City,Temple Bar,Trinity College\",\n",
       "       ',Dartry,Docklands,Donnybrook,Ranelagh and Rathmines,Rathgar,Sandymount',\n",
       "       ',City Centre,Terenure,Old City,Docklands,Donnybrook,Dundrum,Temple Bar',\n",
       "       ',City Centre,Drumcondra,Marino', ',Marino',\n",
       "       ',City Centre,Temple Bar,Temple Bar',\n",
       "       ',Ballsbridge,Donnybrook,Kilmainham,Portobello,Ballsbridge,Donnybrook,Portobello',\n",
       "       ',City Centre,Docklands,Ranelagh and Rathmines,Rathfarnham',\n",
       "       ',City Centre,Grafton Street/St. Stephens Green,Phoenix Park and Surrounds,Trinity College',\n",
       "       ',City Centre,City Centre,Addison Park,Grafton Street/St. Stephens Green,Portobello,Rathgar,Terenure',\n",
       "       ',Docklands', ',City Centre,Docklands,Docklands',\n",
       "       ',City Centre,City Centre,Ballsbridge,Temple Bar,Trinity College',\n",
       "       ',Blackrock',\n",
       "       ',City Centre,Ranelagh and Rathmines,Portobello,Rathgar',\n",
       "       ',City Centre,Grafton Street/St. Stephens Green,Temple Bar,Trinity College',\n",
       "       'Smithfield', ',Old City',\n",
       "       ',City Centre,Phoenix Park and Surrounds',\n",
       "       'Temple Bar,Temple Bar,Templeogue', ',Trinity College',\n",
       "       ',City Centre,Docklands,Trinity College',\n",
       "       ',City Centre,Old City,Docklands,Temple Bar,Trinity College',\n",
       "       ',City Centre,Grafton Street/St. Stephens Green',\n",
       "       ',Old City,Trinity College,Trinity College',\n",
       "       ',Ballsbridge,Ardilea',\n",
       "       ',City Centre,City Centre,Temple Bar,Trinity College', 'Old City',\n",
       "       ',Clondalkin', ',Ranelagh and Rathmines,Rathgar',\n",
       "       ',City Centre,City Centre,Drumcondra,Drumcondra',\n",
       "       \",City Centre,City Centre,North City Central/O'Connell Street,Old City,Drumcondra,Drumcondra\",\n",
       "       \",Blackrock,Churchtown,Clondalkin,Crumlin,Harold's Cross,Kimmage,Terenure\",\n",
       "       'Kilmainham', ',City Centre,Temple Bar,Docklands',\n",
       "       \",City Centre,City Centre,North City Central/O'Connell Street,Temple Bar,Temple Bar\",\n",
       "       ',East Wall',\n",
       "       ',City Centre,Trinity College,City Centre,Trinity College,Georgian Quarter',\n",
       "       \",City Centre,Old City,North City Central/O'Connell Street\",\n",
       "       ',Grafton Street/St. Stephens Green,Ranelagh and Rathmines,Smithfield',\n",
       "       ',Ballsbridge,Docklands,Donnybrook,Inchicore,Ranelagh and Rathmines,Sandymount,Sandymount,Ballsbridge,Docklands,Donnybrook,Inchicore',\n",
       "       ',City Centre,City Centre,Docklands', ',City Centre,Ballsbridge',\n",
       "       ',City Centre,Georgian Quarter,Grafton Street/St. Stephens Green,Georgian Quarter,Grafton Street/St. Stephens Green,Old City,Temple Bar',\n",
       "       'City Centre,Old City',\n",
       "       ',Ballsbridge,Donnybrook,Ranelagh and Rathmines,Rathfarnham,Rathgar,Ringsend/Irishtown',\n",
       "       ',City Centre,City Centre,Temple Bar,Temple Bar,Trinity College',\n",
       "       ',City Centre,Ranelagh and Rathmines,Portobello',\n",
       "       ',City Centre,City Centre,Portobello,Grafton Street/St. Stephens Green,Temple Bar',\n",
       "       ',Ballsbridge,City Centre,City Centre,Ballsbridge',\n",
       "       ',Blackrock,Bonnybrook/Darndale',\n",
       "       ',City Centre,Old City,Phibsborough,Temple Bar,Trinity College,City Centre,Old City,Temple Bar,Temple Bar',\n",
       "       ',Ringsend/Irishtown',\n",
       "       ',Ranelagh and Rathmines,Ballsbridge,Donnybrook,Georgian Quarter,Old City,Portobello,Rathgar,Ringsend/Irishtown,Sandymount,Temple Bar,Terenure,Trinity College',\n",
       "       ',Churchtown,Smithfield,Stoneybatter/Arbour Hill,Temple Bar,City Centre,Smithfield,Stoneybatter/Arbour Hill,Temple Bar,Smithfield,Stoneybatter/Arbour Hill,Temple Bar',\n",
       "       \",City Centre,City Centre,Drumcondra,North City Central/O'Connell Street,Docklands\",\n",
       "       \",City Centre,North City Central/O'Connell Street,City Centre,Old City\",\n",
       "       ',Old City,Temple Bar,Trinity College',\n",
       "       \",City Centre,Clontarf,Docklands,East Wall,Fairview,North City Central/O'Connell Street,North Strand,City Centre,North City Central/O'Connell Street,Clontarf,Courtlands,Docklands,Donnybrook,East Wall,Edenmore,Fairview,Finglas,North Strand,Old City,City Centre,North City Central/O'Connell Street,Clontarf,Docklands,East Wall,Fairview,North Strand\",\n",
       "       ',Phibsborough', 'Santry', ',Clontarf,Drumcondra',\n",
       "       'Ballsbridge,Donnybrook,Kilmainham,Portobello',\n",
       "       \",City Centre,City Centre,Docklands,North City Central/O'Connell Street\",\n",
       "       ',Docklands,Old City',\n",
       "       ',Addison Park,Ballsbridge,Blackrock,Ranelagh and Rathmines,Rathgar,Sandymount,Ranelagh and Rathmines',\n",
       "       ',City Centre,Temple Bar,Clontarf,Drumcondra',\n",
       "       \",North City Central/O'Connell Street,Clontarf\",\n",
       "       ',Ballsbridge,Dundrum,Georgian Quarter,Sandymount', ',Artane',\n",
       "       \",City Centre,City Centre,North City Central/O'Connell Street,Old City\",\n",
       "       ',Grafton Street/St. Stephens Green,Phoenix Park and Surrounds,Portobello,Smithfield,Temple Bar,Trinity College',\n",
       "       ',City Centre,Ranelagh and Rathmines,Donnybrook,Temple Bar',\n",
       "       \",City Centre,Ranelagh and Rathmines,Harold's Cross,Ranelagh and Rathmines,Rathgar,Terenure\",\n",
       "       ',Ballsbridge,Donnybrook',\n",
       "       ',Smithfield,Smithfield,Stoneybatter/Arbour Hill',\n",
       "       ',City Centre,Ballsbridge,Temple Bar,Trinity College',\n",
       "       ',City Centre,Docklands,Grafton Street/St. Stephens Green,Temple Bar,Trinity College',\n",
       "       ',City Centre,Stoneybatter/Arbour Hill,Temple Bar,City Centre,Temple Bar',\n",
       "       \",City Centre,North City Central/O'Connell Street,City Centre,North City Central/O'Connell Street,Phibsborough,Stoneybatter/Arbour Hill\",\n",
       "       ',City Centre,City Centre,Docklands,Old City',\n",
       "       \",City Centre,North City Central/O'Connell Street,Ballsbridge\",\n",
       "       ',Donnybrook',\n",
       "       \",City Centre,City Centre,North City Central/O'Connell Street,Smithfield,City Centre,Old City,North City Central/O'Connell Street,Smithfield\",\n",
       "       'Docklands', ',Smithfield',\n",
       "       \",Ranelagh and Rathmines,Drumcondra,Blackrock,Clontarf,Docklands,Donnybrook,Kilmainham,Kimmage,Monkstown,North City Central/O'Connell Street,Rathgar,Trinity College,Ranelagh and Rathmines,North City Central/O'Connell Street,Blackrock,Clontarf,Docklands,Donnybrook,Drumcondra,Fairview,Kilmainham,Kimmage,Monkstown,Portobello,Rathgar,Trinity College,Ranelagh and Rathmines,North City Central/O'Connell Street,Blackrock,Clontarf,Docklands,Donnybrook,Drumcondra,Kilmainham,Kimmage,Monkstown,Rathgar,Trinity College\",\n",
       "       \"City Centre,North City Central/O'Connell Street,Temple Bar,Trinity College\",\n",
       "       ',Smithfield,Stoneybatter/Arbour Hill',\n",
       "       ',City Centre,City Centre,Clondalkin,City Centre,Ranelagh and Rathmines,City Centre,Trinity College,Ranelagh and Rathmines',\n",
       "       \",City Centre,City Centre,North City Central/O'Connell Street,Ranelagh and Rathmines,Temple Bar\",\n",
       "       'City Centre,Old City,Docklands',\n",
       "       \",City Centre,Docklands,Blackrock,Grafton Street/St. Stephens Green,Harold's Cross,Old City,Portobello,Ranelagh and Rathmines,Rathgar,Rialto\",\n",
       "       ',City Centre,City Centre,Phibsborough',\n",
       "       ',Ballsbridge,Blackrock,Booterstown,Donnybrook,Ringsend/Irishtown,Sandymount',\n",
       "       \",City Centre,North City Central/O'Connell Street,Temple Bar,Trinity College\",\n",
       "       ',City Centre,Smithfield', 'Phibsborough',\n",
       "       ',City Centre,City Centre,Old City,City Centre,Old City,Docklands',\n",
       "       ',City Centre,Clontarf,Glasnevin,Old City,Ringsend/Irishtown,Smithfield,Temple Bar,Trinity College',\n",
       "       'City Centre,Temple Bar,Old City',\n",
       "       ',Portobello,Smithfield,Stoneybatter/Arbour Hill,Portobello,Stoneybatter/Arbour Hill',\n",
       "       ',City Centre,Portobello',\n",
       "       ',City Centre,City Centre,Portobello,Portobello',\n",
       "       \",City Centre,City Centre,North City Central/O'Connell Street,City Centre,North City Central/O'Connell Street,Ballsbridge\",\n",
       "       'Ballsbridge',\n",
       "       \",City Centre,North City Central/O'Connell Street,Docklands,Ballsbridge,Blackrock,Old City,Temple Bar,Trinity College\",\n",
       "       'City Centre,City Centre,Phibsborough',\n",
       "       ',City Centre,Ranelagh and Rathmines,Rathgar',\n",
       "       ',City Centre,City Centre,Temple Bar,Grafton Street/St. Stephens Green,Grafton Street/St. Stephens Green,Temple Bar,Old City,Temple Bar',\n",
       "       ',City Centre,Ballsbridge,Donnybrook,Portobello,Ranelagh and Rathmines',\n",
       "       ',Drumcondra,East Wall,North Strand,Ringsend/Irishtown',\n",
       "       ',Ballsbridge,City Centre,Ballsbridge,Donnybrook,City Centre,Docklands,Ballsbridge,Donnybrook',\n",
       "       ',City Centre,Castleknock,Finglas,Grafton Street/St. Stephens Green,Phoenix Park and Surrounds',\n",
       "       \"City Centre,North City Central/O'Connell Street\",\n",
       "       ',City Centre,Docklands,Old City,Temple Bar,Trinity College',\n",
       "       ',City Centre,City Centre,Ranelagh and Rathmines,Ranelagh and Rathmines',\n",
       "       ',City Centre,Old City,Temple Bar,Trinity College',\n",
       "       \",City Centre,Docklands,North City Central/O'Connell Street,Ballyfermot,Grafton Street/St. Stephens Green,Ringsend/Irishtown,Temple Bar,Trinity College\",\n",
       "       ',City Centre,City Centre,Ballsbridge',\n",
       "       ',Donnybrook,Ranelagh and Rathmines',\n",
       "       ',City Centre,Ballsbridge,Donnybrook,Georgian Quarter,Ranelagh and Rathmines',\n",
       "       ',City Centre,City Centre,Ranelagh and Rathmines,Docklands,Donnybrook,Portobello',\n",
       "       \",City Centre,City Centre,North City Central/O'Connell Street,Ranelagh and Rathmines\",\n",
       "       ',City Centre,Docklands,Old City',\n",
       "       \",City Centre,North City Central/O'Connell Street,Smithfield,City Centre,North City Central/O'Connell Street,Smithfield,Docklands,Fairview,Phibsborough,Portobello,Ranelagh and Rathmines,Rathfarnham,Temple Bar\",\n",
       "       ',City Centre,Georgian Quarter,Grafton Street/St. Stephens Green,Kilmainham,Temple Bar,Trinity College,City Centre,Georgian Quarter,Grafton Street/St. Stephens Green,Temple Bar,Trinity College',\n",
       "       ',Temple Bar,Phibsborough',\n",
       "       ',City Centre,Santry,Drumcondra,Santry,Santry',\n",
       "       \",City Centre,North City Central/O'Connell Street,Ballsbridge,Fairview,Georgian Quarter,Phibsborough\"],\n",
       "      dtype=object)"
      ]
     },
     "execution_count": 48,
     "metadata": {},
     "output_type": "execute_result"
    }
   ],
   "source": [
    "new_df['tfilter_neighbourhoods'].unique()"
   ]
  },
  {
   "cell_type": "code",
   "execution_count": 49,
   "metadata": {},
   "outputs": [
    {
     "name": "stderr",
     "output_type": "stream",
     "text": [
      "C:\\Users\\hp\\AppData\\Local\\Temp\\ipykernel_11708\\3680548817.py:1: FutureWarning: A value is trying to be set on a copy of a DataFrame or Series through chained assignment using an inplace method.\n",
      "The behavior will change in pandas 3.0. This inplace method will never work because the intermediate object on which we are setting values always behaves as a copy.\n",
      "\n",
      "For example, when doing 'df[col].method(value, inplace=True)', try using 'df.method({col: value}, inplace=True)' or df[col] = df[col].method(value) instead, to perform the operation inplace on the original object.\n",
      "\n",
      "\n",
      "  new_df['tfilter_neighbourhoods'].fillna(new_df['tfilter_neighbourhoods'].mode()[0] , inplace=True)\n"
     ]
    }
   ],
   "source": [
    "new_df['tfilter_neighbourhoods'].fillna(new_df['tfilter_neighbourhoods'].mode()[0] , inplace=True)"
   ]
  },
  {
   "cell_type": "code",
   "execution_count": 50,
   "metadata": {},
   "outputs": [
    {
     "data": {
      "text/plain": [
       "0"
      ]
     },
     "execution_count": 50,
     "metadata": {},
     "output_type": "execute_result"
    }
   ],
   "source": [
    "new_df['tfilter_neighbourhoods'].isnull().sum()"
   ]
  },
  {
   "cell_type": "code",
   "execution_count": null,
   "metadata": {},
   "outputs": [],
   "source": [
    "# We have nulls in some column as a value let's replace them "
   ]
  },
  {
   "cell_type": "code",
   "execution_count": 65,
   "metadata": {},
   "outputs": [
    {
     "data": {
      "text/plain": [
       "dtype('O')"
      ]
     },
     "execution_count": 65,
     "metadata": {},
     "output_type": "execute_result"
    }
   ],
   "source": [
    "new_df['tfilter_price_max'].dtypes"
   ]
  },
  {
   "cell_type": "code",
   "execution_count": 66,
   "metadata": {},
   "outputs": [
    {
     "data": {
      "text/plain": [
       "'NULL'"
      ]
     },
     "execution_count": 66,
     "metadata": {},
     "output_type": "execute_result"
    }
   ],
   "source": [
    "new_df['tfilter_price_max'].mode()[0]"
   ]
  },
  {
   "cell_type": "code",
   "execution_count": 68,
   "metadata": {},
   "outputs": [
    {
     "data": {
      "text/plain": [
       "tfilter_price_max\n",
       "NULL          339370\n",
       "1073741823     28361\n",
       "130             4889\n",
       "100             4591\n",
       "67              4119\n",
       "               ...  \n",
       "829                1\n",
       "1095               1\n",
       "958                1\n",
       "1008               1\n",
       "977                1\n",
       "Name: count, Length: 861, dtype: int64"
      ]
     },
     "execution_count": 68,
     "metadata": {},
     "output_type": "execute_result"
    }
   ],
   "source": [
    "new_df['tfilter_price_max'].value_counts()"
   ]
  },
  {
   "cell_type": "code",
   "execution_count": 80,
   "metadata": {},
   "outputs": [
    {
     "name": "stderr",
     "output_type": "stream",
     "text": [
      "C:\\Users\\hp\\AppData\\Local\\Temp\\ipykernel_11708\\360997212.py:1: FutureWarning: A value is trying to be set on a copy of a DataFrame or Series through chained assignment using an inplace method.\n",
      "The behavior will change in pandas 3.0. This inplace method will never work because the intermediate object on which we are setting values always behaves as a copy.\n",
      "\n",
      "For example, when doing 'df[col].method(value, inplace=True)', try using 'df.method({col: value}, inplace=True)' or df[col] = df[col].method(value) instead, to perform the operation inplace on the original object.\n",
      "\n",
      "\n",
      "  new_df['tfilter_price_max'].replace('NULL' , '1073741823' , inplace=True)\n"
     ]
    }
   ],
   "source": [
    "new_df['tfilter_price_max'].replace('NULL' , '1073741823' , inplace=True)"
   ]
  },
  {
   "cell_type": "raw",
   "metadata": {},
   "source": [
    "As we don't have nan here so fillna will not work here and NULL is string value and most searched price so we had replaced it with\n",
    "second occuring price . Same we are doing with min price column"
   ]
  },
  {
   "cell_type": "code",
   "execution_count": 74,
   "metadata": {},
   "outputs": [
    {
     "data": {
      "text/plain": [
       "dtype('O')"
      ]
     },
     "execution_count": 74,
     "metadata": {},
     "output_type": "execute_result"
    }
   ],
   "source": [
    "new_df['tfilter_price_min'].dtypes"
   ]
  },
  {
   "cell_type": "code",
   "execution_count": 75,
   "metadata": {},
   "outputs": [
    {
     "data": {
      "text/plain": [
       "tfilter_price_min\n",
       "NULL    339370\n",
       "0       322194\n",
       "23         785\n",
       "29         559\n",
       "48         487\n",
       "         ...  \n",
       "548          1\n",
       "137          1\n",
       "323          1\n",
       "274          1\n",
       "151          1\n",
       "Name: count, Length: 176, dtype: int64"
      ]
     },
     "execution_count": 75,
     "metadata": {},
     "output_type": "execute_result"
    }
   ],
   "source": [
    "new_df['tfilter_price_min'].value_counts()"
   ]
  },
  {
   "cell_type": "code",
   "execution_count": 81,
   "metadata": {},
   "outputs": [],
   "source": [
    "new_df['tfilter_price_min'].replace('NULL' , '322194' , inplace=True)"
   ]
  },
  {
   "cell_type": "code",
   "execution_count": null,
   "metadata": {},
   "outputs": [],
   "source": []
  },
  {
   "cell_type": "code",
   "execution_count": null,
   "metadata": {},
   "outputs": [],
   "source": []
  },
  {
   "cell_type": "code",
   "execution_count": null,
   "metadata": {},
   "outputs": [],
   "source": []
  },
  {
   "cell_type": "code",
   "execution_count": null,
   "metadata": {},
   "outputs": [],
   "source": []
  },
  {
   "cell_type": "markdown",
   "metadata": {},
   "source": [
    "Analysis:"
   ]
  },
  {
   "cell_type": "code",
   "execution_count": 82,
   "metadata": {},
   "outputs": [
    {
     "data": {
      "text/html": [
       "<div>\n",
       "<style scoped>\n",
       "    .dataframe tbody tr th:only-of-type {\n",
       "        vertical-align: middle;\n",
       "    }\n",
       "\n",
       "    .dataframe tbody tr th {\n",
       "        vertical-align: top;\n",
       "    }\n",
       "\n",
       "    .dataframe thead th {\n",
       "        text-align: right;\n",
       "    }\n",
       "</style>\n",
       "<table border=\"1\" class=\"dataframe\">\n",
       "  <thead>\n",
       "    <tr style=\"text-align: right;\">\n",
       "      <th></th>\n",
       "      <th>id_guest</th>\n",
       "      <th>tid_host</th>\n",
       "      <th>tid_listing</th>\n",
       "      <th>tts_contact_at</th>\n",
       "      <th>tts_reply_at</th>\n",
       "      <th>tts_accepted_at</th>\n",
       "      <th>tts_booking_at</th>\n",
       "      <th>tds_checkin</th>\n",
       "      <th>tds_checkout</th>\n",
       "      <th>tn_guests</th>\n",
       "      <th>...</th>\n",
       "      <th>tid_user</th>\n",
       "      <th>tn_searches</th>\n",
       "      <th>tn_nights</th>\n",
       "      <th>tn_guests_min</th>\n",
       "      <th>tn_guests_max</th>\n",
       "      <th>torigin_country</th>\n",
       "      <th>tfilter_price_min</th>\n",
       "      <th>tfilter_price_max</th>\n",
       "      <th>tfilter_room_types</th>\n",
       "      <th>tfilter_neighbourhoods</th>\n",
       "    </tr>\n",
       "  </thead>\n",
       "  <tbody>\n",
       "    <tr>\n",
       "      <th>0</th>\n",
       "      <td>000dfad9-459b-4f0b-8310-3d6ab34e4f57</td>\n",
       "      <td>13bb24b8-d432-43a2-9755-5ea11b43bb69</td>\n",
       "      <td>21d2b1a2-fdc3-4b4c-a1f0-0eaf0cc02370</td>\n",
       "      <td>2014-10-04 16:26:28.0</td>\n",
       "      <td>2014-10-04 16:26:28.0</td>\n",
       "      <td>2014-10-04 16:26:28.0</td>\n",
       "      <td>2014-10-04 16:26:28.0</td>\n",
       "      <td>2014-10-13</td>\n",
       "      <td>2014-10-15</td>\n",
       "      <td>2</td>\n",
       "      <td>...</td>\n",
       "      <td>111aff61-7560-4281-8529-f64859308bb0</td>\n",
       "      <td>4</td>\n",
       "      <td>2</td>\n",
       "      <td>2</td>\n",
       "      <td>2</td>\n",
       "      <td>DE</td>\n",
       "      <td>322194</td>\n",
       "      <td>1073741823</td>\n",
       "      <td>,Entire home/apt</td>\n",
       "      <td>,City Centre</td>\n",
       "    </tr>\n",
       "    <tr>\n",
       "      <th>1</th>\n",
       "      <td>000dfad9-459b-4f0b-8310-3d6ab34e4f57</td>\n",
       "      <td>13bb24b8-d432-43a2-9755-5ea11b43bb69</td>\n",
       "      <td>21d2b1a2-fdc3-4b4c-a1f0-0eaf0cc02370</td>\n",
       "      <td>2014-10-04 16:26:28.0</td>\n",
       "      <td>2014-10-04 16:26:28.0</td>\n",
       "      <td>2014-10-04 16:26:28.0</td>\n",
       "      <td>2014-10-04 16:26:28.0</td>\n",
       "      <td>2014-10-13</td>\n",
       "      <td>2014-10-15</td>\n",
       "      <td>2</td>\n",
       "      <td>...</td>\n",
       "      <td>40984cb3-fd3b-40d8-ab2b-14151bac010d</td>\n",
       "      <td>8</td>\n",
       "      <td>2</td>\n",
       "      <td>5</td>\n",
       "      <td>5</td>\n",
       "      <td>GB</td>\n",
       "      <td>322194</td>\n",
       "      <td>1073741823</td>\n",
       "      <td>,Entire home/apt</td>\n",
       "      <td>,City Centre</td>\n",
       "    </tr>\n",
       "  </tbody>\n",
       "</table>\n",
       "<p>2 rows × 22 columns</p>\n",
       "</div>"
      ],
      "text/plain": [
       "                               id_guest                              tid_host  \\\n",
       "0  000dfad9-459b-4f0b-8310-3d6ab34e4f57  13bb24b8-d432-43a2-9755-5ea11b43bb69   \n",
       "1  000dfad9-459b-4f0b-8310-3d6ab34e4f57  13bb24b8-d432-43a2-9755-5ea11b43bb69   \n",
       "\n",
       "                            tid_listing         tts_contact_at  \\\n",
       "0  21d2b1a2-fdc3-4b4c-a1f0-0eaf0cc02370  2014-10-04 16:26:28.0   \n",
       "1  21d2b1a2-fdc3-4b4c-a1f0-0eaf0cc02370  2014-10-04 16:26:28.0   \n",
       "\n",
       "            tts_reply_at        tts_accepted_at         tts_booking_at  \\\n",
       "0  2014-10-04 16:26:28.0  2014-10-04 16:26:28.0  2014-10-04 16:26:28.0   \n",
       "1  2014-10-04 16:26:28.0  2014-10-04 16:26:28.0  2014-10-04 16:26:28.0   \n",
       "\n",
       "  tds_checkin tds_checkout tn_guests  ...  \\\n",
       "0  2014-10-13   2014-10-15         2  ...   \n",
       "1  2014-10-13   2014-10-15         2  ...   \n",
       "\n",
       "                               tid_user tn_searches tn_nights tn_guests_min  \\\n",
       "0  111aff61-7560-4281-8529-f64859308bb0           4         2             2   \n",
       "1  40984cb3-fd3b-40d8-ab2b-14151bac010d           8         2             5   \n",
       "\n",
       "  tn_guests_max torigin_country tfilter_price_min tfilter_price_max  \\\n",
       "0             2              DE            322194        1073741823   \n",
       "1             5              GB            322194        1073741823   \n",
       "\n",
       "  tfilter_room_types tfilter_neighbourhoods  \n",
       "0   ,Entire home/apt           ,City Centre  \n",
       "1   ,Entire home/apt           ,City Centre  \n",
       "\n",
       "[2 rows x 22 columns]"
      ]
     },
     "execution_count": 82,
     "metadata": {},
     "output_type": "execute_result"
    }
   ],
   "source": [
    "new_df.head(2)"
   ]
  },
  {
   "cell_type": "code",
   "execution_count": 52,
   "metadata": {},
   "outputs": [
    {
     "data": {
      "text/plain": [
       "tfilter_room_types\n",
       ",Entire home/apt                                                                                                                           439166\n",
       "Entire home/apt                                                                                                                             77945\n",
       ",Private room                                                                                                                               38820\n",
       "Private room                                                                                                                                24373\n",
       ",Entire home/apt,Entire home/apt,Private room                                                                                               12736\n",
       "                                                                                                                                            ...  \n",
       "Entire home/apt,Private room,Entire home/apt,Private room,Shared room,Private room                                                              2\n",
       ",Entire home/apt,Entire home/apt,Private room,Shared room,Private room                                                                          2\n",
       "Entire home/apt,Entire home/apt,Private room,Entire home/apt,Private room,Shared room,Private room,Private room,Shared room,Shared room         2\n",
       ",Entire home/apt,Private room,Private room,Private room,Shared room,Shared room                                                                 1\n",
       ",Entire home/apt,Private room,Private room,Entire home/apt,Private room,Shared room,Shared room                                                 1\n",
       "Name: count, Length: 143, dtype: int64"
      ]
     },
     "execution_count": 52,
     "metadata": {},
     "output_type": "execute_result"
    }
   ],
   "source": [
    "# customer max/min searching room type\n",
    "a = new_df['tfilter_room_types'].value_counts()"
   ]
  },
  {
   "cell_type": "raw",
   "metadata": {},
   "source": [
    "It seems Entire home/apt is the maximum room type search and Entire home/apt, Private room, Private room, Entire home/apt, Private room, Shared room, Shared room  are minimum ."
   ]
  },
  {
   "cell_type": "code",
   "execution_count": 83,
   "metadata": {},
   "outputs": [
    {
     "data": {
      "text/plain": [
       "tfilter_price_max\n",
       "1073741823    367731\n",
       "130             4889\n",
       "100             4591\n",
       "67              4119\n",
       "80              4082\n",
       "               ...  \n",
       "625                1\n",
       "790                1\n",
       "1035               1\n",
       "885                1\n",
       "977                1\n",
       "Name: count, Length: 860, dtype: int64"
      ]
     },
     "execution_count": 83,
     "metadata": {},
     "output_type": "execute_result"
    }
   ],
   "source": [
    "new_df['tfilter_price_max'].value_counts()"
   ]
  },
  {
   "cell_type": "code",
   "execution_count": 84,
   "metadata": {},
   "outputs": [
    {
     "data": {
      "text/plain": [
       "tfilter_price_min\n",
       "322194    339370\n",
       "0         322194\n",
       "23           785\n",
       "29           559\n",
       "48           487\n",
       "           ...  \n",
       "548            1\n",
       "137            1\n",
       "323            1\n",
       "274            1\n",
       "151            1\n",
       "Name: count, Length: 176, dtype: int64"
      ]
     },
     "execution_count": 84,
     "metadata": {},
     "output_type": "execute_result"
    }
   ],
   "source": [
    "new_df['tfilter_price_min'].value_counts()"
   ]
  },
  {
   "cell_type": "code",
   "execution_count": null,
   "metadata": {},
   "outputs": [],
   "source": []
  },
  {
   "cell_type": "code",
   "execution_count": null,
   "metadata": {},
   "outputs": [],
   "source": []
  },
  {
   "cell_type": "code",
   "execution_count": null,
   "metadata": {},
   "outputs": [],
   "source": []
  },
  {
   "cell_type": "code",
   "execution_count": null,
   "metadata": {},
   "outputs": [],
   "source": []
  },
  {
   "cell_type": "code",
   "execution_count": null,
   "metadata": {},
   "outputs": [],
   "source": []
  },
  {
   "cell_type": "code",
   "execution_count": null,
   "metadata": {},
   "outputs": [],
   "source": []
  },
  {
   "cell_type": "code",
   "execution_count": null,
   "metadata": {},
   "outputs": [],
   "source": []
  }
 ],
 "metadata": {
  "colab": {
   "provenance": []
  },
  "kernelspec": {
   "display_name": "Python 3 (ipykernel)",
   "language": "python",
   "name": "python3"
  },
  "language_info": {
   "codemirror_mode": {
    "name": "ipython",
    "version": 3
   },
   "file_extension": ".py",
   "mimetype": "text/x-python",
   "name": "python",
   "nbconvert_exporter": "python",
   "pygments_lexer": "ipython3",
   "version": "3.12.3"
  }
 },
 "nbformat": 4,
 "nbformat_minor": 4
}
